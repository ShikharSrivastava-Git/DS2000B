{
 "cells": [
  {
   "attachments": {},
   "cell_type": "markdown",
   "metadata": {},
   "source": [
    "# Assignment 5: Randomization test 2\n",
    "## Learning Outcomes\n",
    "We will continue our last homework on the use of randomization and Monte-Carlo simulation tests to determine whether a specific effect is statistically significant. Randomization and simulation tests are universal and powerful way to do this, and form an essential part of the toolkit of any Data Scientist. \n",
    "## Problem Description\n",
    "In Task 1 & 2, we continue with the movie dataset. The first two task build on the last homework and run randomization tests with two new test statistics. You should re-use the randomization test function that you wrote for the last homework – but the new modified version needs to be included in the submission. In Task 3 you are asked to program a simple monte-Carlo simulation test.  \n",
    "## Preliminaries\n",
    "Set up the environment by importing pandas, numpy, and matplotlib. Load the movie data set into a pandas data frame. **IMPORTANT: Download and used the new movie data set that comes with this assignment on OWL**. For older versions, you my need to configure your notebook such that plots are shown inline (see Assignment 2). "
   ]
  },
  {
   "cell_type": "code",
   "execution_count": 51,
   "metadata": {},
   "outputs": [
    {
     "data": {
      "text/plain": "   Unnamed: 0      boxoff    prodcost  dirIncome dirGender  year  month  \\\n0           0   88.648583   44.742936   1.143234      male  2012      3   \n1           1  145.334924   38.835516   3.393535    female  2014     11   \n2           2  238.265684   29.532283   2.418883      male  2015      6   \n3           3  212.714742  157.111899   2.034115      male  2014     10   \n4           4  120.175461   30.547155   0.963219    female  2012      1   \n\n       genre  numTheatres  \n0     comedy          139  \n1      drama          213  \n2      other          100  \n3  adventure          436  \n4     comedy          115  ",
      "text/html": "<div>\n<style scoped>\n    .dataframe tbody tr th:only-of-type {\n        vertical-align: middle;\n    }\n\n    .dataframe tbody tr th {\n        vertical-align: top;\n    }\n\n    .dataframe thead th {\n        text-align: right;\n    }\n</style>\n<table border=\"1\" class=\"dataframe\">\n  <thead>\n    <tr style=\"text-align: right;\">\n      <th></th>\n      <th>Unnamed: 0</th>\n      <th>boxoff</th>\n      <th>prodcost</th>\n      <th>dirIncome</th>\n      <th>dirGender</th>\n      <th>year</th>\n      <th>month</th>\n      <th>genre</th>\n      <th>numTheatres</th>\n    </tr>\n  </thead>\n  <tbody>\n    <tr>\n      <th>0</th>\n      <td>0</td>\n      <td>88.648583</td>\n      <td>44.742936</td>\n      <td>1.143234</td>\n      <td>male</td>\n      <td>2012</td>\n      <td>3</td>\n      <td>comedy</td>\n      <td>139</td>\n    </tr>\n    <tr>\n      <th>1</th>\n      <td>1</td>\n      <td>145.334924</td>\n      <td>38.835516</td>\n      <td>3.393535</td>\n      <td>female</td>\n      <td>2014</td>\n      <td>11</td>\n      <td>drama</td>\n      <td>213</td>\n    </tr>\n    <tr>\n      <th>2</th>\n      <td>2</td>\n      <td>238.265684</td>\n      <td>29.532283</td>\n      <td>2.418883</td>\n      <td>male</td>\n      <td>2015</td>\n      <td>6</td>\n      <td>other</td>\n      <td>100</td>\n    </tr>\n    <tr>\n      <th>3</th>\n      <td>3</td>\n      <td>212.714742</td>\n      <td>157.111899</td>\n      <td>2.034115</td>\n      <td>male</td>\n      <td>2014</td>\n      <td>10</td>\n      <td>adventure</td>\n      <td>436</td>\n    </tr>\n    <tr>\n      <th>4</th>\n      <td>4</td>\n      <td>120.175461</td>\n      <td>30.547155</td>\n      <td>0.963219</td>\n      <td>female</td>\n      <td>2012</td>\n      <td>1</td>\n      <td>comedy</td>\n      <td>115</td>\n    </tr>\n  </tbody>\n</table>\n</div>"
     },
     "execution_count": 51,
     "metadata": {},
     "output_type": "execute_result"
    }
   ],
   "source": [
    "import matplotlib\n",
    "import matplotlib.pyplot as plt\n",
    "import numpy as np\n",
    "import pandas as pd\n",
    "import scipy.stats as stats\n",
    "from scipy.stats.contingency import expected_freq\n",
    "from scipy.stats import chi2_contingency\n",
    "# Maybe necessary: \n",
    "matplotlib.use('TkAgg')\n",
    "%matplotlib inline\n",
    "\n",
    "D = pd.read_csv('movieDataset.csv')\n",
    "D.head()\n"
   ]
  },
  {
   "attachments": {},
   "cell_type": "markdown",
   "metadata": {},
   "source": [
    "## TASK 1: Chi-square test of independence (40pts)\n",
    "To test whether two discrete variables interact with each other, you can perform the Chi-sqaure test. The Chi-square statistic measures the deviation of the observed cell counts in a contingency table to the expected counts (see lecture).  \n",
    "### Question 1: Null-hypothesis (5pts)\n",
    "We want to test the hypothesis that there is a systematic relationship between director Gender and film genre. Please formulate the corresponding Null-hypothesis and Alternative hypothesis, and spell out what they predict in terms of the observed and expected cell counts."
   ]
  },
  {
   "cell_type": "markdown",
   "metadata": {},
   "source": [
    "Null Hypothesis: There is no systematic relationship between director gender and film genre.\n",
    "\n",
    "Alternative Hypothesis: There is a systematic relationship between director gender and film genre.\n",
    "\n",
    "The null hypothesis predicts that the observed cell counts in a contingency table of director gender and film genre will not differ significantly from the expected cell counts if there is no relationship between the two variables. The expected cell counts are calculated based on the assumption that the distribution of director gender and film genre is independent of each other.\n",
    "\n",
    "The alternative hypothesis predicts that the observed cell counts will differ significantly from the expected cell counts if there is a systematic relationship between director gender and film genre. The expected cell counts are calculated based on the assumption that the distribution of director gender and film genre is dependent on each other, meaning that certain genres may be more likely to be directed by a particular gender."
   ]
  },
  {
   "cell_type": "markdown",
   "metadata": {},
   "source": [
    "### Question 2: Expected frequencies (10pts)\n",
    "From the table of the observed frequencies of genre / director Gender, generate a table that shows the expected frequencies if genre and gender were independent. The Marginal counts in the table should stay unchanged. "
   ]
  },
  {
   "cell_type": "code",
   "execution_count": 52,
   "metadata": {},
   "outputs": [
    {
     "data": {
      "text/plain": "dirGender  female  male\ngenre                  \naction          9    48\nadventure       6    58\ncomedy         13    35\ndrama           5    31\nother           4    41",
      "text/html": "<div>\n<style scoped>\n    .dataframe tbody tr th:only-of-type {\n        vertical-align: middle;\n    }\n\n    .dataframe tbody tr th {\n        vertical-align: top;\n    }\n\n    .dataframe thead th {\n        text-align: right;\n    }\n</style>\n<table border=\"1\" class=\"dataframe\">\n  <thead>\n    <tr style=\"text-align: right;\">\n      <th>dirGender</th>\n      <th>female</th>\n      <th>male</th>\n    </tr>\n    <tr>\n      <th>genre</th>\n      <th></th>\n      <th></th>\n    </tr>\n  </thead>\n  <tbody>\n    <tr>\n      <th>action</th>\n      <td>9</td>\n      <td>48</td>\n    </tr>\n    <tr>\n      <th>adventure</th>\n      <td>6</td>\n      <td>58</td>\n    </tr>\n    <tr>\n      <th>comedy</th>\n      <td>13</td>\n      <td>35</td>\n    </tr>\n    <tr>\n      <th>drama</th>\n      <td>5</td>\n      <td>31</td>\n    </tr>\n    <tr>\n      <th>other</th>\n      <td>4</td>\n      <td>41</td>\n    </tr>\n  </tbody>\n</table>\n</div>"
     },
     "metadata": {},
     "output_type": "display_data"
    },
    {
     "data": {
      "text/plain": "dirGender  female    male\ngenre                    \naction      8.436  48.564\nadventure   9.472  54.528\ncomedy      7.104  40.896\ndrama       5.328  30.672\nother       6.660  38.340",
      "text/html": "<div>\n<style scoped>\n    .dataframe tbody tr th:only-of-type {\n        vertical-align: middle;\n    }\n\n    .dataframe tbody tr th {\n        vertical-align: top;\n    }\n\n    .dataframe thead th {\n        text-align: right;\n    }\n</style>\n<table border=\"1\" class=\"dataframe\">\n  <thead>\n    <tr style=\"text-align: right;\">\n      <th>dirGender</th>\n      <th>female</th>\n      <th>male</th>\n    </tr>\n    <tr>\n      <th>genre</th>\n      <th></th>\n      <th></th>\n    </tr>\n  </thead>\n  <tbody>\n    <tr>\n      <th>action</th>\n      <td>8.436</td>\n      <td>48.564</td>\n    </tr>\n    <tr>\n      <th>adventure</th>\n      <td>9.472</td>\n      <td>54.528</td>\n    </tr>\n    <tr>\n      <th>comedy</th>\n      <td>7.104</td>\n      <td>40.896</td>\n    </tr>\n    <tr>\n      <th>drama</th>\n      <td>5.328</td>\n      <td>30.672</td>\n    </tr>\n    <tr>\n      <th>other</th>\n      <td>6.660</td>\n      <td>38.340</td>\n    </tr>\n  </tbody>\n</table>\n</div>"
     },
     "execution_count": 52,
     "metadata": {},
     "output_type": "execute_result"
    }
   ],
   "source": [
    "D.columns\n",
    "table = pd.crosstab(D[\"genre\"],D[\"dirGender\"])\n",
    "\n",
    "tableArray = np.array(table)\n",
    "display(table)\n",
    "row_sums = np.sum(tableArray, axis=1)\n",
    "\n",
    "col_sums = np.sum(tableArray, axis=0)\n",
    "expected_frequencies = np.outer(row_sums, col_sums) / np.sum(tableArray)\n",
    "expectedTable = pd.DataFrame(expected_frequencies)\n",
    "\n",
    "expectedTable.columns = table.columns\n",
    "\n",
    "# # set the index to be the same as table_array\n",
    "expectedTable.index = table.index\n",
    "\n",
    "expectedTable\n"
   ]
  },
  {
   "attachments": {},
   "cell_type": "markdown",
   "metadata": {},
   "source": [
    "### Question 3: Chi-square (10pts)\n",
    "Create a function that takes the data frame as input and calculates a statistics of the overall deviation between expected and observed frequencies: \n",
    "$χ^2 = \\sum_i(O_i-E_i)^2/E_i)$ \n",
    "\n",
    "Where $O_i$ is the observed frequency for cell $i$, $E_i$ is the expected frequency for cell $i$, assuming independence of gender and genre. The sum is to be taken over all 10 cells. This test-statistic is called the Chi-square test of independence.\n",
    "\n",
    "The function should take a data frame and return the Chi-square value. Make sure that the function performs all the required computations - it should work without you having to run the code from Question #2 first. \n",
    "\n",
    "Report the value of this statistic for the real data. \n",
    "\n",
    "Extra challenge: Make your code more flexible by not always using ``genre`` and ``dirGender`` to make the crosstab, but by providing the name of the row and column variable as an input (not required for full points).\n"
   ]
  },
  {
   "cell_type": "code",
   "execution_count": 53,
   "metadata": {},
   "outputs": [
    {
     "name": "stdout",
     "output_type": "stream",
     "text": [
      "Chi-square value: 8.552\n"
     ]
    }
   ],
   "source": [
    "def chi_square(data, row_var, col_var):\n",
    "    crosstab = pd.crosstab(index=data[row_var], columns=data[col_var])\n",
    "    observed = crosstab.values\n",
    "    no_of_rows = observed.shape[0]\n",
    "    no_of_cols = observed.shape[1]\n",
    "    chi_square = ((observed - expected_frequencies)**2 / expected_frequencies).sum()\n",
    "    return round(chi_square, 3)\n",
    "data = D\n",
    "row_var = \"genre\"\n",
    "col_var = \"dirGender\"\n",
    "chi_square_value = chi_square(data, row_var, col_var)\n",
    "print(\"Chi-square value:\", chi_square_value)\n"
   ]
  },
  {
   "cell_type": "markdown",
   "source": [],
   "metadata": {
    "collapsed": false
   }
  },
  {
   "cell_type": "markdown",
   "metadata": {},
   "source": [
    "### Question 4: Randomization with flexible input arguments (5pts)\n",
    "Rewrite the randomization function from the last homework, so it it becomes more versatile by adding additional input arguments that determines the behavior of the routine. \n",
    "\n",
    "- The first argument should still be a dataframe (as before)\n",
    "- The second input argument should be a function that computes the test statistics. All test-statistic functions are assumed to take the data frame as the first and only input. \n",
    "- The third input argument is the name of the dataframe column that is being shuffled. \n",
    "- An optional input argument: the number of iterations (default=500)\n",
    "- An optional input argument: the number of sides of the test (1 or 2; default = 1). If the test is two-sided, then count the number of cases where the absolute value of the test statistic (np.abolute) is larger or equal to the real test statistic.\n",
    "- An optional input argument: The number of bins for plotting the histogram \n"
   ]
  },
  {
   "cell_type": "code",
   "execution_count": 54,
   "metadata": {},
   "outputs": [
    {
     "data": {
      "text/plain": "<Figure size 640x480 with 1 Axes>",
      "image/png": "[encoded data removed]"
     },
     "metadata": {},
     "output_type": "display_data"
    },
    {
     "data": {
      "text/plain": "0.012"
     },
     "execution_count": 54,
     "metadata": {},
     "output_type": "execute_result"
    }
   ],
   "source": [
    "def test_statistic(D):\n",
    "    table = pd.crosstab(D['dirGender'], D['genre'], margins = True)\n",
    "\n",
    "    female_prob = table['comedy']['female']/table['All']['female']\n",
    "    male_prob = table['comedy']['male']/table['All']['male']\n",
    "\n",
    "    difference = female_prob - male_prob\n",
    "\n",
    "    return round(difference,3)\n",
    "\n",
    "def permuteColumn(D, col):\n",
    "    permuted_col = np.random.permutation(D[col])\n",
    "    D[col] = permuted_col\n",
    "    return D\n",
    "\n",
    "def permutation_test(D, test_statistic, shuffle_column, numIter, sides=1,bins=None):\n",
    "    countList = []\n",
    "    original_stat = test_statistic(D)\n",
    "\n",
    "    for i in range(numIter):\n",
    "        permuted_df = permuteColumn(D.copy(), shuffle_column)\n",
    "        test_stat = test_statistic(permuted_df)\n",
    "        countList.append(test_stat)\n",
    "\n",
    "    if sides == 1:\n",
    "        p = np.mean(countList >= original_stat)\n",
    "    elif sides == 2:\n",
    "        p = np.mean(np.abs(countList) >= np.abs(original_stat))\n",
    "\n",
    "    if bins is not None:\n",
    "        plt.hist(countList, bins=bins)\n",
    "        plt.axvline(x=original_stat, color='red')\n",
    "        plt.show()\n",
    "\n",
    "    return p\n",
    "\n",
    "\n",
    "permutation_test(D, test_statistic, \"dirGender\", 500, 1,bins=10)"
   ]
  },
  {
   "cell_type": "markdown",
   "metadata": {},
   "source": [
    "### Question 5: Randomization test (5pts)\n",
    "Perform a randomization test for the Chi-square test of independence. Your function should plot the histogram and report the p-value."
   ]
  },
  {
   "cell_type": "code",
   "execution_count": 55,
   "metadata": {},
   "outputs": [
    {
     "data": {
      "text/plain": "<Figure size 640x480 with 1 Axes>",
      "image/png": "[encoded data removed]"
     },
     "metadata": {},
     "output_type": "display_data"
    },
    {
     "name": "stdout",
     "output_type": "stream",
     "text": [
      "p-value: 0.039603960396039604\n"
     ]
    }
   ],
   "source": [
    "def chi_square(data, row_var, col_var):\n",
    "    crosstab = pd.crosstab(index=data[row_var], columns=data[col_var])\n",
    "    observed = crosstab.values\n",
    "    chi2, p, dof, expected = chi2_contingency(observed)\n",
    "    return round(chi2, 3), p\n",
    "\n",
    "def randomization_test(data, row_var, col_var, num_permutations=100):\n",
    "    observed_chi2, p_value = chi_square(data, row_var, col_var)\n",
    "    random_chi2_values = []\n",
    "    for i in range(num_permutations):\n",
    "        data[col_var] = np.random.permutation(data[col_var])\n",
    "        random_chi2, _ = chi_square(data, row_var, col_var)\n",
    "        random_chi2_values.append(random_chi2)\n",
    "    random_chi2_values = np.array(random_chi2_values)\n",
    "    greater_than_observed = np.sum(random_chi2_values >= observed_chi2)\n",
    "    p_value = (greater_than_observed + 1) / (num_permutations + 1)\n",
    "    plt.hist(random_chi2_values, bins=30, edgecolor='black')\n",
    "    plt.axvline(x=observed_chi2, color='red')\n",
    "    plt.title(\"Histogram of Random Chi-square Values\")\n",
    "    plt.xlabel(\"Chi-square Value\")\n",
    "    plt.ylabel(\"Frequency\")\n",
    "    plt.show()\n",
    "    return p_value\n",
    "data = D\n",
    "row_var = \"genre\"\n",
    "col_var = \"dirGender\"\n",
    "p_value = randomization_test(data, row_var, col_var, num_permutations= 100)\n",
    "print(\"p-value:\", p_value)"
   ]
  },
  {
   "cell_type": "markdown",
   "metadata": {},
   "source": [
    "### Question 6: Conclusion (5pts)\n",
    "Written response: Based on the results, what can you conclude from this test? "
   ]
  },
  {
   "attachments": {},
   "cell_type": "markdown",
   "metadata": {},
   "source": [
    "A p-value of 0.039 suggests that there is sufficient evidence to reject the null hypothesis that there is no difference in the mean outcome between two groups. Therefore, we can conclude that the observed difference in the mean outcome between the two groups is statistically significant, and we reject the null hypothesis.\n",
    "\n",
    "This result indicates that there is likely a true difference in the population mean outcome between the two groups, and it is unlikely that this observed difference is due to chance or random variation. However, it is important to note that a statistically significant result does not necessarily mean that the observed difference is practically significant or meaningful. Further investigation and analysis may be needed to determine."
   ]
  },
  {
   "cell_type": "markdown",
   "metadata": {},
   "source": [
    "# TASK 2: Randomization test for mean differences (25pts)\n",
    "In this task we will test the hypothesis that male and female directors differ in their annual income. Note that the hypothesis is undirected, meaning it could mean either that men earn more than women, or that women earn more than men."
   ]
  },
  {
   "cell_type": "markdown",
   "metadata": {},
   "source": [
    "### Question 1: Null hypothesis (5pts)\n",
    "Formulate the Null-hypothesis. "
   ]
  },
  {
   "attachments": {},
   "cell_type": "markdown",
   "metadata": {},
   "source": [
    "The null hypothesis for this undirected hypothesis is:\n",
    "\n",
    "There is no significant difference in the annual income of male and female directors."
   ]
  },
  {
   "cell_type": "markdown",
   "metadata": {},
   "source": [
    "### Question 2: Difference of means (8pts)\n",
    "Write a function that calculates and returns the difference in director salaries depending on the gender (male average income – female average income). Report the value. "
   ]
  },
  {
   "cell_type": "code",
   "execution_count": 56,
   "metadata": {},
   "outputs": [
    {
     "data": {
      "text/plain": "0.0"
     },
     "execution_count": 56,
     "metadata": {},
     "output_type": "execute_result"
    }
   ],
   "source": [
    "import pandas as pd\n",
    "\n",
    "def director_income_difference(df):\n",
    "    male_avg_income = df[df['dirGender'] == 'male']['dirIncome'].mean()\n",
    "    female_avg_income = df[df['dirGender'] == 'male']['dirIncome'].mean()\n",
    "    return male_avg_income - female_avg_income\n",
    "\n",
    "director_income_difference(D)\n",
    "\n"
   ]
  },
  {
   "cell_type": "markdown",
   "metadata": {
    "collapsed": true
   },
   "source": [
    "### Question 3:  Randomization test (7pts)\n",
    "Use your randomization test function to perform a randomization test to determine whether the reported difference is statistical significant. Plot a histogram of the null-distribution and the real value. Report the p-value for the two-sided test."
   ]
  },
  {
   "cell_type": "code",
   "execution_count": 57,
   "metadata": {},
   "outputs": [
    {
     "data": {
      "text/plain": "<Figure size 640x480 with 1 Axes>",
      "image/png": "[encoded data removed]"
     },
     "metadata": {},
     "output_type": "display_data"
    },
    {
     "name": "stdout",
     "output_type": "stream",
     "text": [
      "p-value: 1.000\n"
     ]
    }
   ],
   "source": [
    "def randomization_test(director_data):\n",
    "    male_salaries = director_data[director_data['dirGender'] == 'Male']['dirIncome']\n",
    "    female_salaries = director_data[director_data['dirGender'] == 'Female']['dirIncome']\n",
    "    observed_diff = director_income_difference(D)\n",
    "    n_iters = 10000\n",
    "    diffs = np.zeros(n_iters)\n",
    "    for i in range(n_iters):\n",
    "        combined = np.concatenate([male_salaries, female_salaries])\n",
    "        np.random.shuffle(combined)\n",
    "        male_perm = D[D['dirGender'] == 'male']['dirIncome'].mean()\n",
    "        female_perm =  D[D['dirGender'] == 'male']['dirIncome'].mean()\n",
    "        diffs[i] = np.mean(male_perm) - np.mean(female_perm)\n",
    "\n",
    "    p_value = (np.abs(diffs) >= np.abs(observed_diff)).mean()\n",
    "    return diffs, observed_diff, p_value\n",
    "\n",
    "diffs, observed_diff, p_value = randomization_test(D)\n",
    "\n",
    "plt.hist(diffs, bins=30, density=True)\n",
    "plt.axvline(observed_diff, color='red', label='Observed difference')\n",
    "plt.xlabel('Difference in salary ($)')\n",
    "plt.ylabel('Density')\n",
    "plt.legend()\n",
    "plt.show()\n",
    "\n",
    "print(f'p-value: {p_value:.3f}')"
   ]
  },
  {
   "cell_type": "markdown",
   "metadata": {},
   "source": [
    "### Question 4: Conclusion (5pts)\n",
    "What do you conclude about the relationship between gender and salary? What can you conclude about the claim that there is gender discrimination in the American film industry?  \n",
    "\n",
    "Solution\n",
    "A p-value of 1 suggests that there is no evidence to reject the null hypothesis that there is no difference in salary between male and female directors. Therefore, we cannot conclude that there is a statistically significant difference in salary between male and female directors, and we fail to reject the null hypothesis.\n",
    "\n",
    "This result indicates that there is no statistical evidence to support the claim that there is gender discrimination in the American film industry with respect to director salaries. However, it is important to note that this analysis alone does not provide conclusive evidence that there is no discrimination. Other factors not considered in this analysis, such as experience, education, or negotiation skills, may also play a role in explaining the observed difference in salary between male and female directors.\n",
    "\n",
    "Therefore, further investigation and analysis may be needed to fully assess whether or not there is gender discrimination in the American film industry with respect to director salaries."
   ]
  },
  {
   "attachments": {},
   "cell_type": "markdown",
   "metadata": {},
   "source": []
  },
  {
   "cell_type": "markdown",
   "metadata": {
    "collapsed": true
   },
   "source": [
    "# Task 3: Monte-Carlo simulation test (35pt)\n",
    "People providing an organ for donation sometimes seek help from a medical consultant. These consultants assist the patient in all aspects of the surgery. Patients might choose a consultant based in part on the historical complication rate of the consultant's clients. Consultant R tries to attract patients by noting the average complication rate for liver donor surgeries in the US is about 10%, but her clients have had only 3 complications in the 62 liver donor surgeries she has facilitated. She claims this is strong evidence that her work meaningfully contributes to reducing complications (and therefore she should be hired!).\n",
    "### Question 1: Monte Carlo simulation (15pts)\n",
    "Write a function (monteCarloSim) that simulates coin tossing. On each trial, the function should produce a specific number (N) of coin tosses and record the number of successes (heads). It should repeat this experiment numIter number of times. The inputs to the function should be a) probability of a success on each coin toss, b) the number of coin tosses per trial (N) and c) the number of trials. The function should return an np.array(range(numIter)) that holds the recorded number of heads for all trials (see lecture handout for tips)."
   ]
  },
  {
   "cell_type": "code",
   "execution_count": 59,
   "metadata": {},
   "outputs": [],
   "source": [
    "def monteCarloSim(p, N, numIter):\n",
    "    heads = np.random.binomial(N, p, numIter)\n",
    "    return heads"
   ]
  },
  {
   "attachments": {},
   "cell_type": "markdown",
   "metadata": {},
   "source": [
    "### Question 2: Monte Carlo Test (15pts)\n",
    "Write a function (monteCarloTest) that uses monteCarloSim (Question 1) to simulate 2000 trials of a N coin tosses. \n",
    "The function should take as input arguments: \n",
    "\n",
    "* `H0prob`: The probability of heads under the Null hypothesis\n",
    "* `N`: The number of coin throws per trial \n",
    "* `numHeads`: The number of observed coin tosses.  \n",
    "\n",
    "After getting the simulation result from `monteCarloSim`, the function should plot a histogram of the recorded number of heads, and mark the real measured number (`numHeads`) with a vertical line. The function should print out the probability that the simulated number of heads is smaller than or equal to the measured number of heads.  \n",
    "\n",
    "Use the function to evaluate the medical advisor example from the lecture: Determine the probability to get 3 complications in 62 cases if the probability of a complication in the population is known to be 10%. "
   ]
  },
  {
   "cell_type": "code",
   "execution_count": 60,
   "outputs": [],
   "source": [
    "def monteCarloSim(a, N, p, numIter):\n",
    "    result = np.random.choice(a = a, size = (numIter, N), replace = True, p = p)\n",
    "    return np.sum(result, axis = 1)\n",
    "def monteCarloTest(H0prob, N, numHeads, numIter = 2000):\n",
    "    a = [0, 1]\n",
    "    p = [1 - H0prob, H0prob]\n",
    "    sim = monteCarloSim(a = a, N = N, p = p, numIter = numIter)\n",
    "\n",
    "    plt.hist(sim, bins = np.arange(N+1)-0.5, edgecolor = 'black')\n",
    "    plt.axvline(numHeads, color = 'red')\n",
    "    plt.show()\n",
    "\n",
    "    p_value = np.mean(sim <= numHeads)\n",
    "    print('The p-value is:', p_value)#%% md\n"
   ],
   "metadata": {
    "collapsed": false
   }
  },
  {
   "cell_type": "code",
   "execution_count": 61,
   "outputs": [
    {
     "data": {
      "text/plain": "<Figure size 640x480 with 1 Axes>",
      "image/png": "[encoded data removed]"
     },
     "metadata": {},
     "output_type": "display_data"
    },
    {
     "name": "stdout",
     "output_type": "stream",
     "text": [
      "The p-value is: 0.1175\n"
     ]
    }
   ],
   "source": [
    "monteCarloTest(H0prob = 0.1, N = 62, numHeads = 3)"
   ],
   "metadata": {
    "collapsed": false
   }
  },
  {
   "cell_type": "markdown",
   "source": [
    "### Question 4: Conclusion (5pts)\n",
    "What do you conclude about the relationship between gender and salary? What can you conclude about the claim that there is gender discrimination in the American film industry?\n"
   ],
   "metadata": {
    "collapsed": false
   }
  },
  {
   "cell_type": "markdown",
   "source": [
    "A p-value of 0.1175 suggests that there is not enough evidence to reject the null hypothesis that there is no difference in salary between male and female directors. Therefore, we cannot conclude that the observed difference in salary between male and female directors is statistically significant, and we fail to reject the null hypothesis.\n",
    "\n",
    "While the difference in average salary between male and female directors is not statistically significant based on this analysis, it is worth noting that the p-value is relatively close to the significance level of 0.05. This suggests that there may be a small difference in salary between male and female directors that we were not able to detect with this analysis. It is also possible that other factors not considered in this analysis, such as experience, education, or negotiation skills, may play a role in explaining the observed difference in salary between male and female directors.\n",
    "\n",
    "Based on this analysis alone, we cannot conclude whether or not there is gender discrimination in the American film industry. However, the lack of statistical significance does suggest that it is not clear whether there is discrimination or not, and further investigation may be needed to explore this question in more detail."
   ],
   "metadata": {
    "collapsed": false
   }
  },
  {
   "attachments": {},
   "cell_type": "markdown",
   "metadata": {},
   "source": []
  }
 ],
 "metadata": {
  "kernelspec": {
   "display_name": "base",
   "language": "python",
   "name": "python3"
  },
  "language_info": {
   "codemirror_mode": {
    "name": "ipython",
    "version": 3
   },
   "file_extension": ".py",
   "mimetype": "text/x-python",
   "name": "python",
   "nbconvert_exporter": "python",
   "pygments_lexer": "ipython3",
   "version": "3.8.5"
  },
  "vscode": {
   "interpreter": {
    "hash": "82c9595c6ac3df5bed1366f4aa85323e4ec1b3448185f6be6e163d2b6e222f49"
   }
  }
 },
 "nbformat": 4,
 "nbformat_minor": 1
}
