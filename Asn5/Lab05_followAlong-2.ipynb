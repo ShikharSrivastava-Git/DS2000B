{
 "cells": [
  {
   "cell_type": "markdown",
   "metadata": {},
   "source": [
    "# Lab Tutorial 05\n",
    "## Learning Outcomes\n",
    "In this tutorial, again we will be using the randomization function we defined for the previous assignment. We will also learn to calculate new test statistics. Also, we will be playing around with p-values!\n",
    "\n",
    "We'll be using the student performance dataset again!"
   ]
  },
  {
   "cell_type": "markdown",
   "metadata": {},
   "source": [
    "# Import packages and load in the dataset"
   ]
  },
  {
   "cell_type": "code",
   "execution_count": 4,
   "metadata": {},
   "outputs": [],
   "source": [
    "import matplotlib\n",
    "matplotlib.use('TkAgg')\n",
    "import matplotlib.pyplot as plt \n",
    "%matplotlib inline\n",
    "\n",
    "import numpy as np\n",
    "import pandas as pd"
   ]
  },
  {
   "cell_type": "code",
   "execution_count": 5,
   "metadata": {},
   "outputs": [
    {
     "data": {
      "text/html": [
       "<div>\n",
       "<style scoped>\n",
       "    .dataframe tbody tr th:only-of-type {\n",
       "        vertical-align: middle;\n",
       "    }\n",
       "\n",
       "    .dataframe tbody tr th {\n",
       "        vertical-align: top;\n",
       "    }\n",
       "\n",
       "    .dataframe thead th {\n",
       "        text-align: right;\n",
       "    }\n",
       "</style>\n",
       "<table border=\"1\" class=\"dataframe\">\n",
       "  <thead>\n",
       "    <tr style=\"text-align: right;\">\n",
       "      <th></th>\n",
       "      <th>gender</th>\n",
       "      <th>race/ethnicity</th>\n",
       "      <th>parental level of education</th>\n",
       "      <th>lunch</th>\n",
       "      <th>test preparation course</th>\n",
       "      <th>math score</th>\n",
       "      <th>reading score</th>\n",
       "      <th>writing score</th>\n",
       "    </tr>\n",
       "  </thead>\n",
       "  <tbody>\n",
       "    <tr>\n",
       "      <th>0</th>\n",
       "      <td>female</td>\n",
       "      <td>group B</td>\n",
       "      <td>bachelor's degree</td>\n",
       "      <td>standard</td>\n",
       "      <td>none</td>\n",
       "      <td>72</td>\n",
       "      <td>72</td>\n",
       "      <td>74</td>\n",
       "    </tr>\n",
       "    <tr>\n",
       "      <th>1</th>\n",
       "      <td>female</td>\n",
       "      <td>group C</td>\n",
       "      <td>some college</td>\n",
       "      <td>standard</td>\n",
       "      <td>completed</td>\n",
       "      <td>69</td>\n",
       "      <td>90</td>\n",
       "      <td>88</td>\n",
       "    </tr>\n",
       "    <tr>\n",
       "      <th>2</th>\n",
       "      <td>female</td>\n",
       "      <td>group B</td>\n",
       "      <td>master's degree</td>\n",
       "      <td>standard</td>\n",
       "      <td>none</td>\n",
       "      <td>90</td>\n",
       "      <td>95</td>\n",
       "      <td>93</td>\n",
       "    </tr>\n",
       "    <tr>\n",
       "      <th>3</th>\n",
       "      <td>male</td>\n",
       "      <td>group A</td>\n",
       "      <td>associate's degree</td>\n",
       "      <td>free/reduced</td>\n",
       "      <td>none</td>\n",
       "      <td>47</td>\n",
       "      <td>57</td>\n",
       "      <td>44</td>\n",
       "    </tr>\n",
       "    <tr>\n",
       "      <th>4</th>\n",
       "      <td>male</td>\n",
       "      <td>group C</td>\n",
       "      <td>some college</td>\n",
       "      <td>standard</td>\n",
       "      <td>none</td>\n",
       "      <td>76</td>\n",
       "      <td>78</td>\n",
       "      <td>75</td>\n",
       "    </tr>\n",
       "  </tbody>\n",
       "</table>\n",
       "</div>"
      ],
      "text/plain": [
       "   gender race/ethnicity parental level of education         lunch  \\\n",
       "0  female        group B           bachelor's degree      standard   \n",
       "1  female        group C                some college      standard   \n",
       "2  female        group B             master's degree      standard   \n",
       "3    male        group A          associate's degree  free/reduced   \n",
       "4    male        group C                some college      standard   \n",
       "\n",
       "  test preparation course  math score  reading score  writing score  \n",
       "0                    none          72             72             74  \n",
       "1               completed          69             90             88  \n",
       "2                    none          90             95             93  \n",
       "3                    none          47             57             44  \n",
       "4                    none          76             78             75  "
      ]
     },
     "execution_count": 5,
     "metadata": {},
     "output_type": "execute_result"
    }
   ],
   "source": [
    "# load in the dataset and display it\n",
    "df = pd.read_csv('StudentsPerformance.csv')\n",
    "df.head()"
   ]
  },
  {
   "cell_type": "markdown",
   "metadata": {},
   "source": [
    "# 1. Writing functions with flexible inputs (task 2)\n",
    "We will be doing the exact same thing as in Assignment 4.\n",
    "\n",
    "\n",
    "We want to test the hypothesis that male students are more likely than female students to take test preparation course. Under this hypothesis the p(completed|male) should be higher than p(completed|female).<br>\n",
    "What is the null hypothesis?"
   ]
  },
  {
   "cell_type": "markdown",
   "metadata": {},
   "source": [
    "## Write a function that calculates p(completed|female)-p(completed|male)\n",
    "For now, this will be our test statistic (like in Assignment04)"
   ]
  },
  {
   "cell_type": "code",
   "execution_count": 6,
   "metadata": {},
   "outputs": [],
   "source": [
    "def prob_diff(data):\n",
    "    \n",
    "    # generate the contingency table\n",
    "    tab = pd.crosstab(data['test preparation course'] == 'completed', data['gender'], margins = True)\n",
    "    \n",
    "    # calculate the difference\n",
    "    p_diff = (tab['male'][True]/tab['male']['All']) - (tab['female'][True]/tab['female']['All'])\n",
    "    \n",
    "    return p_diff"
   ]
  },
  {
   "cell_type": "markdown",
   "metadata": {},
   "source": [
    "## Use the same function for permutation testing with \"flexible\" inputs\n",
    "We will modify the function a little, so that its inputs are more \"flexible\".<br>\n",
    "When making the inputs flexible, you will have to make sure that there will be no discrepancies. For example, for the fcn input, you will write the functions that are calculating the stat. All of those functions should have the same number and type of inputs and outputs."
   ]
  },
  {
   "cell_type": "code",
   "execution_count": 7,
   "metadata": {},
   "outputs": [],
   "source": [
    "def permutation_test(data, shuffle = 'gender', numIter = 1000, fcn = prob_diff):\n",
    "    \n",
    "#     shuffle = 'dirGender'\n",
    "#     numIter = 500\n",
    "    \n",
    "    stat = np.zeros(numIter, dtype = 'float64') # initialize the numpy array that will store the test stat\n",
    "    \n",
    "    ## 1. shuffling the \"exchangeable\" variable\n",
    "    i = 0 # iteration variable\n",
    "    while i < numIter:\n",
    "        \n",
    "        ## permute (shuffle) the exchangeable variable\n",
    "        tmpDf = df.copy() # make a copy of the dataframe so that we don't modify the original dataframe object\n",
    "        sInd  = np.array(range(len(tmpDf.index))) # creates a new np array that will contain the indeces. These indeces will then be shuffled\n",
    "        \n",
    "        np.random.shuffle(sInd) # shuffling the indeces (will be used to shuffle (permute) the gender)\n",
    "        \n",
    "        tmpGender = tmpDf[shuffle].iloc[sInd] # shuffling the gender\n",
    "        tmpGender = tmpGender.reset_index(drop = True) # reorder the shuffled indeces (the gender variable has already been shuffled)\n",
    "        \n",
    "        ## insert the shuffled variable into the dataframe\n",
    "        tmpDf[shuffle] = tmpGender\n",
    "        \n",
    "        ## calculate the test stat.\n",
    "        stat[i] = fcn(tmpDf)\n",
    "        i += 1\n",
    "        \n",
    "    ## 2. plotting the histogram of the test statistic\n",
    "    plt.figure()\n",
    "    plt.hist(stat, bins = 10)\n",
    "    empStat = prob_diff(data)\n",
    "    plt.axvline(x = empStat, color = 'r')\n",
    "    \n",
    "    plt.show()\n",
    "    \n",
    "    ## 3. calculating the p-value (one-sided)\n",
    "    p_value = sum(stat >= empStat)/len(stat)   \n",
    "    \n",
    "    print('P-value of the randomisation test is p=',p_value)\n",
    "    \n",
    "    return p_value"
   ]
  },
  {
   "cell_type": "code",
   "execution_count": 9,
   "metadata": {},
   "outputs": [
    {
     "data": {
      "image/png": "[encoded data removed]",
      "text/plain": [
       "<Figure size 432x288 with 1 Axes>"
      ]
     },
     "metadata": {
      "needs_background": "light"
     },
     "output_type": "display_data"
    },
    {
     "name": "stdout",
     "output_type": "stream",
     "text": [
      "P-value of the randomisation test is p= 0.48\n"
     ]
    }
   ],
   "source": [
    "p = permutation_test(df, numIter = 100)"
   ]
  },
  {
   "cell_type": "markdown",
   "metadata": {},
   "source": [
    "# 2. Now lets test another hypothesis\n",
    "The hypothesis we'll be testing is as follows:<br>\n",
    "Parental level of education and sompleting the test preparation course by the student are dependent. Completing test preparation course vary by parental level of education.\n",
    "\n",
    "What is the null hypothesis in this case?\n"
   ]
  },
  {
   "cell_type": "markdown",
   "metadata": {},
   "source": [
    "H0: completing the test preparation course is INDEPENDENT from parental level of education."
   ]
  },
  {
   "cell_type": "markdown",
   "metadata": {},
   "source": [
    "## To test idependence, we will be usig Chi-squared test of independence! (slides: [5:10])\n",
    "You will need to write a function that calculates the Chi-squared statistic.\n",
    "\n",
    "The chi2-test statistics measures the deviation between the observed counts for each cell and the expected counts under the Null-hypothesis. In this case it will be calculating the deviation between the observed value and expected value under the null hypothesis that parental level and taking the test preparation course are independent. \n",
    "\n",
    "Calculation steps are as follows:\n"
   ]
  },
  {
   "cell_type": "markdown",
   "metadata": {},
   "source": [
    "### 2.1. Create a contingency table with parental level of education and test preparation course as rows and columns\n",
    "This table will be given you the __\"Observed\"__ values"
   ]
  },
  {
   "cell_type": "code",
   "execution_count": 10,
   "metadata": {},
   "outputs": [
    {
     "data": {
      "text/plain": [
       "Index(['gender', 'race/ethnicity', 'parental level of education', 'lunch',\n",
       "       'test preparation course', 'math score', 'reading score',\n",
       "       'writing score'],\n",
       "      dtype='object')"
      ]
     },
     "execution_count": 10,
     "metadata": {},
     "output_type": "execute_result"
    }
   ],
   "source": [
    "df.columns"
   ]
  },
  {
   "cell_type": "code",
   "execution_count": 12,
   "metadata": {},
   "outputs": [
    {
     "data": {
      "text/html": [
       "<div>\n",
       "<style scoped>\n",
       "    .dataframe tbody tr th:only-of-type {\n",
       "        vertical-align: middle;\n",
       "    }\n",
       "\n",
       "    .dataframe tbody tr th {\n",
       "        vertical-align: top;\n",
       "    }\n",
       "\n",
       "    .dataframe thead th {\n",
       "        text-align: right;\n",
       "    }\n",
       "</style>\n",
       "<table border=\"1\" class=\"dataframe\">\n",
       "  <thead>\n",
       "    <tr style=\"text-align: right;\">\n",
       "      <th>test preparation course</th>\n",
       "      <th>completed</th>\n",
       "      <th>none</th>\n",
       "    </tr>\n",
       "    <tr>\n",
       "      <th>parental level of education</th>\n",
       "      <th></th>\n",
       "      <th></th>\n",
       "    </tr>\n",
       "  </thead>\n",
       "  <tbody>\n",
       "    <tr>\n",
       "      <th>associate's degree</th>\n",
       "      <td>82</td>\n",
       "      <td>140</td>\n",
       "    </tr>\n",
       "    <tr>\n",
       "      <th>bachelor's degree</th>\n",
       "      <td>46</td>\n",
       "      <td>72</td>\n",
       "    </tr>\n",
       "    <tr>\n",
       "      <th>high school</th>\n",
       "      <td>56</td>\n",
       "      <td>140</td>\n",
       "    </tr>\n",
       "    <tr>\n",
       "      <th>master's degree</th>\n",
       "      <td>20</td>\n",
       "      <td>39</td>\n",
       "    </tr>\n",
       "    <tr>\n",
       "      <th>some college</th>\n",
       "      <td>77</td>\n",
       "      <td>149</td>\n",
       "    </tr>\n",
       "    <tr>\n",
       "      <th>some high school</th>\n",
       "      <td>77</td>\n",
       "      <td>102</td>\n",
       "    </tr>\n",
       "  </tbody>\n",
       "</table>\n",
       "</div>"
      ],
      "text/plain": [
       "test preparation course      completed  none\n",
       "parental level of education                 \n",
       "associate's degree                  82   140\n",
       "bachelor's degree                   46    72\n",
       "high school                         56   140\n",
       "master's degree                     20    39\n",
       "some college                        77   149\n",
       "some high school                    77   102"
      ]
     },
     "execution_count": 12,
     "metadata": {},
     "output_type": "execute_result"
    }
   ],
   "source": [
    "# The observed values in a contingency table!\n",
    "table = pd.crosstab(df[\"parental level of education\"], df[\"test preparation course\"])\n",
    "table"
   ]
  },
  {
   "cell_type": "markdown",
   "metadata": {},
   "source": [
    "### 2.2. Convert the table to a numpy array\n",
    "To calculate the deviation between the observed and expected values, we will be doing a simple subtraction. It would be much easier if we have the observed variable in form of a numpy array, so that we are able to do the operations on numpy arrays (matrices)."
   ]
  },
  {
   "cell_type": "code",
   "execution_count": 13,
   "metadata": {},
   "outputs": [
    {
     "name": "stdout",
     "output_type": "stream",
     "text": [
      "<class 'pandas.core.frame.DataFrame'>\n",
      "<class 'numpy.ndarray'>\n"
     ]
    }
   ],
   "source": [
    "# The observed values in a numpy array (matrix)\n",
    "table_array = np.array(table)\n",
    "\n",
    "# Compare the types \n",
    "print(type(table))\n",
    "print(type(table_array))"
   ]
  },
  {
   "cell_type": "code",
   "execution_count": 14,
   "metadata": {},
   "outputs": [
    {
     "data": {
      "text/html": [
       "<div>\n",
       "<style scoped>\n",
       "    .dataframe tbody tr th:only-of-type {\n",
       "        vertical-align: middle;\n",
       "    }\n",
       "\n",
       "    .dataframe tbody tr th {\n",
       "        vertical-align: top;\n",
       "    }\n",
       "\n",
       "    .dataframe thead th {\n",
       "        text-align: right;\n",
       "    }\n",
       "</style>\n",
       "<table border=\"1\" class=\"dataframe\">\n",
       "  <thead>\n",
       "    <tr style=\"text-align: right;\">\n",
       "      <th>test preparation course</th>\n",
       "      <th>completed</th>\n",
       "      <th>none</th>\n",
       "    </tr>\n",
       "    <tr>\n",
       "      <th>parental level of education</th>\n",
       "      <th></th>\n",
       "      <th></th>\n",
       "    </tr>\n",
       "  </thead>\n",
       "  <tbody>\n",
       "    <tr>\n",
       "      <th>associate's degree</th>\n",
       "      <td>82</td>\n",
       "      <td>140</td>\n",
       "    </tr>\n",
       "    <tr>\n",
       "      <th>bachelor's degree</th>\n",
       "      <td>46</td>\n",
       "      <td>72</td>\n",
       "    </tr>\n",
       "    <tr>\n",
       "      <th>high school</th>\n",
       "      <td>56</td>\n",
       "      <td>140</td>\n",
       "    </tr>\n",
       "    <tr>\n",
       "      <th>master's degree</th>\n",
       "      <td>20</td>\n",
       "      <td>39</td>\n",
       "    </tr>\n",
       "    <tr>\n",
       "      <th>some college</th>\n",
       "      <td>77</td>\n",
       "      <td>149</td>\n",
       "    </tr>\n",
       "    <tr>\n",
       "      <th>some high school</th>\n",
       "      <td>77</td>\n",
       "      <td>102</td>\n",
       "    </tr>\n",
       "  </tbody>\n",
       "</table>\n",
       "</div>"
      ],
      "text/plain": [
       "test preparation course      completed  none\n",
       "parental level of education                 \n",
       "associate's degree                  82   140\n",
       "bachelor's degree                   46    72\n",
       "high school                         56   140\n",
       "master's degree                     20    39\n",
       "some college                        77   149\n",
       "some high school                    77   102"
      ]
     },
     "metadata": {},
     "output_type": "display_data"
    },
    {
     "name": "stdout",
     "output_type": "stream",
     "text": [
      "[[ 82 140]\n",
      " [ 46  72]\n",
      " [ 56 140]\n",
      " [ 20  39]\n",
      " [ 77 149]\n",
      " [ 77 102]]\n"
     ]
    }
   ],
   "source": [
    "display(table)\n",
    "print(table_array)"
   ]
  },
  {
   "cell_type": "markdown",
   "metadata": {},
   "source": [
    "### 2.3 Generate a table that shows the expected frequencies if test preparation course and parental level of education were independen (Slide 7)\n",
    "Expected count(A,B) = Marginal counts (A)  * Marginal counts (B) / table total"
   ]
  },
  {
   "cell_type": "markdown",
   "metadata": {},
   "source": [
    "#### First take a look at the contingency table again"
   ]
  },
  {
   "cell_type": "code",
   "execution_count": 15,
   "metadata": {},
   "outputs": [
    {
     "data": {
      "text/html": [
       "<div>\n",
       "<style scoped>\n",
       "    .dataframe tbody tr th:only-of-type {\n",
       "        vertical-align: middle;\n",
       "    }\n",
       "\n",
       "    .dataframe tbody tr th {\n",
       "        vertical-align: top;\n",
       "    }\n",
       "\n",
       "    .dataframe thead th {\n",
       "        text-align: right;\n",
       "    }\n",
       "</style>\n",
       "<table border=\"1\" class=\"dataframe\">\n",
       "  <thead>\n",
       "    <tr style=\"text-align: right;\">\n",
       "      <th>test preparation course</th>\n",
       "      <th>completed</th>\n",
       "      <th>none</th>\n",
       "    </tr>\n",
       "    <tr>\n",
       "      <th>parental level of education</th>\n",
       "      <th></th>\n",
       "      <th></th>\n",
       "    </tr>\n",
       "  </thead>\n",
       "  <tbody>\n",
       "    <tr>\n",
       "      <th>associate's degree</th>\n",
       "      <td>82</td>\n",
       "      <td>140</td>\n",
       "    </tr>\n",
       "    <tr>\n",
       "      <th>bachelor's degree</th>\n",
       "      <td>46</td>\n",
       "      <td>72</td>\n",
       "    </tr>\n",
       "    <tr>\n",
       "      <th>high school</th>\n",
       "      <td>56</td>\n",
       "      <td>140</td>\n",
       "    </tr>\n",
       "    <tr>\n",
       "      <th>master's degree</th>\n",
       "      <td>20</td>\n",
       "      <td>39</td>\n",
       "    </tr>\n",
       "    <tr>\n",
       "      <th>some college</th>\n",
       "      <td>77</td>\n",
       "      <td>149</td>\n",
       "    </tr>\n",
       "    <tr>\n",
       "      <th>some high school</th>\n",
       "      <td>77</td>\n",
       "      <td>102</td>\n",
       "    </tr>\n",
       "  </tbody>\n",
       "</table>\n",
       "</div>"
      ],
      "text/plain": [
       "test preparation course      completed  none\n",
       "parental level of education                 \n",
       "associate's degree                  82   140\n",
       "bachelor's degree                   46    72\n",
       "high school                         56   140\n",
       "master's degree                     20    39\n",
       "some college                        77   149\n",
       "some high school                    77   102"
      ]
     },
     "execution_count": 15,
     "metadata": {},
     "output_type": "execute_result"
    }
   ],
   "source": [
    "# First let's take a look at the contingency table again\n",
    "table"
   ]
  },
  {
   "cell_type": "markdown",
   "metadata": {},
   "source": [
    "#### Now let's take a look at the numpy array version of it"
   ]
  },
  {
   "cell_type": "code",
   "execution_count": 17,
   "metadata": {},
   "outputs": [
    {
     "data": {
      "text/plain": [
       "array([[ 82, 140],\n",
       "       [ 46,  72],\n",
       "       [ 56, 140],\n",
       "       [ 20,  39],\n",
       "       [ 77, 149],\n",
       "       [ 77, 102]], dtype=int64)"
      ]
     },
     "execution_count": 17,
     "metadata": {},
     "output_type": "execute_result"
    }
   ],
   "source": [
    "# See the correspondence between the numpy array and the contingency table\n",
    "table_array"
   ]
  },
  {
   "cell_type": "markdown",
   "metadata": {},
   "source": [
    "#### <font color = 'red'> Now let's _Initialize_ the numpy array which will be holding the expected values!\n",
    "it will be the same size as the array for the observed values"
   ]
  },
  {
   "cell_type": "code",
   "execution_count": 19,
   "metadata": {},
   "outputs": [
    {
     "data": {
      "text/plain": [
       "array([[0., 0.],\n",
       "       [0., 0.],\n",
       "       [0., 0.],\n",
       "       [0., 0.],\n",
       "       [0., 0.],\n",
       "       [0., 0.]])"
      ]
     },
     "execution_count": 19,
     "metadata": {},
     "output_type": "execute_result"
    }
   ],
   "source": [
    "# first get the dimensions of the observed_array\n",
    "nrow, ncol = table_array.shape\n",
    "\n",
    "# Initialize the expected_array to be all zeros\n",
    "expected_array = np.zeros([nrow, ncol])\n",
    "expected_array"
   ]
  },
  {
   "cell_type": "markdown",
   "metadata": {},
   "source": [
    "### 2.4 You'll be filling in the expected values using a loop\n",
    "* initialize the array before the loop\n",
    "* use the number of rows and columns (r and c) to loop through all the elements\n",
    "\n",
    "Here, as an example, we will calculate the expected value for one of the entries.<br>\n",
    "_Hint_ : Use indices to get the elements that you want and also to fill in the elements in the expected array"
   ]
  },
  {
   "cell_type": "code",
   "execution_count": 21,
   "metadata": {},
   "outputs": [
    {
     "data": {
      "text/html": [
       "<div>\n",
       "<style scoped>\n",
       "    .dataframe tbody tr th:only-of-type {\n",
       "        vertical-align: middle;\n",
       "    }\n",
       "\n",
       "    .dataframe tbody tr th {\n",
       "        vertical-align: top;\n",
       "    }\n",
       "\n",
       "    .dataframe thead th {\n",
       "        text-align: right;\n",
       "    }\n",
       "</style>\n",
       "<table border=\"1\" class=\"dataframe\">\n",
       "  <thead>\n",
       "    <tr style=\"text-align: right;\">\n",
       "      <th>test preparation course</th>\n",
       "      <th>completed</th>\n",
       "      <th>none</th>\n",
       "    </tr>\n",
       "    <tr>\n",
       "      <th>parental level of education</th>\n",
       "      <th></th>\n",
       "      <th></th>\n",
       "    </tr>\n",
       "  </thead>\n",
       "  <tbody>\n",
       "    <tr>\n",
       "      <th>associate's degree</th>\n",
       "      <td>82</td>\n",
       "      <td>140</td>\n",
       "    </tr>\n",
       "    <tr>\n",
       "      <th>bachelor's degree</th>\n",
       "      <td>46</td>\n",
       "      <td>72</td>\n",
       "    </tr>\n",
       "    <tr>\n",
       "      <th>high school</th>\n",
       "      <td>56</td>\n",
       "      <td>140</td>\n",
       "    </tr>\n",
       "    <tr>\n",
       "      <th>master's degree</th>\n",
       "      <td>20</td>\n",
       "      <td>39</td>\n",
       "    </tr>\n",
       "    <tr>\n",
       "      <th>some college</th>\n",
       "      <td>77</td>\n",
       "      <td>149</td>\n",
       "    </tr>\n",
       "    <tr>\n",
       "      <th>some high school</th>\n",
       "      <td>77</td>\n",
       "      <td>102</td>\n",
       "    </tr>\n",
       "  </tbody>\n",
       "</table>\n",
       "</div>"
      ],
      "text/plain": [
       "test preparation course      completed  none\n",
       "parental level of education                 \n",
       "associate's degree                  82   140\n",
       "bachelor's degree                   46    72\n",
       "high school                         56   140\n",
       "master's degree                     20    39\n",
       "some college                        77   149\n",
       "some high school                    77   102"
      ]
     },
     "execution_count": 21,
     "metadata": {},
     "output_type": "execute_result"
    }
   ],
   "source": [
    "table"
   ]
  },
  {
   "cell_type": "code",
   "execution_count": 22,
   "metadata": {},
   "outputs": [
    {
     "name": "stdout",
     "output_type": "stream",
     "text": [
      "56\n"
     ]
    }
   ],
   "source": [
    "# Now as an example, let's calculate the expected count for 'high school degree' and 'completed'\n",
    "# Expected count(A,B) = Marginal counts (A)  * Marginal counts (B) / table total\n",
    "# first let's take a look at the variables again\n",
    "observed_count = table_array[2, 0]\n",
    "print(observed_count)"
   ]
  },
  {
   "cell_type": "markdown",
   "metadata": {},
   "source": [
    "#### To get the marginal counts, you will need to use python's sum()\n",
    "The following link gives you a definition for all of python's built-in functions:<br>\n",
    "https://docs.python.org/3/library/functions.html\n",
    "\n",
    "Let's see how the sum() function works:\n"
   ]
  },
  {
   "cell_type": "code",
   "execution_count": 31,
   "metadata": {},
   "outputs": [
    {
     "name": "stdout",
     "output_type": "stream",
     "text": [
      "[[ 82 140]\n",
      " [ 46  72]\n",
      " [ 56 140]\n",
      " [ 20  39]\n",
      " [ 77 149]\n",
      " [ 77 102]]\n"
     ]
    },
    {
     "data": {
      "text/plain": [
       "array([358, 642], dtype=int64)"
      ]
     },
     "execution_count": 31,
     "metadata": {},
     "output_type": "execute_result"
    }
   ],
   "source": [
    "# Apply sum() to observed_array (2-D array)\n",
    "## It returs the sum of all the elements on the columns\n",
    "### so the first element will be the sum of elements on the first column and so forth ...\n",
    "s_observed = sum(table_array)\n",
    "print(table_array)\n",
    "\n",
    "s_observed_col = np.sum(table_array, axis = 0)\n",
    "s_observed_col"
   ]
  },
  {
   "cell_type": "code",
   "execution_count": 32,
   "metadata": {},
   "outputs": [
    {
     "data": {
      "text/plain": [
       "array([222, 118, 196,  59, 226, 179], dtype=int64)"
      ]
     },
     "execution_count": 32,
     "metadata": {},
     "output_type": "execute_result"
    }
   ],
   "source": [
    "s_observed_row = np.sum(table_array, axis = 1)\n",
    "s_observed_row"
   ]
  },
  {
   "cell_type": "code",
   "execution_count": 33,
   "metadata": {},
   "outputs": [],
   "source": [
    "# What will sum() do if its input is 1D?\n"
   ]
  },
  {
   "cell_type": "code",
   "execution_count": 34,
   "metadata": {},
   "outputs": [
    {
     "data": {
      "text/plain": [
       "array([[ 0.   ,  0.   ],\n",
       "       [ 0.   ,  0.   ],\n",
       "       [70.168,  0.   ],\n",
       "       [ 0.   ,  0.   ],\n",
       "       [ 0.   ,  0.   ],\n",
       "       [ 0.   ,  0.   ]])"
      ]
     },
     "execution_count": 34,
     "metadata": {},
     "output_type": "execute_result"
    }
   ],
   "source": [
    "# Now calculate the expected value for high school and completed!\n",
    "## get the marginal counts \n",
    "marginal_H = s_observed_row[2]\n",
    "marginal_C = s_observed_col[0]\n",
    "\n",
    "## get the expected\n",
    "# Expected count(A,B) = Marginal counts (A)  * Marginal counts (B) / table total\n",
    "expected_array[2, 0] = (marginal_H*marginal_C)/np.sum(table_array)\n",
    "\n",
    "expected_array"
   ]
  },
  {
   "cell_type": "markdown",
   "metadata": {},
   "source": [
    "<font color = 'red'> Loop through elements with indexing and do the same thing as above "
   ]
  },
  {
   "cell_type": "markdown",
   "metadata": {},
   "source": [
    "### 2.5 The deviation will be calculated as follows:\n",
    "$χ^2 = \\sum_i(O_i-E_i)^2/E_i)$\n",
    "\n",
    "You can just apply math operations like subtraction, addition, etc. to the elements of a numpy array.\n",
    "\n",
    "Basically, we will be calculating the difference, raise the difference to the power of two and divide that by the second numpy array!"
   ]
  },
  {
   "cell_type": "code",
   "execution_count": 35,
   "metadata": {},
   "outputs": [
    {
     "name": "stdout",
     "output_type": "stream",
     "text": [
      "[[ 82 140]\n",
      " [ 46  72]\n",
      " [ 56 140]\n",
      " [ 20  39]\n",
      " [ 77 149]\n",
      " [ 77 102]]\n",
      "[[ 0.     0.   ]\n",
      " [ 0.     0.   ]\n",
      " [70.168  0.   ]\n",
      " [ 0.     0.   ]\n",
      " [ 0.     0.   ]\n",
      " [ 0.     0.   ]]\n"
     ]
    }
   ],
   "source": [
    "# print both arrays\n",
    "print(table_array)\n",
    "print(expected_array)"
   ]
  },
  {
   "cell_type": "code",
   "execution_count": 36,
   "metadata": {},
   "outputs": [
    {
     "data": {
      "text/plain": [
       "array([[ 82.   , 140.   ],\n",
       "       [ 46.   ,  72.   ],\n",
       "       [-14.168, 140.   ],\n",
       "       [ 20.   ,  39.   ],\n",
       "       [ 77.   , 149.   ],\n",
       "       [ 77.   , 102.   ]])"
      ]
     },
     "execution_count": 36,
     "metadata": {},
     "output_type": "execute_result"
    }
   ],
   "source": [
    "# Calculate the difference between the arrays\n",
    "Diff = table_array - expected_array\n",
    "Diff"
   ]
  },
  {
   "cell_type": "code",
   "execution_count": 37,
   "metadata": {},
   "outputs": [
    {
     "data": {
      "text/plain": [
       "array([[ 6724.      , 19600.      ],\n",
       "       [ 2116.      ,  5184.      ],\n",
       "       [  200.732224, 19600.      ],\n",
       "       [  400.      ,  1521.      ],\n",
       "       [ 5929.      , 22201.      ],\n",
       "       [ 5929.      , 10404.      ]])"
      ]
     },
     "execution_count": 37,
     "metadata": {},
     "output_type": "execute_result"
    }
   ],
   "source": [
    "# square!\n",
    "## see how the operation is performed element-wise\n",
    "Diff2 = Diff ** 2\n",
    "Diff2"
   ]
  },
  {
   "cell_type": "code",
   "execution_count": 39,
   "metadata": {},
   "outputs": [
    {
     "name": "stderr",
     "output_type": "stream",
     "text": [
      "<ipython-input-39-5ea8dada4a12>:3: RuntimeWarning: divide by zero encountered in true_divide\n",
      "  Div = Diff2/expected_array\n"
     ]
    },
    {
     "data": {
      "text/plain": [
       "array([[       inf,        inf],\n",
       "       [       inf,        inf],\n",
       "       [2.86073743,        inf],\n",
       "       [       inf,        inf],\n",
       "       [       inf,        inf],\n",
       "       [       inf,        inf]])"
      ]
     },
     "execution_count": 39,
     "metadata": {},
     "output_type": "execute_result"
    }
   ],
   "source": [
    "# divide by the expected array\n",
    "## now here, as we have zeros in the expected_array we will get ZeroDivisionError or you might get a warning\n",
    "Div = Diff2/expected_array\n",
    "Div"
   ]
  },
  {
   "cell_type": "code",
   "execution_count": 41,
   "metadata": {},
   "outputs": [
    {
     "name": "stderr",
     "output_type": "stream",
     "text": [
      "<ipython-input-41-e7c1cad68cd7>:2: RuntimeWarning: divide by zero encountered in true_divide\n",
      "  X2_1 = np.sum((table_array - expected_array)**2/expected_array)\n"
     ]
    },
    {
     "data": {
      "text/plain": [
       "inf"
      ]
     },
     "execution_count": 41,
     "metadata": {},
     "output_type": "execute_result"
    }
   ],
   "source": [
    "# combine all these operations into one line!\n",
    "X2_1 = np.sum((table_array - expected_array)**2/expected_array)\n",
    "X2_1"
   ]
  },
  {
   "cell_type": "code",
   "execution_count": 40,
   "metadata": {},
   "outputs": [
    {
     "data": {
      "text/plain": [
       "inf"
      ]
     },
     "execution_count": 40,
     "metadata": {},
     "output_type": "execute_result"
    }
   ],
   "source": [
    "# Sum\n",
    "X2_2 = np.sum(Div)\n",
    "X2"
   ]
  },
  {
   "cell_type": "code",
   "execution_count": 14,
   "metadata": {},
   "outputs": [],
   "source": [
    "# Do the calculations with two random arrays\n"
   ]
  },
  {
   "cell_type": "markdown",
   "metadata": {},
   "source": [
    "### 2.6 Put the expected value into a contingency table (optional)\n",
    "You may want to create a table of the expected value!"
   ]
  },
  {
   "cell_type": "code",
   "execution_count": 45,
   "metadata": {},
   "outputs": [
    {
     "data": {
      "text/html": [
       "<div>\n",
       "<style scoped>\n",
       "    .dataframe tbody tr th:only-of-type {\n",
       "        vertical-align: middle;\n",
       "    }\n",
       "\n",
       "    .dataframe tbody tr th {\n",
       "        vertical-align: top;\n",
       "    }\n",
       "\n",
       "    .dataframe thead th {\n",
       "        text-align: right;\n",
       "    }\n",
       "</style>\n",
       "<table border=\"1\" class=\"dataframe\">\n",
       "  <thead>\n",
       "    <tr style=\"text-align: right;\">\n",
       "      <th></th>\n",
       "      <th>0</th>\n",
       "      <th>1</th>\n",
       "    </tr>\n",
       "  </thead>\n",
       "  <tbody>\n",
       "    <tr>\n",
       "      <th>0</th>\n",
       "      <td>0.000</td>\n",
       "      <td>0.0</td>\n",
       "    </tr>\n",
       "    <tr>\n",
       "      <th>1</th>\n",
       "      <td>0.000</td>\n",
       "      <td>0.0</td>\n",
       "    </tr>\n",
       "    <tr>\n",
       "      <th>2</th>\n",
       "      <td>70.168</td>\n",
       "      <td>0.0</td>\n",
       "    </tr>\n",
       "    <tr>\n",
       "      <th>3</th>\n",
       "      <td>0.000</td>\n",
       "      <td>0.0</td>\n",
       "    </tr>\n",
       "    <tr>\n",
       "      <th>4</th>\n",
       "      <td>0.000</td>\n",
       "      <td>0.0</td>\n",
       "    </tr>\n",
       "    <tr>\n",
       "      <th>5</th>\n",
       "      <td>0.000</td>\n",
       "      <td>0.0</td>\n",
       "    </tr>\n",
       "  </tbody>\n",
       "</table>\n",
       "</div>"
      ],
      "text/plain": [
       "        0    1\n",
       "0   0.000  0.0\n",
       "1   0.000  0.0\n",
       "2  70.168  0.0\n",
       "3   0.000  0.0\n",
       "4   0.000  0.0\n",
       "5   0.000  0.0"
      ]
     },
     "metadata": {},
     "output_type": "display_data"
    },
    {
     "data": {
      "text/html": [
       "<div>\n",
       "<style scoped>\n",
       "    .dataframe tbody tr th:only-of-type {\n",
       "        vertical-align: middle;\n",
       "    }\n",
       "\n",
       "    .dataframe tbody tr th {\n",
       "        vertical-align: top;\n",
       "    }\n",
       "\n",
       "    .dataframe thead th {\n",
       "        text-align: right;\n",
       "    }\n",
       "</style>\n",
       "<table border=\"1\" class=\"dataframe\">\n",
       "  <thead>\n",
       "    <tr style=\"text-align: right;\">\n",
       "      <th>test preparation course</th>\n",
       "      <th>completed</th>\n",
       "      <th>none</th>\n",
       "    </tr>\n",
       "    <tr>\n",
       "      <th>parental level of education</th>\n",
       "      <th></th>\n",
       "      <th></th>\n",
       "    </tr>\n",
       "  </thead>\n",
       "  <tbody>\n",
       "    <tr>\n",
       "      <th>associate's degree</th>\n",
       "      <td>0.000</td>\n",
       "      <td>0.0</td>\n",
       "    </tr>\n",
       "    <tr>\n",
       "      <th>bachelor's degree</th>\n",
       "      <td>0.000</td>\n",
       "      <td>0.0</td>\n",
       "    </tr>\n",
       "    <tr>\n",
       "      <th>high school</th>\n",
       "      <td>70.168</td>\n",
       "      <td>0.0</td>\n",
       "    </tr>\n",
       "    <tr>\n",
       "      <th>master's degree</th>\n",
       "      <td>0.000</td>\n",
       "      <td>0.0</td>\n",
       "    </tr>\n",
       "    <tr>\n",
       "      <th>some college</th>\n",
       "      <td>0.000</td>\n",
       "      <td>0.0</td>\n",
       "    </tr>\n",
       "    <tr>\n",
       "      <th>some high school</th>\n",
       "      <td>0.000</td>\n",
       "      <td>0.0</td>\n",
       "    </tr>\n",
       "  </tbody>\n",
       "</table>\n",
       "</div>"
      ],
      "text/plain": [
       "test preparation course      completed  none\n",
       "parental level of education                 \n",
       "associate's degree               0.000   0.0\n",
       "bachelor's degree                0.000   0.0\n",
       "high school                     70.168   0.0\n",
       "master's degree                  0.000   0.0\n",
       "some college                     0.000   0.0\n",
       "some high school                 0.000   0.0"
      ]
     },
     "execution_count": 45,
     "metadata": {},
     "output_type": "execute_result"
    }
   ],
   "source": [
    "# create a dataframe\n",
    "Expected_table = pd.DataFrame(expected_array)\n",
    "display(Expected_table)\n",
    "\n",
    "# # set the columns to be the same as table_array\n",
    "Expected_table.columns = table.columns\n",
    "\n",
    "# # set the index to be the same as table_array\n",
    "Expected_table.index = table.index\n",
    "\n",
    "Expected_table\n"
   ]
  },
  {
   "cell_type": "markdown",
   "metadata": {},
   "source": [
    "* Determine the H0\n",
    "* Determine the exchangeable variable under the H0\n",
    "* determine the proper stat to test the H0\n",
    "* if we are testing for independance -> X2"
   ]
  },
  {
   "cell_type": "markdown",
   "metadata": {},
   "source": [
    "Function for the X2 stat\n",
    "\n",
    "* contingency table\n",
    "* convert contingency table to a numpy array\n",
    "* initialize an array that will contain the expected counts\n",
    "* loop through all the elements of the observed array and calculate the expected value for each\n",
    "* calculate the X2\n",
    "* returns X2"
   ]
  },
  {
   "cell_type": "code",
   "execution_count": 46,
   "metadata": {},
   "outputs": [
    {
     "ename": "NameError",
     "evalue": "name 'calc_X2' is not defined",
     "output_type": "error",
     "traceback": [
      "\u001b[1;31m---------------------------------------------------------------------------\u001b[0m",
      "\u001b[1;31mNameError\u001b[0m                                 Traceback (most recent call last)",
      "\u001b[1;32m<ipython-input-46-74e15b9b6e89>\u001b[0m in \u001b[0;36m<module>\u001b[1;34m\u001b[0m\n\u001b[1;32m----> 1\u001b[1;33m \u001b[0mpermutation_test\u001b[0m\u001b[1;33m(\u001b[0m\u001b[0mdf\u001b[0m\u001b[1;33m,\u001b[0m \u001b[0mshuffle\u001b[0m \u001b[1;33m=\u001b[0m \u001b[1;34m'parental level of education'\u001b[0m\u001b[1;33m,\u001b[0m \u001b[0mnumIter\u001b[0m \u001b[1;33m=\u001b[0m \u001b[1;36m500\u001b[0m\u001b[1;33m,\u001b[0m \u001b[0mfcn\u001b[0m \u001b[1;33m=\u001b[0m \u001b[0mcalc_X2\u001b[0m\u001b[1;33m)\u001b[0m\u001b[1;33m\u001b[0m\u001b[1;33m\u001b[0m\u001b[0m\n\u001b[0m",
      "\u001b[1;31mNameError\u001b[0m: name 'calc_X2' is not defined"
     ]
    }
   ],
   "source": [
    "p = permutation_test(df, shuffle = 'parental level of education', numIter = 500, fcn = calc_X2)"
   ]
  },
  {
   "cell_type": "markdown",
   "metadata": {},
   "source": [
    "# 3. Monte-carlo Simulation\n",
    "Write a function (monteCarloSim) that simulates coin tossing. On each trial, the function should produce a specific number (N) of coin tosses and record the number of successes (heads). It should repeat this experiment numIter number of times. The inputs to the function should be a) probability of a success on each coin toss, b) the number of coin tosses per trial (N) and c) the number of trials. The function should return an np.array(range(numIter)) that holds the recorded number of heads for all trials (see lecture handout for tips).\n",
    "\n",
    "monteCarloSim(a=probability,N=numberOfCoin,numIter)<br>\n",
    "    for numIter<br>\n",
    "        $\\;\\;\\;\\;$Generate new sample of N coin tosses<br>\n",
    "        $\\;\\;\\;\\;$record number of heads in array X<br>        \n",
    "        \n",
    "**What are the inputs?**\n",
    "* probability of H0. Probability array will be calculated based on this single value\n",
    "* Number of heads (successes). Be careful with how you define success. success could mean complication!\n",
    "* number of times you want to simulate the coin toss (same as numIter)."
   ]
  },
  {
   "cell_type": "markdown",
   "metadata": {},
   "source": [
    "Goal: simulate a coin tossing experiment: we toss the coin N times and we record the heads.\n",
    "\n",
    "We do the experiment numIter times."
   ]
  },
  {
   "cell_type": "markdown",
   "metadata": {},
   "source": []
  },
  {
   "cell_type": "markdown",
   "metadata": {},
   "source": [
    "## 3.1 Generate a specific number of 1s and 0s (as heads and tails)\n",
    "to simulate coin tosses, we will use numpy.random.choice:<br>\n",
    "https://docs.scipy.org/doc/numpy-1.15.0/reference/generated/numpy.random.choice.html\n",
    "\n",
    "Let's take a look at np.random.choice options <br>\n",
    "numpy.random.choice(a, size=None, replace=True, p=None)."
   ]
  },
  {
   "cell_type": "code",
   "execution_count": 50,
   "metadata": {},
   "outputs": [
    {
     "name": "stdout",
     "output_type": "stream",
     "text": [
      "<class 'numpy.ndarray'>\n",
      "(100,)\n",
      "[1 0 1 0 0 0 0 0 1 1 1 0 0 0 0 0 1 1 0 1 0 1 0 0 1 1 1 0 1 1 1 1 0 0 1 1 0\n",
      " 0 0 0 0 0 0 1 0 0 0 1 0 0 1 0 1 0 1 1 0 1 0 0 1 1 0 0 1 1 1 0 1 1 1 0 0 1\n",
      " 0 0 0 0 0 0 1 1 0 1 0 1 0 0 0 0 1 0 0 1 0 0 0 1 0 1]\n"
     ]
    }
   ],
   "source": [
    "# To draw numbers with specific probability values, your first input should be a 1D array and the the p input \n",
    "# will be an array with the same size.\n",
    "# To simulate coin tosses, lets assume that heads are 1s and tails are 0s.\n",
    "# if a coin is fair before tossing we know that the probability of head is 0.5.\n",
    "# heads: 1, tails: 0\n",
    "sim = np.random.choice(a = [0, 1], size = 100, replace = True, p = [0.5, 0.5])\n",
    "print(type(sim))\n",
    "print(sim.shape)\n",
    "print(sim)\n",
    "\n",
    "# be careful when you are creating the numpy array for probabilities!\n",
    "# If my first input to np.random.choice is [0, 1], then the first element in p is the probability of 0 (tails/failiure)!"
   ]
  },
  {
   "cell_type": "markdown",
   "metadata": {},
   "source": [
    "## 3.2 Record the number of heads (successes) for an iteration\n",
    "Remember, again you need to do the whole thing numIter times. For each iteration, calculate the number of heads and record it in an array! (you have to initialize the array before the loop for numIter)"
   ]
  },
  {
   "cell_type": "code",
   "execution_count": 51,
   "metadata": {},
   "outputs": [
    {
     "data": {
      "text/plain": [
       "42"
      ]
     },
     "execution_count": 51,
     "metadata": {},
     "output_type": "execute_result"
    }
   ],
   "source": [
    "# we have an array of only 0s and 1s.\n",
    "# the number of 1s (the number of heads/sucesses) will be:\n",
    "num_heads = np.sum(sim)\n",
    "num_heads"
   ]
  },
  {
   "cell_type": "markdown",
   "metadata": {},
   "source": [
    "# 4. Monte-carlo Test\n",
    "\n",
    "Write a function (monteCarloTest) that uses monteCarloSim to \n",
    "* simulate 1000 trials (coin tosses). numIter input to Monte-carlo simulation function. \n",
    "* The function should also plot a histogram of the recorded number of heads, and mark the real measured number with a vertical line (axvline). Heads are usually success. You can define success to be different things depending on the question! Complication can be success!\n",
    "* The function should print out the probability that the simulated number of heads is smaller than or equal to the measured number of heads. \n",
    "\n",
    "Input arguments should be \n",
    "a) the probability of a success under the Null-hypothesis, \n",
    "b) the number of coin tosses per trial, and \n",
    "c) the measured number of heads. Use the function to evaluate the probability to get 3 complications in 62 cases if the probability of a complication in the population is known to be 10%."
   ]
  },
  {
   "cell_type": "code",
   "execution_count": null,
   "metadata": {},
   "outputs": [],
   "source": [
    "num_heads = monteCarloSim(a = [0, 1], N = 62, p = [0.9, 0.1])"
   ]
  },
  {
   "cell_type": "markdown",
   "metadata": {},
   "source": [
    "* determine what you want to test\n",
    "* can it be simulated with a problem with distinct outcomes? it usually has to have two outcomes -> monteCarloTest\n",
    "* what are those outcomes? \n",
    "* What are the corresponding p-values to those outcomes?"
   ]
  },
  {
   "cell_type": "markdown",
   "metadata": {},
   "source": [
    "* 0: tails 1: heads.\n",
    "* determine the probability of heads and tails, you might have an unfair coin\n",
    "* simulate coin tosses with np.random.choice\n",
    "* record the number of 1s\n",
    "* repeate the above steps numIter times\n",
    "* plot the histogram or distribution of number of heads \n",
    "* calculate the p value"
   ]
  },
  {
   "cell_type": "code",
   "execution_count": null,
   "metadata": {},
   "outputs": [],
   "source": [
    "monteCarloSim(a = [1, 2, 3, 4, 5, 6, 7], N = 10, p = [1/7, 1/7, ...])"
   ]
  }
 ],
 "metadata": {
  "kernelspec": {
   "display_name": "Python 3",
   "language": "python",
   "name": "python3"
  },
  "language_info": {
   "codemirror_mode": {
    "name": "ipython",
    "version": 3
   },
   "file_extension": ".py",
   "mimetype": "text/x-python",
   "name": "python",
   "nbconvert_exporter": "python",
   "pygments_lexer": "ipython3",
   "version": "3.8.8"
  }
 },
 "nbformat": 4,
 "nbformat_minor": 2
}
