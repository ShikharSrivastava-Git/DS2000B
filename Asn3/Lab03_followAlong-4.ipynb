{
 "cells": [
  {
   "cell_type": "markdown",
   "metadata": {},
   "source": [
    "# Lab Tutorial 03\n",
    "### Learning Outcomes \n",
    "In this tutorial we will learn \n",
    "- how to define a function\n",
    "- initialize a numpy array\n",
    "- use while or for loops to iteratively update that numpy array\n",
    "- randomly sample from data with and without replacements\n",
    "- how to get the qth percentile of the data"
   ]
  },
  {
   "cell_type": "markdown",
   "metadata": {},
   "source": [
    "# Importing packages"
   ]
  },
  {
   "cell_type": "code",
   "execution_count": 1,
   "metadata": {},
   "outputs": [],
   "source": [
    "import pandas as pd\n",
    "import numpy as np\n",
    "\n",
    "import seaborn as sns\n",
    "import matplotlib\n",
    "matplotlib.use('TkAgg')\n",
    "import matplotlib.pyplot as plt \n",
    "%matplotlib inline"
   ]
  },
  {
   "cell_type": "markdown",
   "metadata": {},
   "source": [
    "# Introduction to Dictionaries"
   ]
  },
  {
   "cell_type": "code",
   "execution_count": 2,
   "metadata": {},
   "outputs": [
    {
     "name": "stdout",
     "output_type": "stream",
     "text": [
      "dict_keys(['class', 'building'])\n",
      "DS2000B\n"
     ]
    }
   ],
   "source": [
    "# intro to dictionary\n",
    "my_dict = {'class': 'DS2000B', 'building': 'AHB'}\n",
    "\n",
    "# keys, values\n",
    "print(my_dict.keys())\n",
    "\n",
    "# get the values corresponding to a key\n",
    "print(my_dict['class'])"
   ]
  },
  {
   "cell_type": "code",
   "execution_count": 3,
   "metadata": {},
   "outputs": [
    {
     "name": "stdout",
     "output_type": "stream",
     "text": [
      "the value for class is DS2000B\n",
      "the value for building is AHB\n",
      "['DS2000B', 'AHB']\n"
     ]
    }
   ],
   "source": [
    "# getting a value corresponding to a key\n",
    "# 'the value for <key> is <value>'\n",
    "\n",
    "# Printing the values associated to keys\n",
    "\n",
    "# for k\n",
    "my_values = []\n",
    "for k in my_dict.keys():\n",
    "    # k is the current key\n",
    "    # GET THE VALUE FOR THE KEY\n",
    "    current_value = my_dict[k]\n",
    "    my_values.append(current_value)\n",
    "    # print\n",
    "    print(f'the value for {k} is {current_value}')\n",
    "    \n",
    "    \n",
    "print(my_values)"
   ]
  },
  {
   "cell_type": "code",
   "execution_count": 4,
   "metadata": {},
   "outputs": [
    {
     "name": "stdout",
     "output_type": "stream",
     "text": [
      "<class 'pandas.core.frame.DataFrame'>\n",
      "Index(['class', 'building'], dtype='object')\n",
      "Int64Index([0], dtype='int64')\n"
     ]
    },
    {
     "data": {
      "text/html": [
       "<div>\n",
       "<style scoped>\n",
       "    .dataframe tbody tr th:only-of-type {\n",
       "        vertical-align: middle;\n",
       "    }\n",
       "\n",
       "    .dataframe tbody tr th {\n",
       "        vertical-align: top;\n",
       "    }\n",
       "\n",
       "    .dataframe thead th {\n",
       "        text-align: right;\n",
       "    }\n",
       "</style>\n",
       "<table border=\"1\" class=\"dataframe\">\n",
       "  <thead>\n",
       "    <tr style=\"text-align: right;\">\n",
       "      <th></th>\n",
       "      <th>class</th>\n",
       "      <th>building</th>\n",
       "    </tr>\n",
       "  </thead>\n",
       "  <tbody>\n",
       "    <tr>\n",
       "      <th>0</th>\n",
       "      <td>DS2000B</td>\n",
       "      <td>AHB</td>\n",
       "    </tr>\n",
       "  </tbody>\n",
       "</table>\n",
       "</div>"
      ],
      "text/plain": [
       "     class building\n",
       "0  DS2000B      AHB"
      ]
     },
     "execution_count": 4,
     "metadata": {},
     "output_type": "execute_result"
    }
   ],
   "source": [
    "# Convert the dictionary to a dataframe\n",
    "my_df = pd.DataFrame(my_dict, index = [0])\n",
    "\n",
    "print(type(my_df))\n",
    "print(my_df.columns)\n",
    "my_df\n",
    "print(my_df.index)\n",
    "\n",
    "my_df.loc[my_df.index == 0]"
   ]
  },
  {
   "cell_type": "markdown",
   "metadata": {},
   "source": [
    "# Defining a function"
   ]
  },
  {
   "cell_type": "markdown",
   "metadata": {},
   "source": [
    "## A simple function: without input and output"
   ]
  },
  {
   "cell_type": "code",
   "execution_count": 8,
   "metadata": {},
   "outputs": [
    {
     "name": "stdout",
     "output_type": "stream",
     "text": [
      "Hello World!\n"
     ]
    }
   ],
   "source": [
    "# my_function()\n",
    "\n",
    "def my_function():\n",
    "    print(\"Hello World!\")\n",
    "    return \n",
    "\n",
    "my_function()"
   ]
  },
  {
   "cell_type": "markdown",
   "metadata": {},
   "source": [
    "## Function with input"
   ]
  },
  {
   "cell_type": "code",
   "execution_count": 9,
   "metadata": {},
   "outputs": [
    {
     "name": "stdout",
     "output_type": "stream",
     "text": [
      "this is class DS2000B\n"
     ]
    }
   ],
   "source": [
    "# a string as input\n",
    "def print_class(class_name):\n",
    "    \n",
    "    print(f'this is class {class_name}')\n",
    "    \n",
    "    return\n",
    "\n",
    "print_class('DS2000B')"
   ]
  },
  {
   "cell_type": "markdown",
   "metadata": {},
   "source": [
    "## Function with input and output\n",
    "- simple function \n",
    "- using while and for loops within functions"
   ]
  },
  {
   "cell_type": "code",
   "execution_count": 12,
   "metadata": {},
   "outputs": [
    {
     "name": "stdout",
     "output_type": "stream",
     "text": [
      "5\n"
     ]
    }
   ],
   "source": [
    "# a function that adds two numbers\n",
    "def add_num(input1, input2):\n",
    "    # is taking in two nunmbers add them together and returns the sum\n",
    "    # Args: \n",
    "    # input1 (int, float) \n",
    "    # input2 (int, float)\n",
    "    \n",
    "    # Returns:\n",
    "    # sum_num (int, float) \n",
    "    \n",
    "    sum_num = input1 + input2\n",
    "    \n",
    "    return sum_num\n",
    "\n",
    "S  = add_num(2, 3)\n",
    "print(S)"
   ]
  },
  {
   "cell_type": "code",
   "execution_count": 3,
   "metadata": {},
   "outputs": [],
   "source": [
    "# Examples of the function use with print statements\n"
   ]
  },
  {
   "cell_type": "code",
   "execution_count": 22,
   "metadata": {},
   "outputs": [
    {
     "name": "stdout",
     "output_type": "stream",
     "text": [
      "the current i is 4\n",
      "p before multiplication is 5\n",
      "product is 20\n",
      "the current i is 3\n",
      "p before multiplication is 20\n",
      "product is 60\n",
      "the current i is 2\n",
      "p before multiplication is 60\n",
      "product is 120\n",
      "the current i is 1\n",
      "p before multiplication is 120\n",
      "product is 120\n",
      "120\n"
     ]
    }
   ],
   "source": [
    "# Factorial function\n",
    "# how to set default values for function inputs?\n",
    "# How will the function operate with and without set default values\n",
    "## with default values\n",
    "\n",
    "# first take in a number\n",
    "def factorial_v1(N):\n",
    "    # check if number is 0\n",
    "    if N == 0:\n",
    "        # return 1\n",
    "        return 1\n",
    "    # if not 0\n",
    "    else: \n",
    "        # return number* function(number-1)\n",
    "        return N*factorial(N-1)\n",
    "\n",
    "F0 = factorial(0)\n",
    "# print(F)\n",
    "\n",
    "F1 = factorial(5)\n",
    "# print(F1)\n",
    "\n",
    "def factorial_v2(N):\n",
    "    # start with N\n",
    "    p = N # initializing the product of the loop\n",
    "    # loop through all the numbers from N to 1\n",
    "    i = N-1\n",
    "    \n",
    "    if N == 0:\n",
    "        return 1\n",
    "    else:\n",
    "        while i>0:\n",
    "            print(f\"the current i is {i}\")\n",
    "            # multiply the number by the product of the previous iteration loop\n",
    "            print(f\"p before multiplication is {p}\")\n",
    "            p = p*i\n",
    "\n",
    "            i = i -1\n",
    "            print(f\"product is {p}\")\n",
    "        # return\n",
    "        return p\n",
    "## without default values\n",
    "F2 = factorial_v2(5)\n",
    "print(F2)"
   ]
  },
  {
   "cell_type": "code",
   "execution_count": 23,
   "metadata": {},
   "outputs": [
    {
     "name": "stdout",
     "output_type": "stream",
     "text": [
      "1\n"
     ]
    }
   ],
   "source": [
    "print(13%2)"
   ]
  },
  {
   "cell_type": "code",
   "execution_count": 33,
   "metadata": {},
   "outputs": [
    {
     "name": "stdout",
     "output_type": "stream",
     "text": [
      "[0, 0, 0, 1]\n",
      "[1, 0, 0, 0]\n"
     ]
    }
   ],
   "source": [
    "# Write a function to binarize a number\n",
    "## To convert integer to binary, start with the integer in question \n",
    "## and divide it by 2 keeping notice of the quotient and the remainder. \n",
    "## Continue dividing the quotient by 2 until you get a quotient of zero. \n",
    "## Then just write out the remainders in the reverse order\n",
    "\n",
    "# takes in a number\n",
    "def binarize_number(N = 2):\n",
    "    \n",
    "    R = []\n",
    "    C = []\n",
    "    q = N\n",
    "    while q >0:\n",
    "        \n",
    "        # we need to keep track of the quotient\n",
    "        C.append(q/ 2)\n",
    "        # we need to keep track of the remainder\n",
    "        R.append(q % 2)\n",
    "        # update the value of q\n",
    "        q = int(q/2)\n",
    "        \n",
    "        # stop\n",
    "    # return the remainders in reverse\n",
    "    R.reverse()\n",
    "    return R\n",
    "\n",
    "b = binarize_number(8)\n",
    "print(b)    "
   ]
  },
  {
   "cell_type": "markdown",
   "metadata": {},
   "source": [
    "# Random sampling from data"
   ]
  },
  {
   "cell_type": "markdown",
   "metadata": {},
   "source": [
    "## generate random data "
   ]
  },
  {
   "cell_type": "code",
   "execution_count": 37,
   "metadata": {},
   "outputs": [
    {
     "name": "stdout",
     "output_type": "stream",
     "text": [
      "<class 'numpy.ndarray'>\n",
      "(100,)\n",
      "[-6.52694836e-01  7.83085699e-01 -1.77019670e+00 -9.91915842e-01\n",
      " -1.52203414e+00  9.16860264e-01 -2.21630106e+00  9.95804700e-01\n",
      " -3.39828863e-01 -5.85972116e-01 -1.06221688e+00 -3.62704125e-01\n",
      "  6.75938170e-01  8.48569290e-01  1.72827523e-01 -1.21749815e+00\n",
      " -1.10589453e+00 -2.58810810e+00 -3.88307977e-01 -1.05672271e+00\n",
      " -2.70338670e+00  1.13436454e+00 -5.30720549e-01  2.01555132e+00\n",
      "  1.64262516e+00  6.04213931e-01 -4.81056761e-01 -1.50117473e+00\n",
      "  1.95978102e+00  6.83329747e-01  1.17843545e+00 -4.80945221e-04\n",
      "  1.91175764e-01  4.52649911e-01  4.31074819e-01 -6.29286351e-01\n",
      " -2.13216486e-01 -6.46652820e-02 -3.56631815e-01  4.96065083e-02\n",
      "  8.45010609e-01  1.26618038e+00  5.83632965e-01 -1.30893937e+00\n",
      "  3.60881546e-01 -3.17986973e-01 -1.29275856e+00  2.27766963e-01\n",
      " -8.47757778e-01  1.49687359e+00  2.89047518e-01  4.31404771e-01\n",
      " -2.98323769e-01  1.50430004e+00 -8.77970183e-01 -6.03737834e-01\n",
      "  1.89170500e+00 -1.41041065e+00 -1.00232990e+00 -1.66058807e+00\n",
      " -2.01924553e+00  2.64808321e+00  1.81603297e+00  1.59465052e+00\n",
      " -3.13141061e-01 -1.85284101e-01 -2.26326254e+00  2.12996866e+00\n",
      "  2.46999763e-01 -1.09137009e+00  1.58286479e-01 -1.69850354e-01\n",
      " -1.94434718e-01  1.55181889e+00 -7.87205828e-01 -2.05531435e+00\n",
      " -2.40398254e+00  6.80425481e-01 -1.54188081e+00 -5.20762830e-01\n",
      " -4.79030217e-01 -4.25275298e-01  1.32008936e+00 -2.46357284e-01\n",
      "  1.51776276e+00  3.02314713e-01 -1.20633133e-01  1.82869688e-01\n",
      "  2.76230760e-01 -6.33896417e-01 -8.39206758e-01  2.44753008e-01\n",
      "  6.93929562e-01 -6.51888105e-01 -3.50446209e-01 -8.38120748e-02\n",
      " -4.33911705e-01 -4.45642876e-01  2.55829951e-01 -3.35629656e-01]\n"
     ]
    }
   ],
   "source": [
    "# 100 samples (numbers) drawn from normal distribution\n",
    "sim_data = np.random.normal(loc = 0, scale = 1, size = 100)\n",
    "print(type(sim_data))\n",
    "print(sim_data.shape)\n",
    "print(sim_data)"
   ]
  },
  {
   "cell_type": "markdown",
   "metadata": {},
   "source": [
    "## random sampling from data\n",
    "- with replacement\n",
    "- without replacement"
   ]
  },
  {
   "cell_type": "markdown",
   "metadata": {},
   "source": [
    "### random sampling from the generated data"
   ]
  },
  {
   "cell_type": "code",
   "execution_count": 40,
   "metadata": {},
   "outputs": [
    {
     "name": "stdout",
     "output_type": "stream",
     "text": [
      "(25,)\n"
     ]
    }
   ],
   "source": [
    "# draw 25 random samples from your data\n",
    "samples = np.random.choice(sim_data, replace = True, size = 25)\n",
    "print(samples.shape)"
   ]
  },
  {
   "cell_type": "markdown",
   "metadata": {},
   "source": [
    "### random sampling (random numbers) from a range of numbers (Slide 15)\n",
    "\n"
   ]
  },
  {
   "cell_type": "code",
   "execution_count": 41,
   "metadata": {},
   "outputs": [
    {
     "name": "stdout",
     "output_type": "stream",
     "text": [
      "[13 13 71 36  6 70 28 41 62 71 44  0 46 29  4  8 81 56  4 14 63 63 87  9\n",
      " 86]\n"
     ]
    }
   ],
   "source": [
    "samples2 = np.random.choice(100, replace = True, size = 25)\n",
    "print(samples2)"
   ]
  },
  {
   "cell_type": "code",
   "execution_count": null,
   "metadata": {},
   "outputs": [],
   "source": [
    "# write a loop that repeats numIter times \n",
    "    # samples = randomly sample from the data with size = n_sample \n",
    "    # mean = calculate the mean of samples and keep track of the mean\n",
    "# return the distribution for mean"
   ]
  },
  {
   "cell_type": "markdown",
   "metadata": {},
   "source": [
    "## A function to simulate random numbers N times"
   ]
  },
  {
   "cell_type": "code",
   "execution_count": 6,
   "metadata": {},
   "outputs": [],
   "source": [
    "# initializing numpy arrays\n",
    "# using while loop\n",
    "# using print statements to check the output of each line\n",
    "stat_array = []\n",
    "# write a loop that repeats numIter times \n",
    "    # samples = randomly sample from the data with size = n_sample \n",
    "    # stat_array.append(calculate the mean of samples and keep track of the mean)\n",
    "# return the distribution for mean"
   ]
  },
  {
   "cell_type": "code",
   "execution_count": 7,
   "metadata": {},
   "outputs": [],
   "source": [
    "# again generate data\n"
   ]
  },
  {
   "cell_type": "code",
   "execution_count": 8,
   "metadata": {},
   "outputs": [],
   "source": [
    "# Example using the function\n"
   ]
  },
  {
   "cell_type": "markdown",
   "metadata": {},
   "source": [
    "## A function to be applied to numbers as input"
   ]
  },
  {
   "cell_type": "code",
   "execution_count": 42,
   "metadata": {},
   "outputs": [
    {
     "name": "stdout",
     "output_type": "stream",
     "text": [
      "-0.11300540264813297\n"
     ]
    }
   ],
   "source": [
    "# fcn default: np.sqrt\n",
    "my_func = np.mean\n",
    "\n",
    "M = my_func(sim_data)\n",
    "print(M)"
   ]
  },
  {
   "cell_type": "code",
   "execution_count": 10,
   "metadata": {},
   "outputs": [],
   "source": [
    "# Examples of the function\n"
   ]
  },
  {
   "cell_type": "markdown",
   "metadata": {},
   "source": [
    "## bootstrap pseudocode (Slide 27)"
   ]
  },
  {
   "cell_type": "markdown",
   "metadata": {},
   "source": [
    "For 10000 times: (use for or while loop)\n",
    "    * resample N data points **with replacement**\n",
    "    * calculate the sample statistic \n",
    "    * record sample statistic (store it in a numpy array that you have initialized before the loop)\n",
    "    \n",
    "   return recorded sample statistics (distribution of sample statistic)"
   ]
  },
  {
   "cell_type": "markdown",
   "metadata": {},
   "source": [
    "# Getting the qth percentile \n",
    "(Lecture notes - first slide for confidence interval: slide 21)"
   ]
  },
  {
   "cell_type": "markdown",
   "metadata": {},
   "source": [
    "There are two ways to do it:\n",
    "- https://docs.scipy.org/doc/numpy/reference/generated/numpy.quantile.html\n",
    "- https://docs.scipy.org/doc/numpy/reference/generated/numpy.percentile.html"
   ]
  },
  {
   "cell_type": "code",
   "execution_count": 43,
   "metadata": {},
   "outputs": [
    {
     "name": "stdout",
     "output_type": "stream",
     "text": [
      "1.505646312314123\n"
     ]
    }
   ],
   "source": [
    "# using quantile\n",
    "Q = np.quantile(a = sim_data, q = 0.9)\n",
    "print(Q)"
   ]
  },
  {
   "cell_type": "code",
   "execution_count": 45,
   "metadata": {},
   "outputs": [
    {
     "name": "stdout",
     "output_type": "stream",
     "text": [
      "1.505646312314123\n"
     ]
    }
   ],
   "source": [
    "# using percentile\n",
    "P = np.percentile(a = sim_data, q = 90)\n",
    "print(P)"
   ]
  },
  {
   "cell_type": "markdown",
   "metadata": {},
   "source": [
    "# plotting vertical and horizental lines"
   ]
  },
  {
   "cell_type": "code",
   "execution_count": 47,
   "metadata": {},
   "outputs": [
    {
     "data": {
      "text/plain": [
       "<matplotlib.lines.Line2D at 0x1d7df499970>"
      ]
     },
     "execution_count": 47,
     "metadata": {},
     "output_type": "execute_result"
    },
    {
     "data": {
      "image/png": "[encoded data removed]",
      "text/plain": [
       "<Figure size 432x288 with 1 Axes>"
      ]
     },
     "metadata": {
      "needs_background": "light"
     },
     "output_type": "display_data"
    }
   ],
   "source": [
    "# plot the histogram for the data and draw a vertical red line at 95th percentile\n",
    "plt.axvline(x = P, color = 'r')"
   ]
  },
  {
   "cell_type": "markdown",
   "metadata": {},
   "source": [
    "# About the Assignment\n"
   ]
  },
  {
   "cell_type": "markdown",
   "metadata": {},
   "source": [
    "## Task 2 - Question 1\n",
    "- Correction: What is the mean finishing time in the whole population of runners? Written answer: How much does it differ from the mean finishing time of the sample analyzed in Task 1\n",
    "- To Answer the question, Calculate proportions and means and justify your answer with the numbers you have calculated"
   ]
  },
  {
   "cell_type": "markdown",
   "metadata": {},
   "source": [
    "More on groupby: https://pandas.pydata.org/pandas-docs/stable/user_guide/groupby.html\n",
    "- use groupby to get a groupby object\n",
    "- You can use groups.keys() to get the group keys\n",
    "- Use get_group() with one of the keys to get the data for that group\n",
    "- Use .count() or .size() the same way as you did with .mean()\n"
   ]
  },
  {
   "cell_type": "code",
   "execution_count": null,
   "metadata": {},
   "outputs": [],
   "source": [
    "# An example from groupby document\n",
    "df = pd.DataFrame({'A': ['foo', 'bar', 'foo', 'bar',\n",
    "                         'foo', 'bar', 'foo', 'foo'],\n",
    "                    'B': ['one', 'one', 'two', 'three',\n",
    "                            'two', 'two', 'one', 'three'],\n",
    "                    'C': np.random.randn(8),\n",
    "                    'D': np.random.randn(8)})"
   ]
  },
  {
   "cell_type": "code",
   "execution_count": null,
   "metadata": {},
   "outputs": [],
   "source": [
    "display(df)"
   ]
  },
  {
   "cell_type": "code",
   "execution_count": 14,
   "metadata": {},
   "outputs": [],
   "source": [
    "# using groups.keys() to get the group names\n",
    "\n",
    "# using get_group\n",
    "\n",
    "# using .count to get the number of elements in a group\n"
   ]
  }
 ],
 "metadata": {
  "kernelspec": {
   "display_name": "Python 3",
   "language": "python",
   "name": "python3"
  },
  "language_info": {
   "codemirror_mode": {
    "name": "ipython",
    "version": 3
   },
   "file_extension": ".py",
   "mimetype": "text/x-python",
   "name": "python",
   "nbconvert_exporter": "python",
   "pygments_lexer": "ipython3",
   "version": "3.8.8"
  }
 },
 "nbformat": 4,
 "nbformat_minor": 2
}
