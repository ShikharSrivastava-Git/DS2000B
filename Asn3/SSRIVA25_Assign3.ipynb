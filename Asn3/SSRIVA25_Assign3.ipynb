{
 "cells": [
  {
   "attachments": {},
   "cell_type": "markdown",
   "metadata": {
    "collapsed": true
   },
   "source": [
    "# Assignment 3: Bootstrap, confidence intervals & standard errors\n",
    "\n",
    "## Learning Outcomes:\n",
    "In this homework we will look at Estimates, Bootstrap, Confidence intervals, and Standard error.\n",
    "## Dataset \n",
    "The data set run10sample.csv contains data from random sample of 25 runner of the 16923 competitor in the 2012 Cherry blossom run (cherryblossom.org). The variables in the file are: \n",
    "\n",
    "- Place:  Finishing position. Separate positions are provided for each gender.\n",
    "- time: The total run time (in min) \n",
    "- Pace: The listed pace (/mile) for each runner.\n",
    "- Age: Age.\n",
    "- Gender: Gender.\n",
    "- Location: Hometown city. \n",
    "- State: Hometown state \n",
    "- divPlace: Age Division place, also broken up by gender.\n",
    "- divTot: Total number of people in the division (again, also split by gender).\n",
    "\n",
    "The data set run10.csv contains the data from all 16923 competitors, so you can also analyze the whole population. \n",
    "\n",
    "## Preliminaries\n",
    "Set up the environment by importing pandas, numpy, scipy, and matplotlib. "
   ]
  },
  {
   "cell_type": "code",
   "execution_count": 91,
   "metadata": {},
   "outputs": [],
   "source": [
    "import pandas as pd\n",
    "import numpy as np\n",
    "import scipy as ss\n",
    "import matplotlib.pyplot as plt \n",
    "import seaborn as sns"
   ]
  },
  {
   "attachments": {},
   "cell_type": "markdown",
   "metadata": {},
   "source": [
    "On some installations, you may still have to configure your notebook such that plots are shown inline (see Assignment 2). "
   ]
  },
  {
   "cell_type": "code",
   "execution_count": 92,
   "metadata": {},
   "outputs": [],
   "source": [
    "import matplotlib\n",
    "matplotlib.use('TkAgg')\n",
    "%matplotlib inline"
   ]
  },
  {
   "cell_type": "markdown",
   "metadata": {},
   "source": [
    "## Task 1: Analyzing a sample from the  population (12pt)\n",
    "In this task you will use the sample of runners that you got. \n",
    "### Question 1 (4pt)\n",
    "What was the mean finishing time in the random sample?"
   ]
  },
  {
   "cell_type": "code",
   "execution_count": 93,
   "metadata": {},
   "outputs": [
    {
     "data": {
      "text/plain": "98.1504"
     },
     "execution_count": 93,
     "metadata": {},
     "output_type": "execute_result"
    }
   ],
   "source": [
    "df1=pd.read_csv('run10sample.csv')\n",
    "t1=df1.time.mean()\n",
    "t1"
   ]
  },
  {
   "cell_type": "markdown",
   "metadata": {},
   "source": [
    "### Question 2 (4pt)\n",
    "What is the number of men and women in your sample (tip: use groupby and size or count)?"
   ]
  },
  {
   "cell_type": "code",
   "execution_count": 94,
   "metadata": {},
   "outputs": [
    {
     "data": {
      "text/plain": "F    14\nM    11\nName: gender, dtype: int64"
     },
     "execution_count": 94,
     "metadata": {},
     "output_type": "execute_result"
    }
   ],
   "source": [
    "counts1 = df1['gender'].value_counts()\n",
    "counts1                    #F is number of females, M is number of males"
   ]
  },
  {
   "cell_type": "markdown",
   "metadata": {},
   "source": [
    "### Question 3 (4pt)\n",
    "What was the mean finishing time when you split the sample up by gender (see Homework 2, task 4)? "
   ]
  },
  {
   "cell_type": "code",
   "execution_count": 95,
   "metadata": {},
   "outputs": [
    {
     "data": {
      "text/plain": "gender\nF    103.496429\nM     91.346364\nName: time, dtype: float64"
     },
     "execution_count": 95,
     "metadata": {},
     "output_type": "execute_result"
    }
   ],
   "source": [
    "df1['time'].groupby(df1['gender']).mean()"
   ]
  },
  {
   "cell_type": "markdown",
   "metadata": {},
   "source": [
    "## Task 2: Resampling from the population (47 Points)\n",
    "In this task you will have access to the data from the whole population to determine how much confidence you should have in the numbers you obained in Task 1.The dataset run10.csv contain the total population of 16923 competitors in the 2012 Cherry blossom run (cherryblossom.org). Having the whole population gives us the opportunity to check how good our sample estimate is. \n",
    "\n",
    "### Question 1 (10pt)\n",
    "\n",
    "What is the mean finishing time in the whole population of runners? Written answer: How much does it differ from the mean finishing time of the sample analyzed in Task 1? Can this difference be explained by the fact that our sample differs from the population in terms of gender distribution? How about age? Knowing these differences, how could we have improved our estimate?"
   ]
  },
  {
   "cell_type": "code",
   "execution_count": 96,
   "metadata": {},
   "outputs": [
    {
     "data": {
      "text/plain": "94.51597470897607"
     },
     "execution_count": 96,
     "metadata": {},
     "output_type": "execute_result"
    }
   ],
   "source": [
    "df2 = pd.read_csv('run10.csv')\n",
    "t2 = df2.time.mean()\n",
    "t2"
   ]
  },
  {
   "cell_type": "code",
   "execution_count": 97,
   "outputs": [
    {
     "data": {
      "text/plain": "3.634"
     },
     "execution_count": 97,
     "metadata": {},
     "output_type": "execute_result"
    }
   ],
   "source": [
    "x=t1-t2                                 # difference between mean and population sample\n",
    "round(x,3)"
   ],
   "metadata": {
    "collapsed": false
   }
  },
  {
   "cell_type": "code",
   "execution_count": 98,
   "outputs": [
    {
     "data": {
      "text/plain": "gender\nF    99.015584\nM    88.426391\nName: time, dtype: float64"
     },
     "execution_count": 98,
     "metadata": {},
     "output_type": "execute_result"
    }
   ],
   "source": [
    "counts2 = df2['gender'].value_counts()\n",
    "counts2                    #F is number of females, M is number of males\n",
    "df2['time'].groupby(df2['gender']).mean()"
   ],
   "metadata": {
    "collapsed": false
   }
  },
  {
   "cell_type": "code",
   "execution_count": 99,
   "outputs": [],
   "source": [
    "# After knowing all the things, I would choose to increase the sample size as the sample we currently represent the data accurate enough"
   ],
   "metadata": {
    "collapsed": false
   }
  },
  {
   "attachments": {},
   "cell_type": "markdown",
   "metadata": {},
   "source": []
  },
  {
   "attachments": {},
   "cell_type": "markdown",
   "metadata": {},
   "source": [
    "### Question 2 (10pt)\n",
    "Write a function **bootstrap**, which takes a data series (data) as an input and then performs a bootstrap. The function should take numIter samples from the data (with replacement) of size N. It should then calculate the statistics defined in fcn for each iteration and record it in a numpy-array, which it should then return.\n",
    "\n",
    "Input arguments \n",
    "- data: data series to resample\n",
    "- N: Sample size for each iteration \n",
    "- fcn: function to apply to the sample to get the statistics\n",
    "- numIter: Number of resamples (should default to 1000) \n",
    "\n",
    "Output argument: \n",
    "- Numpy array of size numIter that contains the estimates of the statistics (i.e. the bootstrap sample)\n"
   ]
  },
  {
   "cell_type": "code",
   "execution_count": 100,
   "metadata": {},
   "outputs": [
    {
     "data": {
      "text/plain": "array([3. , 2.4, 3.4, 2.2, 4.4, 3.6, 2.6, 3. , 3.2, 2.4, 2.8, 3.4, 2.8,\n       3.2, 3.2, 2.6, 2.6, 4. , 2.2, 2.6, 3.2, 3.6, 3. , 2.4, 2.4, 3.6,\n       2. , 2.8, 3.4, 2.8, 3.4, 3. , 2.6, 2.6, 3. , 2.4, 3.4, 2. , 2.4,\n       3. , 2.6, 3.2, 1.6, 3. , 3. , 3.4, 4. , 2.6, 2.2, 3.2, 3. , 3.2,\n       3.4, 2.8, 2.8, 2.8, 2.4, 3.2, 3.2, 3.4, 3.4, 4. , 4. , 4.2, 3.2,\n       2. , 3.2, 4.2, 3. , 2.6, 2.8, 3.2, 2.4, 2.6, 2.6, 2.8, 3.2, 3. ,\n       3.4, 3. , 3. , 2.8, 2.2, 3. , 3.6, 3.2, 3. , 3.8, 2.6, 2.4, 3.2,\n       2.6, 2.6, 3. , 3. , 3. , 2.6, 2.8, 3.4, 2.4, 3.8, 3. , 2.2, 3.2,\n       2.8, 2.4, 3.2, 4. , 3.2, 3.6, 2.2, 2.2, 2.2, 3. , 3. , 4.6, 3.4,\n       3.8, 2.4, 1.8, 3.8, 2. , 3. , 2.4, 2.4, 4. , 3.2, 2.2, 2.4, 2.8,\n       2. , 3.2, 4. , 4.2, 2.2, 3. , 2.6, 3.2, 3. , 3.2, 2.4, 4.4, 2.8,\n       3.6, 3.8, 3.6, 3.2, 2.2, 3.2, 2.2, 3.6, 2.2, 2.6, 3.6, 2.8, 2.4,\n       2. , 2.8, 2.8, 3.2, 3.4, 3.8, 3.4, 2.2, 2.2, 3.4, 1.8, 2.8, 3.4,\n       2.4, 2.4, 1.8, 2.2, 1.8, 3.6, 3.4, 3.4, 3.2, 2.4, 2.6, 2.8, 3. ,\n       3.8, 1.8, 3. , 3.6, 4. , 2.8, 3. , 3. , 2.6, 2.6, 2.8, 2.8, 3.2,\n       3. , 3.2, 2.6, 3.2, 3. , 2.8, 2.4, 3.2, 2.4, 2.4, 3.8, 4.2, 2.6,\n       2.6, 2.2, 2. , 3.6, 2.4, 3. , 2.8, 2.4, 3.6, 3.6, 3.6, 2.4, 3. ,\n       2.6, 3.4, 2. , 4. , 1.8, 1.8, 1.4, 3.2, 3.8, 2.8, 3.6, 4. , 3. ,\n       2.6, 3.2, 3.4, 2.8, 2.6, 4.4, 3. , 2. , 2.8, 2.2, 3.4, 1.8, 2.4,\n       3. , 3.8, 2.8, 3.4, 2.6, 2.8, 2.4, 3.2, 3.6, 4.2, 2.8, 4. , 3.2,\n       2.8, 2.6, 3.4, 2.6, 1.8, 3.6, 1.8, 2.8, 3.8, 4. , 2.8, 3.2, 1.8,\n       3.6, 2.2, 3.8, 2.6, 2.6, 2.4, 3.2, 2.6, 2.4, 3.2, 3.6, 2.6, 2.8,\n       1.8, 3.4, 2.6, 2.8, 2.6, 2.6, 3.6, 2.4, 3.4, 2.4, 1.8, 2.2, 3.6,\n       2.8, 2.4, 2.8, 3.6, 2.8, 2.2, 3.6, 3.8, 2.2, 3.8, 2.2, 3.4, 2.2,\n       3.6, 4. , 3. , 4. , 3. , 1.8, 3.8, 3.2, 3.8, 2.2, 2. , 3.2, 3.2,\n       3. , 2.4, 2.8, 3. , 3.8, 3. , 3.6, 2.4, 3.8, 2.8, 3.4, 2.6, 3.2,\n       2.4, 3.2, 3.2, 2.6, 3.2, 3.6, 3.2, 4.4, 2.6, 3.8, 1.8, 2.2, 2.6,\n       4.8, 2.2, 3.2, 2.4, 1.6, 3. , 3.2, 3.2, 3. , 3.6, 4.2, 2.8, 3.6,\n       3.2, 1.8, 3.6, 1.6, 3. , 3.8, 2.4, 4.4, 2.8, 2.8, 3. , 3.8, 2. ,\n       3.6, 4.2, 2.4, 3.8, 3.2, 4. , 3. , 3.8, 3.2, 1.8, 3.4, 3.2, 4.2,\n       2.6, 2.8, 3.4, 2.4, 2.8, 2.6, 2. , 2. , 2.8, 4.4, 3.2, 4. , 3.8,\n       3. , 2. , 2.4, 3.2, 3. , 3.8, 2.2, 3.4, 3.2, 3.2, 2.2, 2.2, 4.2,\n       3.6, 2.4, 2.8, 3. , 3.4, 2.2, 2.6, 2.8, 4.2, 3. , 3.2, 3. , 4.4,\n       3.2, 2.6, 3.4, 3.2, 3.8, 2.6, 3.8, 3.4, 3.6, 3.4, 3.2, 2.6, 2.6,\n       3.4, 2.6, 2.2, 3. , 2.8, 3.8, 3. , 3.4, 3.8, 3.4, 2.6, 2.8, 2.8,\n       3.2, 3. , 3.8, 2.8, 3.2, 3.6, 2.2, 4. , 3. , 3.2, 3.4, 4.2, 2.4,\n       2.4, 3.6, 2.8, 2.2, 2.8, 3. , 3.6, 3.8, 4.4, 3.6, 3.2, 2.8, 3. ,\n       2.8, 2. , 1.8, 2.8, 2.2, 3. , 3.6, 2. , 2.4, 3.2, 3.6, 2.8, 3.8,\n       3.4, 2.6, 2.8, 3. , 3.2, 3. , 3.4, 1.8, 2.4, 3.4, 2.8, 3.4, 3.4,\n       3.6, 2.8, 3.6, 3.2, 3.8, 2.6, 3. , 3.2, 3. , 3.2, 3.4, 2.6, 2.4,\n       3.8, 2.2, 2.4, 2.2, 4.2, 3.6, 3.4, 3.4, 1.8, 3.8, 2.4, 2.8, 3.8,\n       3. , 3.6, 3.2, 2.8, 2.8, 2.8, 3.6, 2. , 3.4, 3. , 3.8, 2.4, 1.8,\n       2.8, 3.4, 4. , 2.6, 1.4, 2.6, 2.8, 3. , 2.4, 3. , 4.6, 2. , 2.6,\n       2.8, 2.8, 2.4, 3.2, 3.2, 2.8, 2.8, 3.4, 1.6, 2.6, 2.4, 3.2, 2.4,\n       4.2, 2.4, 3. , 2.4, 3.6, 2.4, 1.6, 2.2, 3. , 3.4, 2.8, 3.4, 2.2,\n       2.8, 3.2, 3.4, 4.4, 3.4, 2.8, 3. , 3.2, 2.8, 3.4, 2.8, 2.8, 3.8,\n       3.4, 1.8, 3.2, 2.4, 3.2, 2.2, 3.8, 2.4, 4.2, 3.6, 3.2, 3. , 2.6,\n       2.4, 3.8, 2.2, 2.6, 1.8, 3.8, 2.4, 2.6, 2.8, 3.4, 2.2, 2.6, 3.2,\n       2.6, 3.8, 3. , 3.6, 3.8, 3.4, 3. , 2. , 3.2, 2.2, 3. , 3.2, 2.4,\n       2. , 3.6, 2.4, 2.4, 2.4, 3.4, 2.6, 3.6, 1.8, 2.8, 1.6, 2.8, 4.2,\n       2.4, 2.4, 2.6, 2.6, 2. , 2.8, 3.2, 2.8, 2. , 2.6, 3.8, 3. , 1.8,\n       3.4, 3.8, 1.6, 3.4, 3.6, 3.4, 3.2, 3.2, 2.8, 2.2, 2.4, 3. , 3. ,\n       3. , 3.2, 2.6, 2.8, 2.6, 3.4, 2.8, 2.4, 1.2, 2.4, 3. , 4.4, 3.8,\n       3. , 1.8, 3.2, 3.4, 3.8, 3.2, 2.6, 3.4, 3. , 3.8, 3.4, 4.2, 3. ,\n       2.8, 2.6, 2.8, 3.2, 2. , 2.2, 2.8, 2.2, 4.6, 3.2, 3.4, 2.4, 2.8,\n       2.6, 1.8, 2. , 4.4, 2.2, 2.4, 2.2, 4.2, 2.8, 2.6, 3.6, 2.2, 3.8,\n       2.8, 1.8, 3.8, 2.2, 2.2, 2.8, 3.6, 2.2, 3.2, 3.4, 2.8, 2.8, 3.8,\n       2.8, 3. , 3.8, 2.6, 2.6, 4.4, 3.8, 3.4, 3. , 2.6, 4.2, 3.8, 2. ,\n       3.4, 2.8, 2.2, 2.8, 2.4, 2.4, 3. , 2.4, 2.6, 4. , 2.4, 2.4, 3.2,\n       2.2, 3. , 2.2, 2.4, 3. , 3.4, 3.2, 3. , 3.4, 2.8, 3.4, 2.6, 2.6,\n       3.4, 3.2, 2.8, 2.2, 4. , 3.6, 1.8, 2.8, 3.8, 1.6, 2.2, 3.4, 2.8,\n       2.6, 2.2, 2.8, 3.2, 3.2, 3.2, 3.6, 4. , 3.2, 3. , 3.2, 3.4, 3.4,\n       2.6, 3.8, 3.6, 2.6, 3.4, 3.8, 2.2, 3. , 2.8, 2.8, 3. , 3. , 1.8,\n       2.6, 3.8, 2.4, 3.4, 3. , 3. , 3.4, 3.2, 3.6, 2. , 3.2, 3. , 2.4,\n       3.4, 3. , 4.4, 2.4, 2.4, 3. , 3.6, 1.8, 3. , 2.4, 2.8, 4. , 2.6,\n       3.6, 2.8, 2.8, 3.4, 3.8, 3.6, 3. , 3.8, 2.6, 3.2, 4. , 2.8, 2.8,\n       2.6, 2.8, 2.2, 3.6, 3.2, 2.6, 3.2, 3. , 3.2, 3.8, 1.8, 3.4, 3.2,\n       2.2, 3.2, 3.6, 3.6, 3.2, 2.8, 3.2, 2.8, 3.8, 4.2, 4.2, 4. , 3. ,\n       3.2, 3.8, 3.8, 2.4, 3.2, 3. , 3.6, 2.8, 3. , 3.2, 2.2, 2. , 2.4,\n       3.2, 2.6, 3.8, 3.8, 2.6, 4.2, 2. , 2. , 2. , 3.4, 3.6, 3.8, 4.4,\n       2.8, 3.2, 3.8, 1.8, 2.4, 3. , 2.6, 3. , 3.6, 3.6, 4.2, 3.2, 2.2,\n       2.4, 3. , 3.4, 3.8, 2.4, 3. , 3.2, 3.6, 2.6, 4.2, 3.8, 1.4, 3.6,\n       3.4, 2.6, 3.2, 2.4, 3.4, 2.8, 3. , 2.8, 2.8, 3. , 3. , 2.4, 2.6,\n       2.4, 3. , 4. , 2. , 2.8, 3.4, 3.2, 1.6, 3.2, 3.2, 1.8, 1.8, 3. ,\n       3.6, 2.6, 2.2, 2.2, 2.2, 3.4, 2.6, 3. , 3.4, 2.4, 3.4, 2.2, 3.2,\n       2.8, 3. , 3.4, 3.4, 2.2, 2.4, 3.4, 2. , 2.8, 3.8, 3.6, 2.8, 3.8,\n       4.2, 3.4, 3. , 3. , 3.8, 2.8, 3.4, 2.2, 3. , 3.4, 2.6, 1.8])"
     },
     "execution_count": 100,
     "metadata": {},
     "output_type": "execute_result"
    }
   ],
   "source": [
    "def bootstrap(data, N, fcn, numIter=1000):\n",
    "    # Create an array to store the bootstrap samples\n",
    "    bootstrap_samples = np.empty(numIter)\n",
    "\n",
    "    # Loop over the number of iterations\n",
    "    for i in range(numIter):\n",
    "        # Draw a sample of size N from the data (with replacement)\n",
    "        sample = np.random.choice(data, size=N, replace=True)\n",
    "\n",
    "        # Apply the function to the sample to get the statistics\n",
    "        bootstrap_samples[i] = fcn(sample)\n",
    "\n",
    "    return bootstrap_samples\n",
    "\n",
    "data = [1, 2, 3, 4, 5]\n",
    "N = 5\n",
    "fcn = np.mean\n",
    "numIter = 1000\n",
    "\n",
    "mean_estimates = bootstrap(data, N, fcn, numIter)\n",
    "mean_estimates\n"
   ]
  },
  {
   "attachments": {},
   "cell_type": "markdown",
   "metadata": {},
   "source": [
    "### Question 3 (8pt)\n",
    "Call the resample (bootstrap) function from Question 2 with time from the whole population as the data series, mean as the statistic, and a sample size of 25. Plot a histogram of the samples – make sure your x-axis and y-axis are labeled and a caption added. Report the mean and the standard deviation of the resampled estimates."
   ]
  },
  {
   "cell_type": "code",
   "execution_count": 101,
   "metadata": {},
   "outputs": [
    {
     "data": {
      "text/plain": "<Figure size 640x480 with 1 Axes>",
      "image/png": "[encoded data removed]"
     },
     "metadata": {},
     "output_type": "display_data"
    }
   ],
   "source": [
    "\n",
    "data = df1.time\n",
    "N = 25\n",
    "fcn = np.mean\n",
    "numIter = 1000\n",
    "\n",
    "mean_estimates1 = bootstrap(data, N, fcn, numIter)\n",
    "\n",
    "mean_estimates1\n",
    "\n",
    "plt.hist(mean_estimates1, bins=30, edgecolor='black')\n",
    "plt.xlabel('Mean')\n",
    "plt.ylabel('Frequency')\n",
    "plt.title('Histogram of Resampled estimates')\n",
    "\n",
    "# Show the plot\n",
    "plt.show()"
   ]
  },
  {
   "cell_type": "code",
   "execution_count": 102,
   "outputs": [
    {
     "data": {
      "text/plain": "98.01572680000001"
     },
     "execution_count": 102,
     "metadata": {},
     "output_type": "execute_result"
    }
   ],
   "source": [
    "# Calculate the mean\n",
    "g1=np.mean(mean_estimates1,axis=0)\n",
    "g1"
   ],
   "metadata": {
    "collapsed": false
   }
  },
  {
   "cell_type": "code",
   "execution_count": 103,
   "outputs": [
    {
     "data": {
      "text/plain": "2.8144078057455992"
     },
     "execution_count": 103,
     "metadata": {},
     "output_type": "execute_result"
    }
   ],
   "source": [
    "# Calculate the standard deviation\n",
    "h1=np.std(mean_estimates1,axis=0)\n",
    "h1"
   ],
   "metadata": {
    "collapsed": false
   }
  },
  {
   "attachments": {},
   "cell_type": "markdown",
   "metadata": {},
   "source": []
  },
  {
   "cell_type": "markdown",
   "metadata": {},
   "source": [
    "### Question 4 (8pt)\n",
    "Call your bootstrap function again as in question 3, this time increasing the sample size first to 50, and then to 100. Which of the values (mean, standard deviation) of the means distribution changes most and why? "
   ]
  },
  {
   "cell_type": "code",
   "execution_count": 104,
   "metadata": {},
   "outputs": [],
   "source": [
    "data = df1.time\n",
    "N = 50\n",
    "fcn = np.mean\n",
    "numIter = 1000\n",
    "\n",
    "mean_estimates2 = bootstrap(data, N, fcn, numIter)"
   ]
  },
  {
   "cell_type": "code",
   "execution_count": 105,
   "outputs": [
    {
     "data": {
      "text/plain": "98.2003272"
     },
     "execution_count": 105,
     "metadata": {},
     "output_type": "execute_result"
    }
   ],
   "source": [
    "g2=np.mean(mean_estimates2,axis=0)\n",
    "g2"
   ],
   "metadata": {
    "collapsed": false
   }
  },
  {
   "cell_type": "code",
   "execution_count": 106,
   "outputs": [
    {
     "data": {
      "text/plain": "1.945274108248028"
     },
     "execution_count": 106,
     "metadata": {},
     "output_type": "execute_result"
    }
   ],
   "source": [
    "# Calculate the standard deviation\n",
    "h2=np.std(mean_estimates2,axis=0)\n",
    "h2"
   ],
   "metadata": {
    "collapsed": false
   }
  },
  {
   "cell_type": "code",
   "execution_count": 107,
   "outputs": [],
   "source": [
    "data = df1.time\n",
    "N = 100\n",
    "fcn = np.mean\n",
    "numIter = 1000\n",
    "\n",
    "mean_estimates3 = bootstrap(data, N, fcn, numIter)"
   ],
   "metadata": {
    "collapsed": false
   }
  },
  {
   "cell_type": "code",
   "execution_count": 108,
   "outputs": [
    {
     "data": {
      "text/plain": "98.25264250000001"
     },
     "execution_count": 108,
     "metadata": {},
     "output_type": "execute_result"
    }
   ],
   "source": [
    "g3=np.mean(mean_estimates3,axis=0)\n",
    "g3"
   ],
   "metadata": {
    "collapsed": false
   }
  },
  {
   "cell_type": "code",
   "execution_count": 109,
   "outputs": [
    {
     "data": {
      "text/plain": "1.4457207099795417"
     },
     "execution_count": 109,
     "metadata": {},
     "output_type": "execute_result"
    }
   ],
   "source": [
    "h3=np.std(mean_estimates3,axis=0)\n",
    "h3"
   ],
   "metadata": {
    "collapsed": false
   }
  },
  {
   "attachments": {},
   "cell_type": "markdown",
   "metadata": {},
   "source": [
    "Standard deviation changes the most as the data get more and more accurate when we take a bigger sample."
   ]
  },
  {
   "cell_type": "markdown",
   "metadata": {
    "collapsed": true
   },
   "source": [
    "### Question 5 (6pt)\n",
    "Calculate the predicted standard error of the mean from the population standard deviation and the same size for  N=25, N=50, and N=100. Write a line of code for each sample size that prints the answer in a full sentence. Written answer: Do these match up with the SEMs that you got from question 4? "
   ]
  },
  {
   "cell_type": "code",
   "execution_count": 110,
   "metadata": {},
   "outputs": [
    {
     "name": "stdout",
     "output_type": "stream",
     "text": [
      "For N=25, the predicted SEM is 0.5628815611491198\n",
      "For N=50, the predicted SEM is 0.2751033026417589\n",
      "For N=100, the predicted SEM is 0.14457207099795416\n"
     ]
    }
   ],
   "source": [
    "# For N=25\n",
    "def standardError(N):\n",
    "    if N == 25:\n",
    "        SEM = h1 / np.sqrt(N)\n",
    "        print(\"For N=25, the predicted SEM is\", SEM)\n",
    "    if N == 50:\n",
    "        SEM = h2 / np.sqrt(N)\n",
    "        print(\"For N=50, the predicted SEM is\", SEM)\n",
    "    if N == 100:\n",
    "        SEM = h3 / np.sqrt(N)\n",
    "        print(\"For N=100, the predicted SEM is\", SEM)\n",
    "\n",
    "standardError(25)\n",
    "standardError(50)\n",
    "standardError(100)\n",
    "\n"
   ]
  },
  {
   "attachments": {},
   "cell_type": "markdown",
   "metadata": {},
   "source": []
  },
  {
   "attachments": {},
   "cell_type": "markdown",
   "metadata": {},
   "source": [
    "## Task 3: Calculating confidence intervals (24pt) \n",
    "### Question 1 (8pt)\n",
    "Write a function (confidenceInt) that constructs a confidence interval from a bootstrap sample using the percentile bootstrap method (see lecture). \t\n",
    "\n",
    "Input arguments \n",
    "- data: Sample of estimates – usually this is output from “bootstrap” (resample function from task 3 Q2)\n",
    "- prec: What Confidence interval in percent? 95= 95% confidence interval <br/>\n",
    "Output argument: \n",
    "- A list with 2 values: the lower and upper bound of the interval. \n",
    "\n",
    "Tip: Use np.percentile to get a specific percentile of the data. The lower bound of a 95% confidence interval is the (100-95)/2=2.5 percentile. "
   ]
  },
  {
   "cell_type": "code",
   "execution_count": 111,
   "metadata": {},
   "outputs": [],
   "source": [
    "def confidenceInt(data, prec):\n",
    "    lower_bound = np.percentile(data, (100 - prec) / 2)\n",
    "    upper_bound = np.percentile(data, 100 - (100 - prec) / 2)\n",
    "    return [lower_bound, upper_bound]"
   ]
  },
  {
   "cell_type": "markdown",
   "metadata": {},
   "source": [
    "### Question 2 (8pt)\n",
    "Determine the confidence 95% interval for the mean estimate of your sample of 25. Use your bootstrap function (resample from Task 3 Q2) above to generate 1000 artificial samples of 25. Then use your confidenceInt function to get the 95% confidence interval.  Report the interval. \n"
   ]
  },
  {
   "cell_type": "code",
   "execution_count": 112,
   "metadata": {},
   "outputs": [
    {
     "name": "stdout",
     "output_type": "stream",
     "text": [
      "[76.498, 124.74199999999998]\n",
      "[92.84073000000001, 103.92254]\n",
      "is the interval\n"
     ]
    }
   ],
   "source": [
    "\n",
    "t=confidenceInt(df1.time,95)\n",
    "print(t)\n",
    "\n",
    "data = df1.time\n",
    "N = 25\n",
    "fcn = np.mean\n",
    "numIter = 1000\n",
    "\n",
    "mean_estimates7 = bootstrap(data, N, fcn, numIter)\n",
    "\n",
    "t7=confidenceInt(mean_estimates7,95)\n",
    "\n",
    "print(t7)\n",
    "print(\"is the interval\")"
   ]
  },
  {
   "cell_type": "markdown",
   "metadata": {},
   "source": [
    "### Question 3  (8pt)\n",
    "Repeat the plotting of the histogram from task 2.3 – but this time plot the lower and upper bound of the confidence interval as a vertical line – see plt.axvline. Make sure that the graph has x- and y-labels and a caption."
   ]
  },
  {
   "cell_type": "code",
   "execution_count": 113,
   "metadata": {},
   "outputs": [
    {
     "data": {
      "text/plain": "<matplotlib.lines.Line2D at 0x16835cf2910>"
     },
     "execution_count": 113,
     "metadata": {},
     "output_type": "execute_result"
    },
    {
     "data": {
      "text/plain": "<Figure size 640x480 with 1 Axes>",
      "image/png": "[encoded data removed]"
     },
     "metadata": {},
     "output_type": "display_data"
    }
   ],
   "source": [
    "plt.hist(mean_estimates1, bins=30, edgecolor='black')\n",
    "plt.xlabel('Mean')\n",
    "plt.ylabel('Frequency')\n",
    "plt.title('Histogram of Resampled estimates')\n",
    "t=confidenceInt(mean_estimates1,95)\n",
    "# Add the lower and upper bounds of the confidence interval\n",
    "plt.axvline(t[0], color='green', label='Lower CI Bound')\n",
    "plt.axvline(t[1], color='green', label='Upper CI Bound')"
   ]
  },
  {
   "attachments": {},
   "cell_type": "markdown",
   "metadata": {},
   "source": []
  },
  {
   "cell_type": "markdown",
   "metadata": {},
   "source": [
    "## Task 4: Bootstraping from the sample (22pt)\n",
    "Now let's forget that you ever had the data from the whole population. Say, you only have your initial sample of 25 participants. How would you get an estimate of the confidence interval of the mean of the sample? \n",
    "### Question 1 (8pt)\n",
    "Load the sample stored in run10sample.csv. Now call the resample function with that time data, in each loop resampling 25 data points from 25 data points (with replacement!). You have now taken 1000 bootstrap samples. Report the mean of the bootstrap samples, the standard deviation of the the samples, and the 95% confidence interval."
   ]
  },
  {
   "cell_type": "code",
   "execution_count": 114,
   "metadata": {},
   "outputs": [
    {
     "name": "stdout",
     "output_type": "stream",
     "text": [
      "Mean of bootstrap samples:  98.0780376\n",
      "Standard deviation of bootstrap samples:  13.443011672792698\n",
      "95% Confidence Interval:  [ 93.23501 103.42606]\n"
     ]
    }
   ],
   "source": [
    "# Load the sample data\n",
    "data5=df1.time\n",
    "\n",
    "# Perform the bootstrap resampling\n",
    "n_samples = 1000\n",
    "bootstrapped_samples = np.random.choice(data5, (n_samples, 25), replace=True)\n",
    "\n",
    "# Calculate the mean of the bootstrap samples\n",
    "bootstrapped_means = np.mean(bootstrapped_samples, axis=1)\n",
    "\n",
    "# Calculate the standard deviation of the bootstrap samples\n",
    "bootstrapped_stds = np.std(bootstrapped_samples, axis=1)\n",
    "\n",
    "# Calculate the 95% confidence interval\n",
    "ci = np.percentile(bootstrapped_means, [2.5, 97.5])\n",
    "\n",
    "# Print the results\n",
    "print(\"Mean of bootstrap samples: \", np.mean(bootstrapped_means))\n",
    "print(\"Standard deviation of bootstrap samples: \", np.mean(bootstrapped_stds))\n",
    "print(\"95% Confidence Interval: \", ci)\n"
   ]
  },
  {
   "attachments": {},
   "cell_type": "markdown",
   "metadata": {},
   "source": [
    "### Question 2 (8pt)\n",
    "Plot of the histogram of your bootstrap samples –plot the lower and upper bound of the confidence interval as a vertical line – see plt.axvline (see homework 3). Plot the true population mean (Task 2.1) as a red vertical line. Make sure that the graph has x- and y-labels and caption saying what the different lines mean. "
   ]
  },
  {
   "cell_type": "code",
   "execution_count": 115,
   "metadata": {},
   "outputs": [
    {
     "data": {
      "text/plain": "<Figure size 640x480 with 1 Axes>",
      "image/png": "[encoded data removed]"
     },
     "metadata": {},
     "output_type": "display_data"
    }
   ],
   "source": [
    "# Perform the bootstrap resampling\n",
    "n_samples = 1000\n",
    "bootstrapped_samples = np.random.choice(data5, (n_samples, 25), replace=True)\n",
    "\n",
    "# Calculate the mean of the bootstrap samples\n",
    "bootstrapped_means = np.mean(bootstrapped_samples, axis=1)\n",
    "\n",
    "# Calculate the 95% confidence interval\n",
    "ci = np.percentile(bootstrapped_means, [2.5, 97.5])\n",
    "\n",
    "# Plot the histogram of the bootstrap samples\n",
    "plt.hist(bootstrapped_means, bins=30, edgecolor='black')\n",
    "\n",
    "# Add the lower and upper bounds of the confidence interval\n",
    "plt.axvline(ci[0], color='green', label='Lower CI Bound')\n",
    "plt.axvline(ci[1], color='green', label='Upper CI Bound')\n",
    "\n",
    "# Add the true population mean\n",
    "plt.axvline(np.mean(data), color='red', label='True Population Mean')\n",
    "\n",
    "# Add labels and title\n",
    "plt.xlabel('Mean')\n",
    "plt.ylabel('Frequency')\n",
    "plt.title('Histogram of Bootstrapped Samples with Confidence Intervals and True Population Mean')\n",
    "plt.legend()\n",
    "\n",
    "# Show the plot\n",
    "plt.show()\n"
   ]
  },
  {
   "attachments": {},
   "cell_type": "markdown",
   "metadata": {},
   "source": []
  },
  {
   "cell_type": "markdown",
   "metadata": {},
   "source": [
    "### Question 3: (6pt)\n",
    "Written answer: Does the 95% confidence interval include the true population mean? Does it include the mean value from last year’s cherry blossom run (101min)? Is there statistical evidence from your sample of N=25, that the race times have gotten faster from last year? "
   ]
  },
  {
   "attachments": {},
   "cell_type": "markdown",
   "metadata": {},
   "source": [
    "Yes, the confidence interval includes the true population mean here.\n",
    "Yes, it contains last year's cherry blossom run(101 min.) as it contains all the samples between 92.939 and 103.456.\n",
    "No, because we don't have data from last year and know nothing about it."
   ]
  }
 ],
 "metadata": {
  "kernelspec": {
   "display_name": "base",
   "language": "python",
   "name": "python3"
  },
  "language_info": {
   "codemirror_mode": {
    "name": "ipython",
    "version": 3
   },
   "file_extension": ".py",
   "mimetype": "text/x-python",
   "name": "python",
   "nbconvert_exporter": "python",
   "pygments_lexer": "ipython3",
   "version": "3.9.5"
  },
  "vscode": {
   "interpreter": {
    "hash": "3d597f4c481aa0f25dceb95d2a0067e73c0966dcbd003d741d821a7208527ecf"
   }
  }
 },
 "nbformat": 4,
 "nbformat_minor": 2
}
