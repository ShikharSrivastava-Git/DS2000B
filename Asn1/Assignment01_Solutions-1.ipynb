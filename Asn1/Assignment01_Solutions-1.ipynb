{
 "cells": [
  {
   "attachments": {},
   "cell_type": "markdown",
   "metadata": {},
   "source": [
    "# Assignment 01 (100 points)\n",
    "### Learning Outcomes \n",
    "By completing this assignment, you will gain and demonstrate skills relating to\n",
    "- Working within the python and Jupyter notebook environment \n",
    "- Learning the basics of pandas’ dataframes \n",
    "- Extracting descriptive statistics from the data\n",
    "- Plot basic histograms and judge the shape of different distributions\n",
    "\n",
    "### Problem Description\n",
    "How much you do people earn for the job they do? What factors determine who earns more? How big is the difference in pay between males and females in equivalent jobs? How does your skin color influence how much you earn? How does age, education level and number of hours worked related to annual income?  \n",
    "\n",
    "This and many interesting questions you can address in the following open dataset on annual income from the US from 2003. \n",
    "The data set has the following data columns:\n",
    "- age: Age in years\n",
    "- workclass: Classification of workplace:\n",
    "    - Private: Employed in private company\n",
    "    - Local-gov: Local government\n",
    "    - State-gov: State government\n",
    "    - Federal-gov: Federal government \n",
    "    - Self-emp-inc: Self employed in own company\n",
    "    - Self-emp-not-inc: Self employed in other legal format\n",
    "- education: Education level\n",
    "- education-num: Numerical level of education \n",
    "- marital-status\n",
    "- occupation \n",
    "- race\n",
    "- gender\n",
    "- capital-gain: Annual gains from capital investments as reported in tax return \n",
    "- capital-loss: Annual loss from capital investments \n",
    "- hours-per-week: Self-reported number of hours per week worked \n",
    "- native-country: Country of birth \n",
    "- income: Annual salary in USD (without capital gains)\n",
    "- month_of_birth: Birth month (1-12)\n",
    "\n",
    "### General Instructions\n",
    "Unless otherwise stated,\n",
    "- You are encouraged to use numpy, pandas, and matplotlib methods (e.g., mean, etc.).\n",
    "- Results in written answers should be rounded to 3 decimal places. \n",
    "- Before starting this assignment, it is important you go through the Installation and Assignment Instructions document.\n",
    "\n",
    "### Learning about pandas and data frames \n",
    "In this homework, you will be expected to attend the lab and also read through portions of the “Python for Data Analysis” textbook. Make sure that you familiarize yourself with Numpy (Chapter 4). Then work through the aforementioned sections in Chapters 5, 6, 8 and 9 to get the basic usage of data frames. This is a lot to read, and not everything is 100% important. Nonetheless, I encourage you to start working through the essentials. To help you not get lost, we will point you to the relevant book section for the various tasks. However, you may have to go back and read some basics if you realize that you are missing understanding on some foundational concept.  \n",
    "\n",
    "### Submit via OWL\n",
    "Please use this jupyter notebook to fill in the answers below. Before submitting, please make sure you clear the output prior to submission (Cell Menu -> All Outputs -> Clear ). Submit your notebook file under the file name YourUserID_Assign1.ipynb \n",
    "\n",
    "Make sure you attach the file to your assignment; DO NOT put the code inline in the textbox.\n",
    "Make sure that you develop your code with Python 3.7 or higher as the interpreter. The TA will not endeavor to fix code that uses earlier versions of Python (e.g. 2.7). Make sure that your code includes all statements that it requires to work properly when calling Cell->Run All. \n",
    "\n",
    "### General Marking criteria: \n",
    "- Working code in Python >=3.7 \n",
    "- Written answer in full English sentences, if required \n",
    "- For more complicated questions, show how you arrived at your answer\n",
    "- Informative variable names \n",
    "- For larger pieces of code, include proper comments \n",
    "- All figures require axis labels + a caption "
   ]
  },
  {
   "cell_type": "markdown",
   "metadata": {},
   "source": [
    "## Task 0: Take the background survey (? \\ 4 points)\n",
    "Data Science 2000 is now taught as a course that is available to students from a range of different backgrounds. To improve the course, we want to know what your background going into the class are. Please go to: \n",
    "\n",
    "Course OWL Site  -> Test & Quizzes -> Background Survey\n",
    "\n",
    "There are only 4 short questions and you get 1 pt per question! "
   ]
  },
  {
   "cell_type": "markdown",
   "metadata": {},
   "source": [
    "## Task1: load the data into dataframe (? \\ 3 points)"
   ]
  },
  {
   "cell_type": "markdown",
   "metadata": {},
   "source": [
    "### Question1. import pandas as pd (pg.13) (? \\1 points)"
   ]
  },
  {
   "cell_type": "code",
   "execution_count": 1,
   "metadata": {},
   "outputs": [],
   "source": [
    "import pandas as pd"
   ]
  },
  {
   "cell_type": "markdown",
   "metadata": {},
   "source": [
    "### Question2. load the data file as a dataframe object (pg. 155 – 159) (? \\ 2 points)"
   ]
  },
  {
   "cell_type": "code",
   "execution_count": 2,
   "metadata": {},
   "outputs": [],
   "source": [
    "D = pd.read_csv('income_dataset.csv')"
   ]
  },
  {
   "cell_type": "markdown",
   "metadata": {},
   "source": [
    "## Task2: Understanding Pandas dataframe structure (? \\ 23 points)"
   ]
  },
  {
   "cell_type": "markdown",
   "metadata": {},
   "source": [
    "### Question1. learning how to access column names (pg. 116) (? \\ 2 points)\n",
    "Print the names of the columns in the data frame you loaded"
   ]
  },
  {
   "cell_type": "code",
   "execution_count": 3,
   "metadata": {},
   "outputs": [
    {
     "name": "stdout",
     "output_type": "stream",
     "text": [
      "Index(['age', 'workclass', 'education', 'educational-num', 'marital-status',\n",
      "       'occupation', 'relationship', 'race', 'gender', 'capital-gain',\n",
      "       'capital-loss', 'hours-per-week', 'native-country', 'income',\n",
      "       'month_of_birth'],\n",
      "      dtype='object')\n"
     ]
    }
   ],
   "source": [
    "print(D.columns)"
   ]
  },
  {
   "cell_type": "markdown",
   "metadata": {},
   "source": [
    "### Question2. Retrieving a column (pg. 116) (? \\ 3 points)\n",
    "Print the data in the income column to the screen "
   ]
  },
  {
   "cell_type": "code",
   "execution_count": 4,
   "metadata": {},
   "outputs": [
    {
     "data": {
      "text/plain": [
       "0        84794\n",
       "1         5598\n",
       "2        30649\n",
       "3        69119\n",
       "4        16080\n",
       "         ...  \n",
       "7995     18036\n",
       "7996    131300\n",
       "7997      3303\n",
       "7998     37964\n",
       "7999     24985\n",
       "Name: income, Length: 8000, dtype: int64"
      ]
     },
     "execution_count": 4,
     "metadata": {},
     "output_type": "execute_result"
    }
   ],
   "source": [
    "D['income']\n",
    "# You can also use D.income as a shortcut"
   ]
  },
  {
   "cell_type": "markdown",
   "metadata": {},
   "source": [
    "### Question3. Retrieving a data entry (i.e. a row) (pg. 117) (? \\ 3 points)\n",
    "Print the data in row number 15 (note that in Python, indexing starts from 0, so row#15 is the 16th row) "
   ]
  },
  {
   "cell_type": "code",
   "execution_count": 6,
   "metadata": {},
   "outputs": [
    {
     "data": {
      "text/plain": [
       "age                            38\n",
       "workclass                 Private\n",
       "education               Bachelors\n",
       "educational-num                13\n",
       "marital-status           Divorced\n",
       "occupation           Tech-support\n",
       "relationship       Other-relative\n",
       "race                        White\n",
       "gender                       Male\n",
       "capital-gain                    0\n",
       "capital-loss                    0\n",
       "hours-per-week                 40\n",
       "native-country      United-States\n",
       "income                       1319\n",
       "month_of_birth                 11\n",
       "Name: 15, dtype: object"
      ]
     },
     "execution_count": 6,
     "metadata": {},
     "output_type": "execute_result"
    }
   ],
   "source": [
    "D.iloc[15]"
   ]
  },
  {
   "cell_type": "markdown",
   "metadata": {},
   "source": [
    "### Question4. Retrieving multiple rows (pg. 125 – 128) (? \\ 4 points )\n",
    "Print the data in rows 99 to 104"
   ]
  },
  {
   "cell_type": "code",
   "execution_count": 7,
   "metadata": {},
   "outputs": [
    {
     "data": {
      "text/html": [
       "<div>\n",
       "<style scoped>\n",
       "    .dataframe tbody tr th:only-of-type {\n",
       "        vertical-align: middle;\n",
       "    }\n",
       "\n",
       "    .dataframe tbody tr th {\n",
       "        vertical-align: top;\n",
       "    }\n",
       "\n",
       "    .dataframe thead th {\n",
       "        text-align: right;\n",
       "    }\n",
       "</style>\n",
       "<table border=\"1\" class=\"dataframe\">\n",
       "  <thead>\n",
       "    <tr style=\"text-align: right;\">\n",
       "      <th></th>\n",
       "      <th>age</th>\n",
       "      <th>workclass</th>\n",
       "      <th>education</th>\n",
       "      <th>educational-num</th>\n",
       "      <th>marital-status</th>\n",
       "      <th>occupation</th>\n",
       "      <th>relationship</th>\n",
       "      <th>race</th>\n",
       "      <th>gender</th>\n",
       "      <th>capital-gain</th>\n",
       "      <th>capital-loss</th>\n",
       "      <th>hours-per-week</th>\n",
       "      <th>native-country</th>\n",
       "      <th>income</th>\n",
       "      <th>month_of_birth</th>\n",
       "    </tr>\n",
       "  </thead>\n",
       "  <tbody>\n",
       "    <tr>\n",
       "      <th>99</th>\n",
       "      <td>37</td>\n",
       "      <td>Private</td>\n",
       "      <td>HS-grad</td>\n",
       "      <td>9</td>\n",
       "      <td>Married-civ-spouse</td>\n",
       "      <td>Craft-repair</td>\n",
       "      <td>Husband</td>\n",
       "      <td>White</td>\n",
       "      <td>Male</td>\n",
       "      <td>0</td>\n",
       "      <td>0</td>\n",
       "      <td>72</td>\n",
       "      <td>Mexico</td>\n",
       "      <td>18439</td>\n",
       "      <td>7</td>\n",
       "    </tr>\n",
       "    <tr>\n",
       "      <th>100</th>\n",
       "      <td>27</td>\n",
       "      <td>State-gov</td>\n",
       "      <td>Bachelors</td>\n",
       "      <td>13</td>\n",
       "      <td>Never-married</td>\n",
       "      <td>Prof-specialty</td>\n",
       "      <td>Not-in-family</td>\n",
       "      <td>Black</td>\n",
       "      <td>Male</td>\n",
       "      <td>0</td>\n",
       "      <td>0</td>\n",
       "      <td>40</td>\n",
       "      <td>United-States</td>\n",
       "      <td>37703</td>\n",
       "      <td>5</td>\n",
       "    </tr>\n",
       "    <tr>\n",
       "      <th>101</th>\n",
       "      <td>26</td>\n",
       "      <td>Private</td>\n",
       "      <td>HS-grad</td>\n",
       "      <td>9</td>\n",
       "      <td>Married-civ-spouse</td>\n",
       "      <td>Adm-clerical</td>\n",
       "      <td>Wife</td>\n",
       "      <td>White</td>\n",
       "      <td>Female</td>\n",
       "      <td>0</td>\n",
       "      <td>0</td>\n",
       "      <td>40</td>\n",
       "      <td>United-States</td>\n",
       "      <td>82844</td>\n",
       "      <td>5</td>\n",
       "    </tr>\n",
       "    <tr>\n",
       "      <th>102</th>\n",
       "      <td>45</td>\n",
       "      <td>Federal-gov</td>\n",
       "      <td>Bachelors</td>\n",
       "      <td>13</td>\n",
       "      <td>Never-married</td>\n",
       "      <td>Protective-serv</td>\n",
       "      <td>Not-in-family</td>\n",
       "      <td>Black</td>\n",
       "      <td>Female</td>\n",
       "      <td>0</td>\n",
       "      <td>0</td>\n",
       "      <td>40</td>\n",
       "      <td>United-States</td>\n",
       "      <td>43235</td>\n",
       "      <td>3</td>\n",
       "    </tr>\n",
       "    <tr>\n",
       "      <th>103</th>\n",
       "      <td>30</td>\n",
       "      <td>Private</td>\n",
       "      <td>HS-grad</td>\n",
       "      <td>9</td>\n",
       "      <td>Never-married</td>\n",
       "      <td>Transport-moving</td>\n",
       "      <td>Own-child</td>\n",
       "      <td>Black</td>\n",
       "      <td>Male</td>\n",
       "      <td>0</td>\n",
       "      <td>0</td>\n",
       "      <td>40</td>\n",
       "      <td>United-States</td>\n",
       "      <td>17779</td>\n",
       "      <td>11</td>\n",
       "    </tr>\n",
       "  </tbody>\n",
       "</table>\n",
       "</div>"
      ],
      "text/plain": [
       "     age    workclass  education  educational-num      marital-status  \\\n",
       "99    37      Private    HS-grad                9  Married-civ-spouse   \n",
       "100   27    State-gov  Bachelors               13       Never-married   \n",
       "101   26      Private    HS-grad                9  Married-civ-spouse   \n",
       "102   45  Federal-gov  Bachelors               13       Never-married   \n",
       "103   30      Private    HS-grad                9       Never-married   \n",
       "\n",
       "           occupation   relationship   race  gender  capital-gain  \\\n",
       "99       Craft-repair        Husband  White    Male             0   \n",
       "100    Prof-specialty  Not-in-family  Black    Male             0   \n",
       "101      Adm-clerical           Wife  White  Female             0   \n",
       "102   Protective-serv  Not-in-family  Black  Female             0   \n",
       "103  Transport-moving      Own-child  Black    Male             0   \n",
       "\n",
       "     capital-loss  hours-per-week native-country  income  month_of_birth  \n",
       "99              0              72         Mexico   18439               7  \n",
       "100             0              40  United-States   37703               5  \n",
       "101             0              40  United-States   82844               5  \n",
       "102             0              40  United-States   43235               3  \n",
       "103             0              40  United-States   17779              11  "
      ]
     },
     "execution_count": 7,
     "metadata": {},
     "output_type": "execute_result"
    }
   ],
   "source": [
    "D.iloc[99:104]"
   ]
  },
  {
   "cell_type": "markdown",
   "metadata": {},
   "source": [
    "### Question5. Retrieve the rows that meet a specific condition (pg. 126 – 127) (? \\ 7 points)\n",
    "Print the data entries for people earning more than $150,000 per year. "
   ]
  },
  {
   "cell_type": "code",
   "execution_count": 8,
   "metadata": {},
   "outputs": [
    {
     "data": {
      "text/html": [
       "<div>\n",
       "<style scoped>\n",
       "    .dataframe tbody tr th:only-of-type {\n",
       "        vertical-align: middle;\n",
       "    }\n",
       "\n",
       "    .dataframe tbody tr th {\n",
       "        vertical-align: top;\n",
       "    }\n",
       "\n",
       "    .dataframe thead th {\n",
       "        text-align: right;\n",
       "    }\n",
       "</style>\n",
       "<table border=\"1\" class=\"dataframe\">\n",
       "  <thead>\n",
       "    <tr style=\"text-align: right;\">\n",
       "      <th></th>\n",
       "      <th>age</th>\n",
       "      <th>workclass</th>\n",
       "      <th>education</th>\n",
       "      <th>educational-num</th>\n",
       "      <th>marital-status</th>\n",
       "      <th>occupation</th>\n",
       "      <th>relationship</th>\n",
       "      <th>race</th>\n",
       "      <th>gender</th>\n",
       "      <th>capital-gain</th>\n",
       "      <th>capital-loss</th>\n",
       "      <th>hours-per-week</th>\n",
       "      <th>native-country</th>\n",
       "      <th>income</th>\n",
       "      <th>month_of_birth</th>\n",
       "    </tr>\n",
       "  </thead>\n",
       "  <tbody>\n",
       "    <tr>\n",
       "      <th>1171</th>\n",
       "      <td>34</td>\n",
       "      <td>State-gov</td>\n",
       "      <td>Doctorate</td>\n",
       "      <td>16</td>\n",
       "      <td>Married-civ-spouse</td>\n",
       "      <td>Prof-specialty</td>\n",
       "      <td>Wife</td>\n",
       "      <td>White</td>\n",
       "      <td>Female</td>\n",
       "      <td>0</td>\n",
       "      <td>0</td>\n",
       "      <td>50</td>\n",
       "      <td>United-States</td>\n",
       "      <td>210855</td>\n",
       "      <td>7</td>\n",
       "    </tr>\n",
       "    <tr>\n",
       "      <th>1370</th>\n",
       "      <td>50</td>\n",
       "      <td>Private</td>\n",
       "      <td>HS-grad</td>\n",
       "      <td>9</td>\n",
       "      <td>Married-civ-spouse</td>\n",
       "      <td>Craft-repair</td>\n",
       "      <td>Husband</td>\n",
       "      <td>White</td>\n",
       "      <td>Male</td>\n",
       "      <td>15024</td>\n",
       "      <td>0</td>\n",
       "      <td>50</td>\n",
       "      <td>United-States</td>\n",
       "      <td>152138</td>\n",
       "      <td>12</td>\n",
       "    </tr>\n",
       "    <tr>\n",
       "      <th>1372</th>\n",
       "      <td>36</td>\n",
       "      <td>Private</td>\n",
       "      <td>Bachelors</td>\n",
       "      <td>13</td>\n",
       "      <td>Married-civ-spouse</td>\n",
       "      <td>Exec-managerial</td>\n",
       "      <td>Husband</td>\n",
       "      <td>White</td>\n",
       "      <td>Male</td>\n",
       "      <td>15024</td>\n",
       "      <td>0</td>\n",
       "      <td>55</td>\n",
       "      <td>England</td>\n",
       "      <td>165437</td>\n",
       "      <td>3</td>\n",
       "    </tr>\n",
       "    <tr>\n",
       "      <th>2113</th>\n",
       "      <td>35</td>\n",
       "      <td>Private</td>\n",
       "      <td>Doctorate</td>\n",
       "      <td>16</td>\n",
       "      <td>Never-married</td>\n",
       "      <td>Prof-specialty</td>\n",
       "      <td>Not-in-family</td>\n",
       "      <td>White</td>\n",
       "      <td>Female</td>\n",
       "      <td>0</td>\n",
       "      <td>0</td>\n",
       "      <td>80</td>\n",
       "      <td>United-States</td>\n",
       "      <td>199344</td>\n",
       "      <td>6</td>\n",
       "    </tr>\n",
       "    <tr>\n",
       "      <th>3084</th>\n",
       "      <td>34</td>\n",
       "      <td>Private</td>\n",
       "      <td>Some-college</td>\n",
       "      <td>10</td>\n",
       "      <td>Married-civ-spouse</td>\n",
       "      <td>Tech-support</td>\n",
       "      <td>Husband</td>\n",
       "      <td>White</td>\n",
       "      <td>Male</td>\n",
       "      <td>0</td>\n",
       "      <td>0</td>\n",
       "      <td>40</td>\n",
       "      <td>United-States</td>\n",
       "      <td>150007</td>\n",
       "      <td>5</td>\n",
       "    </tr>\n",
       "    <tr>\n",
       "      <th>4134</th>\n",
       "      <td>48</td>\n",
       "      <td>Self-emp-not-inc</td>\n",
       "      <td>HS-grad</td>\n",
       "      <td>9</td>\n",
       "      <td>Married-civ-spouse</td>\n",
       "      <td>Craft-repair</td>\n",
       "      <td>Husband</td>\n",
       "      <td>White</td>\n",
       "      <td>Male</td>\n",
       "      <td>0</td>\n",
       "      <td>1902</td>\n",
       "      <td>40</td>\n",
       "      <td>United-States</td>\n",
       "      <td>196130</td>\n",
       "      <td>5</td>\n",
       "    </tr>\n",
       "    <tr>\n",
       "      <th>4527</th>\n",
       "      <td>25</td>\n",
       "      <td>Self-emp-inc</td>\n",
       "      <td>Bachelors</td>\n",
       "      <td>13</td>\n",
       "      <td>Never-married</td>\n",
       "      <td>Sales</td>\n",
       "      <td>Not-in-family</td>\n",
       "      <td>White</td>\n",
       "      <td>Male</td>\n",
       "      <td>0</td>\n",
       "      <td>0</td>\n",
       "      <td>45</td>\n",
       "      <td>United-States</td>\n",
       "      <td>150610</td>\n",
       "      <td>5</td>\n",
       "    </tr>\n",
       "    <tr>\n",
       "      <th>4790</th>\n",
       "      <td>57</td>\n",
       "      <td>Private</td>\n",
       "      <td>Some-college</td>\n",
       "      <td>10</td>\n",
       "      <td>Married-civ-spouse</td>\n",
       "      <td>Craft-repair</td>\n",
       "      <td>Husband</td>\n",
       "      <td>White</td>\n",
       "      <td>Male</td>\n",
       "      <td>0</td>\n",
       "      <td>0</td>\n",
       "      <td>40</td>\n",
       "      <td>United-States</td>\n",
       "      <td>165437</td>\n",
       "      <td>8</td>\n",
       "    </tr>\n",
       "    <tr>\n",
       "      <th>5370</th>\n",
       "      <td>44</td>\n",
       "      <td>Private</td>\n",
       "      <td>Prof-school</td>\n",
       "      <td>15</td>\n",
       "      <td>Married-civ-spouse</td>\n",
       "      <td>Prof-specialty</td>\n",
       "      <td>Husband</td>\n",
       "      <td>White</td>\n",
       "      <td>Male</td>\n",
       "      <td>0</td>\n",
       "      <td>0</td>\n",
       "      <td>50</td>\n",
       "      <td>United-States</td>\n",
       "      <td>162819</td>\n",
       "      <td>12</td>\n",
       "    </tr>\n",
       "    <tr>\n",
       "      <th>5627</th>\n",
       "      <td>42</td>\n",
       "      <td>Private</td>\n",
       "      <td>Some-college</td>\n",
       "      <td>10</td>\n",
       "      <td>Divorced</td>\n",
       "      <td>Other-service</td>\n",
       "      <td>Not-in-family</td>\n",
       "      <td>White</td>\n",
       "      <td>Female</td>\n",
       "      <td>8614</td>\n",
       "      <td>0</td>\n",
       "      <td>52</td>\n",
       "      <td>United-States</td>\n",
       "      <td>178128</td>\n",
       "      <td>7</td>\n",
       "    </tr>\n",
       "    <tr>\n",
       "      <th>5655</th>\n",
       "      <td>61</td>\n",
       "      <td>Self-emp-not-inc</td>\n",
       "      <td>HS-grad</td>\n",
       "      <td>9</td>\n",
       "      <td>Married-civ-spouse</td>\n",
       "      <td>Exec-managerial</td>\n",
       "      <td>Husband</td>\n",
       "      <td>White</td>\n",
       "      <td>Male</td>\n",
       "      <td>0</td>\n",
       "      <td>0</td>\n",
       "      <td>40</td>\n",
       "      <td>United-States</td>\n",
       "      <td>171600</td>\n",
       "      <td>8</td>\n",
       "    </tr>\n",
       "    <tr>\n",
       "      <th>5948</th>\n",
       "      <td>51</td>\n",
       "      <td>Private</td>\n",
       "      <td>HS-grad</td>\n",
       "      <td>9</td>\n",
       "      <td>Married-civ-spouse</td>\n",
       "      <td>Exec-managerial</td>\n",
       "      <td>Husband</td>\n",
       "      <td>White</td>\n",
       "      <td>Male</td>\n",
       "      <td>0</td>\n",
       "      <td>0</td>\n",
       "      <td>40</td>\n",
       "      <td>United-States</td>\n",
       "      <td>203992</td>\n",
       "      <td>6</td>\n",
       "    </tr>\n",
       "    <tr>\n",
       "      <th>6254</th>\n",
       "      <td>55</td>\n",
       "      <td>Private</td>\n",
       "      <td>Bachelors</td>\n",
       "      <td>13</td>\n",
       "      <td>Married-civ-spouse</td>\n",
       "      <td>Prof-specialty</td>\n",
       "      <td>Husband</td>\n",
       "      <td>White</td>\n",
       "      <td>Male</td>\n",
       "      <td>0</td>\n",
       "      <td>0</td>\n",
       "      <td>40</td>\n",
       "      <td>United-States</td>\n",
       "      <td>175763</td>\n",
       "      <td>3</td>\n",
       "    </tr>\n",
       "    <tr>\n",
       "      <th>6798</th>\n",
       "      <td>45</td>\n",
       "      <td>Self-emp-inc</td>\n",
       "      <td>Bachelors</td>\n",
       "      <td>13</td>\n",
       "      <td>Married-civ-spouse</td>\n",
       "      <td>Sales</td>\n",
       "      <td>Husband</td>\n",
       "      <td>White</td>\n",
       "      <td>Male</td>\n",
       "      <td>0</td>\n",
       "      <td>0</td>\n",
       "      <td>60</td>\n",
       "      <td>United-States</td>\n",
       "      <td>170443</td>\n",
       "      <td>9</td>\n",
       "    </tr>\n",
       "    <tr>\n",
       "      <th>6801</th>\n",
       "      <td>39</td>\n",
       "      <td>Private</td>\n",
       "      <td>Bachelors</td>\n",
       "      <td>13</td>\n",
       "      <td>Divorced</td>\n",
       "      <td>Prof-specialty</td>\n",
       "      <td>Not-in-family</td>\n",
       "      <td>White</td>\n",
       "      <td>Male</td>\n",
       "      <td>0</td>\n",
       "      <td>0</td>\n",
       "      <td>40</td>\n",
       "      <td>United-States</td>\n",
       "      <td>152607</td>\n",
       "      <td>5</td>\n",
       "    </tr>\n",
       "    <tr>\n",
       "      <th>7127</th>\n",
       "      <td>42</td>\n",
       "      <td>Private</td>\n",
       "      <td>Masters</td>\n",
       "      <td>14</td>\n",
       "      <td>Married-civ-spouse</td>\n",
       "      <td>Exec-managerial</td>\n",
       "      <td>Husband</td>\n",
       "      <td>White</td>\n",
       "      <td>Male</td>\n",
       "      <td>0</td>\n",
       "      <td>0</td>\n",
       "      <td>60</td>\n",
       "      <td>United-States</td>\n",
       "      <td>203992</td>\n",
       "      <td>11</td>\n",
       "    </tr>\n",
       "  </tbody>\n",
       "</table>\n",
       "</div>"
      ],
      "text/plain": [
       "      age         workclass     education  educational-num  \\\n",
       "1171   34         State-gov     Doctorate               16   \n",
       "1370   50           Private       HS-grad                9   \n",
       "1372   36           Private     Bachelors               13   \n",
       "2113   35           Private     Doctorate               16   \n",
       "3084   34           Private  Some-college               10   \n",
       "4134   48  Self-emp-not-inc       HS-grad                9   \n",
       "4527   25      Self-emp-inc     Bachelors               13   \n",
       "4790   57           Private  Some-college               10   \n",
       "5370   44           Private   Prof-school               15   \n",
       "5627   42           Private  Some-college               10   \n",
       "5655   61  Self-emp-not-inc       HS-grad                9   \n",
       "5948   51           Private       HS-grad                9   \n",
       "6254   55           Private     Bachelors               13   \n",
       "6798   45      Self-emp-inc     Bachelors               13   \n",
       "6801   39           Private     Bachelors               13   \n",
       "7127   42           Private       Masters               14   \n",
       "\n",
       "          marital-status       occupation   relationship   race  gender  \\\n",
       "1171  Married-civ-spouse   Prof-specialty           Wife  White  Female   \n",
       "1370  Married-civ-spouse     Craft-repair        Husband  White    Male   \n",
       "1372  Married-civ-spouse  Exec-managerial        Husband  White    Male   \n",
       "2113       Never-married   Prof-specialty  Not-in-family  White  Female   \n",
       "3084  Married-civ-spouse     Tech-support        Husband  White    Male   \n",
       "4134  Married-civ-spouse     Craft-repair        Husband  White    Male   \n",
       "4527       Never-married            Sales  Not-in-family  White    Male   \n",
       "4790  Married-civ-spouse     Craft-repair        Husband  White    Male   \n",
       "5370  Married-civ-spouse   Prof-specialty        Husband  White    Male   \n",
       "5627            Divorced    Other-service  Not-in-family  White  Female   \n",
       "5655  Married-civ-spouse  Exec-managerial        Husband  White    Male   \n",
       "5948  Married-civ-spouse  Exec-managerial        Husband  White    Male   \n",
       "6254  Married-civ-spouse   Prof-specialty        Husband  White    Male   \n",
       "6798  Married-civ-spouse            Sales        Husband  White    Male   \n",
       "6801            Divorced   Prof-specialty  Not-in-family  White    Male   \n",
       "7127  Married-civ-spouse  Exec-managerial        Husband  White    Male   \n",
       "\n",
       "      capital-gain  capital-loss  hours-per-week native-country  income  \\\n",
       "1171             0             0              50  United-States  210855   \n",
       "1370         15024             0              50  United-States  152138   \n",
       "1372         15024             0              55        England  165437   \n",
       "2113             0             0              80  United-States  199344   \n",
       "3084             0             0              40  United-States  150007   \n",
       "4134             0          1902              40  United-States  196130   \n",
       "4527             0             0              45  United-States  150610   \n",
       "4790             0             0              40  United-States  165437   \n",
       "5370             0             0              50  United-States  162819   \n",
       "5627          8614             0              52  United-States  178128   \n",
       "5655             0             0              40  United-States  171600   \n",
       "5948             0             0              40  United-States  203992   \n",
       "6254             0             0              40  United-States  175763   \n",
       "6798             0             0              60  United-States  170443   \n",
       "6801             0             0              40  United-States  152607   \n",
       "7127             0             0              60  United-States  203992   \n",
       "\n",
       "      month_of_birth  \n",
       "1171               7  \n",
       "1370              12  \n",
       "1372               3  \n",
       "2113               6  \n",
       "3084               5  \n",
       "4134               5  \n",
       "4527               5  \n",
       "4790               8  \n",
       "5370              12  \n",
       "5627               7  \n",
       "5655               8  \n",
       "5948               6  \n",
       "6254               3  \n",
       "6798               9  \n",
       "6801               5  \n",
       "7127              11  "
      ]
     },
     "execution_count": 8,
     "metadata": {},
     "output_type": "execute_result"
    }
   ],
   "source": [
    "D[D.income>=150000]"
   ]
  },
  {
   "cell_type": "markdown",
   "metadata": {},
   "source": [
    "### Question6. creating a new column (pg. 128 – 129 and pg. 261) (? \\ 4 points)\n",
    "Add a new column to the dataframe (total). This column should be the total income (annual income + capital gains - capital losses). "
   ]
  },
  {
   "cell_type": "code",
   "execution_count": 9,
   "metadata": {},
   "outputs": [],
   "source": [
    "# Total income including capital gains\n",
    "D['total']  = D['income'] + D['capital-gain']-D['capital-loss']"
   ]
  },
  {
   "cell_type": "markdown",
   "metadata": {},
   "source": [
    "## Task3: Descriptive statistics (? \\ 40 points)"
   ]
  },
  {
   "cell_type": "markdown",
   "metadata": {},
   "source": [
    "### Question1. For the directorIncome column, print the median, mean, minimal value and maximal value (? \\ 16 points)"
   ]
  },
  {
   "cell_type": "markdown",
   "metadata": {},
   "source": [
    "#### median income (? \\ 4 points)"
   ]
  },
  {
   "cell_type": "code",
   "execution_count": 10,
   "metadata": {},
   "outputs": [
    {
     "data": {
      "text/plain": [
       "30458.5"
      ]
     },
     "execution_count": 10,
     "metadata": {},
     "output_type": "execute_result"
    }
   ],
   "source": [
    "#1.\tFor the box office column print the median,\n",
    "D.income.median()"
   ]
  },
  {
   "cell_type": "markdown",
   "metadata": {},
   "source": [
    "#### mean income (? \\ 4 points)"
   ]
  },
  {
   "cell_type": "code",
   "execution_count": 11,
   "metadata": {},
   "outputs": [
    {
     "data": {
      "text/plain": [
       "36122.662875"
      ]
     },
     "execution_count": 11,
     "metadata": {},
     "output_type": "execute_result"
    }
   ],
   "source": [
    "#2.\tFor the cost column print the mean\n",
    "D.income.mean()"
   ]
  },
  {
   "cell_type": "markdown",
   "metadata": {},
   "source": [
    "#### minimum Income (? \\ 4 points)"
   ]
  },
  {
   "cell_type": "code",
   "execution_count": 12,
   "metadata": {},
   "outputs": [
    {
     "data": {
      "text/plain": [
       "378"
      ]
     },
     "execution_count": 12,
     "metadata": {},
     "output_type": "execute_result"
    }
   ],
   "source": [
    "#3.\tFor the salary column print the minimum value\n",
    "D.income.min()"
   ]
  },
  {
   "cell_type": "markdown",
   "metadata": {},
   "source": [
    "#### maximum for income column (? \\ 4 points)"
   ]
  },
  {
   "cell_type": "code",
   "execution_count": 14,
   "metadata": {},
   "outputs": [
    {
     "data": {
      "text/plain": [
       "210855"
      ]
     },
     "execution_count": 14,
     "metadata": {},
     "output_type": "execute_result"
    }
   ],
   "source": [
    "#4.\tFor the salary column print the maximum value\n",
    "D.income.max()"
   ]
  },
  {
   "cell_type": "markdown",
   "metadata": {},
   "source": [
    "### Question2. Written answer: From these values, what can you guess about the Skewness of the distribution? Justify your answer (? \\ 8 points)"
   ]
  },
  {
   "cell_type": "markdown",
   "metadata": {},
   "source": [
    "> Mean > Median indicates a right skewed distribution. \n",
    "Similarly, a large maximum seems to confirm this suspicion"
   ]
  },
  {
   "cell_type": "markdown",
   "metadata": {},
   "source": [
    "### Question3. Print out the data for the person that has the highest annual income (? \\ 16 points)\n",
    "(Hint: you may first have to determine the maximum value in the income column and then use retrieval strategies to print out all the data)"
   ]
  },
  {
   "cell_type": "code",
   "execution_count": 15,
   "metadata": {},
   "outputs": [
    {
     "data": {
      "text/html": [
       "<div>\n",
       "<style scoped>\n",
       "    .dataframe tbody tr th:only-of-type {\n",
       "        vertical-align: middle;\n",
       "    }\n",
       "\n",
       "    .dataframe tbody tr th {\n",
       "        vertical-align: top;\n",
       "    }\n",
       "\n",
       "    .dataframe thead th {\n",
       "        text-align: right;\n",
       "    }\n",
       "</style>\n",
       "<table border=\"1\" class=\"dataframe\">\n",
       "  <thead>\n",
       "    <tr style=\"text-align: right;\">\n",
       "      <th></th>\n",
       "      <th>age</th>\n",
       "      <th>workclass</th>\n",
       "      <th>education</th>\n",
       "      <th>educational-num</th>\n",
       "      <th>marital-status</th>\n",
       "      <th>occupation</th>\n",
       "      <th>relationship</th>\n",
       "      <th>race</th>\n",
       "      <th>gender</th>\n",
       "      <th>capital-gain</th>\n",
       "      <th>capital-loss</th>\n",
       "      <th>hours-per-week</th>\n",
       "      <th>native-country</th>\n",
       "      <th>income</th>\n",
       "      <th>month_of_birth</th>\n",
       "      <th>total</th>\n",
       "    </tr>\n",
       "  </thead>\n",
       "  <tbody>\n",
       "    <tr>\n",
       "      <th>1171</th>\n",
       "      <td>34</td>\n",
       "      <td>State-gov</td>\n",
       "      <td>Doctorate</td>\n",
       "      <td>16</td>\n",
       "      <td>Married-civ-spouse</td>\n",
       "      <td>Prof-specialty</td>\n",
       "      <td>Wife</td>\n",
       "      <td>White</td>\n",
       "      <td>Female</td>\n",
       "      <td>0</td>\n",
       "      <td>0</td>\n",
       "      <td>50</td>\n",
       "      <td>United-States</td>\n",
       "      <td>210855</td>\n",
       "      <td>7</td>\n",
       "      <td>210855</td>\n",
       "    </tr>\n",
       "  </tbody>\n",
       "</table>\n",
       "</div>"
      ],
      "text/plain": [
       "      age  workclass  education  educational-num      marital-status  \\\n",
       "1171   34  State-gov  Doctorate               16  Married-civ-spouse   \n",
       "\n",
       "          occupation relationship   race  gender  capital-gain  capital-loss  \\\n",
       "1171  Prof-specialty         Wife  White  Female             0             0   \n",
       "\n",
       "      hours-per-week native-country  income  month_of_birth   total  \n",
       "1171              50  United-States  210855               7  210855  "
      ]
     },
     "execution_count": 15,
     "metadata": {},
     "output_type": "execute_result"
    }
   ],
   "source": [
    "# 1. Print out the data for the movie that has the highest box-office income.\n",
    "maxIncome = D['income'].max()\n",
    "D[D['income']==maxIncome]"
   ]
  },
  {
   "cell_type": "markdown",
   "metadata": {},
   "source": [
    "## Task 4: plotting histograms and boxplots (? \\ 30 points)\n",
    "### Preliminaries\n",
    "In order to set up your notebook environment so it includes figures inline write the following code:"
   ]
  },
  {
   "cell_type": "code",
   "execution_count": 16,
   "metadata": {},
   "outputs": [],
   "source": [
    "import matplotlib.pyplot as plt\n",
    "\n",
    "# In older installations, you may also have to configure matplotlib \n",
    "# to present the figures online. In my installation, this is no longer \n",
    "# necessary.\n",
    "import matplotlib\n",
    "matplotlib.use('TkAgg')\n",
    "%matplotlib inline\n"
   ]
  },
  {
   "cell_type": "markdown",
   "metadata": {},
   "source": [
    "### Question1. Create a histogram of director Income (pgs. 238 – 239). Choose the number of bins so that the plot is informative. (? / 10 points)\n",
    "\n",
    "Written response: Justify why you chose this number."
   ]
  },
  {
   "cell_type": "code",
   "execution_count": 17,
   "metadata": {},
   "outputs": [
    {
     "data": {
      "text/plain": [
       "Text(0, 0.5, 'number of people')"
      ]
     },
     "execution_count": 17,
     "metadata": {},
     "output_type": "execute_result"
    },
    {
     "data": {
      "image/png": "[encoded data removed]",
      "text/plain": [
       "<Figure size 432x288 with 1 Axes>"
      ]
     },
     "metadata": {
      "needs_background": "light"
     },
     "output_type": "display_data"
    }
   ],
   "source": [
    "D['income'].hist(bins=200)\n",
    "plt.xlabel('annual income')\n",
    "plt.ylabel('number of people')"
   ]
  },
  {
   "cell_type": "markdown",
   "metadata": {},
   "source": [
    "*Figure 1* Histogram of annual income. On the x-axis, we have the  income (USD) and on the y-axis we have the number of people."
   ]
  },
  {
   "cell_type": "markdown",
   "metadata": {},
   "source": [
    "> The number of bins should be set to a value so that the resulting distribution does not reveal too much details and at the same time shows the general trend of the data. In this case, a number like 200, seems to be give a jagged histogram, and it seems that there are multiple modes. In contrast, a lower number like 10 shows no much details-  especially for lower incomes. And if we set the number to 50, we will see that the distribution is right skewed."
   ]
  },
  {
   "cell_type": "markdown",
   "metadata": {},
   "source": [
    "### Question2. Create a boxplot of income (plt.boxplot) (? \\ 6 points)"
   ]
  },
  {
   "cell_type": "code",
   "execution_count": 32,
   "metadata": {},
   "outputs": [
    {
     "data": {
      "text/plain": [
       "Text(0, 0.5, 'income')"
      ]
     },
     "execution_count": 32,
     "metadata": {},
     "output_type": "execute_result"
    },
    {
     "data": {
      "image/png": "[encoded data removed]",
      "text/plain": [
       "<Figure size 432x288 with 1 Axes>"
      ]
     },
     "metadata": {
      "needs_background": "light"
     },
     "output_type": "display_data"
    }
   ],
   "source": [
    "plt.boxplot(D.income)\n",
    "plt.ylabel('income')"
   ]
  },
  {
   "cell_type": "markdown",
   "metadata": {},
   "source": [
    "*Figure 2* Boxplot of the annual income. On the y-axis we have the income in  dollars. We can see that there are a number of very high earners in the data."
   ]
  },
  {
   "cell_type": "markdown",
   "metadata": {},
   "source": [
    "### Question3. Create a violinplot of  income (plt.violinplot) (? \\ 6 points )"
   ]
  },
  {
   "cell_type": "code",
   "execution_count": 33,
   "metadata": {},
   "outputs": [
    {
     "data": {
      "text/plain": [
       "Text(0, 0.5, 'income')"
      ]
     },
     "execution_count": 33,
     "metadata": {},
     "output_type": "execute_result"
    },
    {
     "data": {
      "image/png": "[encoded data removed]",
      "text/plain": [
       "<Figure size 432x288 with 1 Axes>"
      ]
     },
     "metadata": {
      "needs_background": "light"
     },
     "output_type": "display_data"
    }
   ],
   "source": [
    "plt.violinplot(D.income)\n",
    "plt.ylabel('income')"
   ]
  },
  {
   "cell_type": "markdown",
   "metadata": {},
   "source": [
    "*Figure 3* violinplot of the income. On the y-axis we have the  income in dollars. It clearly shows the distribution and range of the data."
   ]
  },
  {
   "cell_type": "markdown",
   "metadata": {},
   "source": [
    "### Question4. written response: From the three graphs, describe the distribution of income in terms of range, skewness, and outliers. Which visualization shows which aspects best? (? \\ 8 points)"
   ]
  },
  {
   "cell_type": "markdown",
   "metadata": {},
   "source": [
    ">The distribution goes from 0 to 210,000. The distribution is strongly right-skewed, and has a few values with salaries > 200,000. The skewness can be best seen in the violin plots and histograms. The outliers are well visible in the box plots. Violin and box plots can be very efficient to show distribution sorted by some category (see next homework). "
   ]
  }
 ],
 "metadata": {
  "kernelspec": {
   "display_name": "base",
   "language": "python",
   "name": "python3"
  },
  "language_info": {
   "codemirror_mode": {
    "name": "ipython",
    "version": 3
   },
   "file_extension": ".py",
   "mimetype": "text/x-python",
   "name": "python",
   "nbconvert_exporter": "python",
   "pygments_lexer": "ipython3",
   "version": "3.8.5 (default, Sep  4 2020, 02:22:02) \n[Clang 10.0.0 ]"
  },
  "vscode": {
   "interpreter": {
    "hash": "82c9595c6ac3df5bed1366f4aa85323e4ec1b3448185f6be6e163d2b6e222f49"
   }
  }
 },
 "nbformat": 4,
 "nbformat_minor": 2
}
