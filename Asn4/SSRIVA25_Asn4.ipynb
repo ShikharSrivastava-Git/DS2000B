{
 "cells": [
  {
   "attachments": {},
   "cell_type": "markdown",
   "metadata": {
    "collapsed": true
   },
   "source": [
    "# Assignment 4: Permutation test 1\n",
    "## Learning Outcomes\n",
    "By completing this assignment, you will be able to implement and use randomization tests to determine whether a specific effect is statistically significant. Randomization tests are a highly universal and powerful way to do this, and form an essential part of the toolkit of any Data Scientist. \n",
    "\n",
    "## Problem Description\n",
    "An increasingly common statistical tool for determining whether a difference is significant is the randomization or permutation test. A randomization test builds - rather than assumes – a sampling distribution of the test statistics. This is achieved by exchanging or permuting variables which are “exchangeable” under the Null-hypothesis. A randomization test gives a simple way to compute the sampling distribution for any test statistic under the null hypothesis that the dependent variable is statistically not dependent on the shuffled variable. \n",
    "In this assignment, we continue with the income dataset from week 1 and 2. This week your main task is to determine whether the difference in proportion for female vs. male directors to direct action movies is significant. \n",
    "You are allowed to use standard numpy and pandas functions such as mean, groupby, shuffle. But you are not allowed to use a permutation functions that have been already been designed. Numeric calculations in python that are printed should be rounded to 6 decimal places. \n",
    "\n",
    "Methods that you may find beneficial. \n",
    "Pandas: crosstab, iloc. Numpy: random.shuffle, reset_index, matplotlib: hist, axvline \n",
    "\n",
    "## Tbe dataset \n",
    "As a data scientist for a Hollywood law firm, your task is to provide evidence for the claim that there is gender discrimination in the movie industry. You are provided with a summary of the last 250 movies, and the gender and income of the director. The dataset also includes a number of other variables\n",
    "- North American box office revenue (boxoff)\n",
    "- Production cost of the movie (prodcost)\n",
    "- Income of the director (dirIncome in millions)\n",
    "- Gender of the director (dirGender) \n",
    "- Year of release (year)\n",
    "- Month of release (month) \n",
    "- Movie genre (genre): Action, Comedy \n",
    "- Number of theatres (numTheatrs)\n",
    "\n",
    "\n",
    "## Preliminaries \n",
    "Import pandas, numpy, matplotlib, and load the dataset file"
   ]
  },
  {
   "cell_type": "code",
   "execution_count": 1,
   "metadata": {},
   "outputs": [],
   "source": [
    "import matplotlib\n",
    "matplotlib.use('TkAgg')\n",
    "import matplotlib.pyplot as plt\n",
    "%matplotlib inline\n",
    "from scipy.stats import t\n",
    "import seaborn as sns\n",
    "import numpy as np\n",
    "import pandas as pd"
   ]
  },
  {
   "cell_type": "code",
   "execution_count": 2,
   "outputs": [
    {
     "data": {
      "text/plain": "         boxoff    prodcost  dirIncome dirGender  year  month      genre  \\\n0     88.648583   44.742936   1.143234      male  2012      3     comedy   \n1    145.334924   38.835516   3.393535    female  2014     11      drama   \n2    238.265684   29.532283   2.418883      male  2015      6      other   \n3    212.714742  157.111899   2.034115      male  2014     10  adventure   \n4    120.175461   30.547155   0.963219    female  2012      1     comedy   \n..          ...         ...        ...       ...   ...    ...        ...   \n245  187.231562   72.743712   3.105438      male  2012     12  adventure   \n246  215.713195  136.851707   1.917771      male  2013      7  adventure   \n247  166.827002   50.684470   2.414571      male  2014      1      other   \n248  223.226998   40.103513   2.176928      male  2015      2      drama   \n249  123.511036   48.287595   2.315791      male  2012      7     comedy   \n\n     numTheatres  \n0            139  \n1            213  \n2            100  \n3            436  \n4            115  \n..           ...  \n245          366  \n246          285  \n247          233  \n248          489  \n249          251  \n\n[250 rows x 8 columns]",
      "text/html": "<div>\n<style scoped>\n    .dataframe tbody tr th:only-of-type {\n        vertical-align: middle;\n    }\n\n    .dataframe tbody tr th {\n        vertical-align: top;\n    }\n\n    .dataframe thead th {\n        text-align: right;\n    }\n</style>\n<table border=\"1\" class=\"dataframe\">\n  <thead>\n    <tr style=\"text-align: right;\">\n      <th></th>\n      <th>boxoff</th>\n      <th>prodcost</th>\n      <th>dirIncome</th>\n      <th>dirGender</th>\n      <th>year</th>\n      <th>month</th>\n      <th>genre</th>\n      <th>numTheatres</th>\n    </tr>\n  </thead>\n  <tbody>\n    <tr>\n      <th>0</th>\n      <td>88.648583</td>\n      <td>44.742936</td>\n      <td>1.143234</td>\n      <td>male</td>\n      <td>2012</td>\n      <td>3</td>\n      <td>comedy</td>\n      <td>139</td>\n    </tr>\n    <tr>\n      <th>1</th>\n      <td>145.334924</td>\n      <td>38.835516</td>\n      <td>3.393535</td>\n      <td>female</td>\n      <td>2014</td>\n      <td>11</td>\n      <td>drama</td>\n      <td>213</td>\n    </tr>\n    <tr>\n      <th>2</th>\n      <td>238.265684</td>\n      <td>29.532283</td>\n      <td>2.418883</td>\n      <td>male</td>\n      <td>2015</td>\n      <td>6</td>\n      <td>other</td>\n      <td>100</td>\n    </tr>\n    <tr>\n      <th>3</th>\n      <td>212.714742</td>\n      <td>157.111899</td>\n      <td>2.034115</td>\n      <td>male</td>\n      <td>2014</td>\n      <td>10</td>\n      <td>adventure</td>\n      <td>436</td>\n    </tr>\n    <tr>\n      <th>4</th>\n      <td>120.175461</td>\n      <td>30.547155</td>\n      <td>0.963219</td>\n      <td>female</td>\n      <td>2012</td>\n      <td>1</td>\n      <td>comedy</td>\n      <td>115</td>\n    </tr>\n    <tr>\n      <th>...</th>\n      <td>...</td>\n      <td>...</td>\n      <td>...</td>\n      <td>...</td>\n      <td>...</td>\n      <td>...</td>\n      <td>...</td>\n      <td>...</td>\n    </tr>\n    <tr>\n      <th>245</th>\n      <td>187.231562</td>\n      <td>72.743712</td>\n      <td>3.105438</td>\n      <td>male</td>\n      <td>2012</td>\n      <td>12</td>\n      <td>adventure</td>\n      <td>366</td>\n    </tr>\n    <tr>\n      <th>246</th>\n      <td>215.713195</td>\n      <td>136.851707</td>\n      <td>1.917771</td>\n      <td>male</td>\n      <td>2013</td>\n      <td>7</td>\n      <td>adventure</td>\n      <td>285</td>\n    </tr>\n    <tr>\n      <th>247</th>\n      <td>166.827002</td>\n      <td>50.684470</td>\n      <td>2.414571</td>\n      <td>male</td>\n      <td>2014</td>\n      <td>1</td>\n      <td>other</td>\n      <td>233</td>\n    </tr>\n    <tr>\n      <th>248</th>\n      <td>223.226998</td>\n      <td>40.103513</td>\n      <td>2.176928</td>\n      <td>male</td>\n      <td>2015</td>\n      <td>2</td>\n      <td>drama</td>\n      <td>489</td>\n    </tr>\n    <tr>\n      <th>249</th>\n      <td>123.511036</td>\n      <td>48.287595</td>\n      <td>2.315791</td>\n      <td>male</td>\n      <td>2012</td>\n      <td>7</td>\n      <td>comedy</td>\n      <td>251</td>\n    </tr>\n  </tbody>\n</table>\n<p>250 rows × 8 columns</p>\n</div>"
     },
     "execution_count": 2,
     "metadata": {},
     "output_type": "execute_result"
    }
   ],
   "source": [
    "df = pd.read_csv(\"movieDataset.csv\")\n",
    "df"
   ],
   "metadata": {
    "collapsed": false
   }
  },
  {
   "attachments": {},
   "cell_type": "markdown",
   "metadata": {},
   "source": [
    "## TASK 1: Defining the test statistics (40pts)\n",
    "### Question 1  - Explore the gender imbalance across movie genres (10pts)\n",
    "As you did in Assignment 02, create a table that displays the number of movies per genre and director gender. Make a stacked barplot that best let's you see what proprtion of directors were female for each movie genre.   Remember x-, y-axis labels and caption. Written answer: Which movie genre has the highest proportion of female directors? \n",
    "\n",
    "*Hint: Since this is a new dataset for you, it is excellent practice to explore the dataset as you did in Assignment number 2*"
   ]
  },
  {
   "cell_type": "code",
   "execution_count": 3,
   "metadata": {},
   "outputs": [
    {
     "data": {
      "text/plain": "genre      action  adventure  comedy  drama  other\ndirGender                                         \nfemale          9          6      13      5      4\nmale           48         58      35     31     41",
      "text/html": "<div>\n<style scoped>\n    .dataframe tbody tr th:only-of-type {\n        vertical-align: middle;\n    }\n\n    .dataframe tbody tr th {\n        vertical-align: top;\n    }\n\n    .dataframe thead th {\n        text-align: right;\n    }\n</style>\n<table border=\"1\" class=\"dataframe\">\n  <thead>\n    <tr style=\"text-align: right;\">\n      <th>genre</th>\n      <th>action</th>\n      <th>adventure</th>\n      <th>comedy</th>\n      <th>drama</th>\n      <th>other</th>\n    </tr>\n    <tr>\n      <th>dirGender</th>\n      <th></th>\n      <th></th>\n      <th></th>\n      <th></th>\n      <th></th>\n    </tr>\n  </thead>\n  <tbody>\n    <tr>\n      <th>female</th>\n      <td>9</td>\n      <td>6</td>\n      <td>13</td>\n      <td>5</td>\n      <td>4</td>\n    </tr>\n    <tr>\n      <th>male</th>\n      <td>48</td>\n      <td>58</td>\n      <td>35</td>\n      <td>31</td>\n      <td>41</td>\n    </tr>\n  </tbody>\n</table>\n</div>"
     },
     "execution_count": 3,
     "metadata": {},
     "output_type": "execute_result"
    }
   ],
   "source": [
    "q_table = pd.crosstab(df['dirGender'], df['genre'], margins=False)\n",
    "q_table"
   ]
  },
  {
   "cell_type": "code",
   "execution_count": 4,
   "outputs": [
    {
     "data": {
      "text/plain": "<Figure size 640x480 with 1 Axes>",
      "image/png": "[encoded data removed]"
     },
     "metadata": {},
     "output_type": "display_data"
    }
   ],
   "source": [
    "# Creating bar chart\n",
    "q_table.plot(kind='bar', stacked=True)\n",
    "\n",
    "# Adding axis labels and chart title\n",
    "plt.xlabel('Director Gender')\n",
    "plt.ylabel('Count by gender')\n",
    "plt.title('Genre according to Director Gender')\n",
    "\n",
    "plt.show()"
   ],
   "metadata": {
    "collapsed": false
   }
  },
  {
   "attachments": {},
   "cell_type": "markdown",
   "metadata": {},
   "source": []
  },
  {
   "attachments": {},
   "cell_type": "markdown",
   "metadata": {},
   "source": [
    "### Question 2 - Create contingency table of comedy (yes/no) by director gender (5pts)\n",
    "Generate and display a cross-tabulation table of the 2x2 proportions of directorGender vs. whether the movie is a comedy or not (all other genres should be combined into non-comedy movies).  "
   ]
  },
  {
   "cell_type": "code",
   "execution_count": 5,
   "metadata": {
    "scrolled": true
   },
   "outputs": [
    {
     "name": "stdout",
     "output_type": "stream",
     "text": [
      "genre      False  True  All\n",
      "dirGender                  \n",
      "female        24    13   37\n",
      "male         178    35  213\n",
      "All          202    48  250\n"
     ]
    }
   ],
   "source": [
    "cngTable = pd.crosstab(df['dirGender'], df['genre'] =='comedy', margins = True)\n",
    "print(cngTable)"
   ]
  },
  {
   "cell_type": "code",
   "execution_count": 6,
   "outputs": [
    {
     "data": {
      "text/plain": "Genre      Comedy  Not Comedy\ndirGender                    \nfemale         13          24\nmale           35         178",
      "text/html": "<div>\n<style scoped>\n    .dataframe tbody tr th:only-of-type {\n        vertical-align: middle;\n    }\n\n    .dataframe tbody tr th {\n        vertical-align: top;\n    }\n\n    .dataframe thead th {\n        text-align: right;\n    }\n</style>\n<table border=\"1\" class=\"dataframe\">\n  <thead>\n    <tr style=\"text-align: right;\">\n      <th>Genre</th>\n      <th>Comedy</th>\n      <th>Not Comedy</th>\n    </tr>\n    <tr>\n      <th>dirGender</th>\n      <th></th>\n      <th></th>\n    </tr>\n  </thead>\n  <tbody>\n    <tr>\n      <th>female</th>\n      <td>13</td>\n      <td>24</td>\n    </tr>\n    <tr>\n      <th>male</th>\n      <td>35</td>\n      <td>178</td>\n    </tr>\n  </tbody>\n</table>\n</div>"
     },
     "metadata": {},
     "output_type": "display_data"
    }
   ],
   "source": [
    "df['comedy'] = np.where(df['genre']== \"comedy\", \"Comedy\", \"Not Comedy\")\n",
    "contingTable = pd.crosstab(df['dirGender'], df['comedy'], margins = False,colnames=['Genre'])\n",
    "display(contingTable)"
   ],
   "metadata": {
    "collapsed": false
   }
  },
  {
   "attachments": {},
   "cell_type": "markdown",
   "metadata": {},
   "source": [
    "### Question 2 - Calculate p(comedy|female)-p(comedy|male) (15pts)\n",
    "Calculate and report the probability that the movie is a comedy given that the director Gender is female, p(comedy|female), the probability of the movie is a comedy given that the director Gender is male, p(comedy|male), as well as the difference between these two numbers, p(comedy|female)- p(comedy|male) (for help, see solution to homework 2)."
   ]
  },
  {
   "cell_type": "code",
   "execution_count": 7,
   "metadata": {},
   "outputs": [
    {
     "data": {
      "text/plain": "genre      False  True  All\ndirGender                  \nfemale        24    13   37\nmale         178    35  213\nAll          202    48  250",
      "text/html": "<div>\n<style scoped>\n    .dataframe tbody tr th:only-of-type {\n        vertical-align: middle;\n    }\n\n    .dataframe tbody tr th {\n        vertical-align: top;\n    }\n\n    .dataframe thead th {\n        text-align: right;\n    }\n</style>\n<table border=\"1\" class=\"dataframe\">\n  <thead>\n    <tr style=\"text-align: right;\">\n      <th>genre</th>\n      <th>False</th>\n      <th>True</th>\n      <th>All</th>\n    </tr>\n    <tr>\n      <th>dirGender</th>\n      <th></th>\n      <th></th>\n      <th></th>\n    </tr>\n  </thead>\n  <tbody>\n    <tr>\n      <th>female</th>\n      <td>24</td>\n      <td>13</td>\n      <td>37</td>\n    </tr>\n    <tr>\n      <th>male</th>\n      <td>178</td>\n      <td>35</td>\n      <td>213</td>\n    </tr>\n    <tr>\n      <th>All</th>\n      <td>202</td>\n      <td>48</td>\n      <td>250</td>\n    </tr>\n  </tbody>\n</table>\n</div>"
     },
     "metadata": {},
     "output_type": "display_data"
    },
    {
     "name": "stdout",
     "output_type": "stream",
     "text": [
      "Probability that the movie is a comedy given that the director Gender is Female : 0.351\n",
      "Probability that the movie is a comedy given that the director Gender is Male : 0.164\n",
      "The difference between the probability that a movie is a comedy and directed by a female director and the probability that a movie is a comedy and directed by a male director is : 0.187.\n"
     ]
    }
   ],
   "source": [
    "display(cngTable)\n",
    "\n",
    "pFemale = cngTable[True]['female']/cngTable['All']['female']\n",
    "print(f\"Probability that the movie is a comedy given that the director Gender is Female : %.3f\" %pFemale)\n",
    "\n",
    "pMale = cngTable[True]['male']/cngTable['All']['male']\n",
    "print(f\"Probability that the movie is a comedy given that the director Gender is Male : %.3f\" %pMale)\n",
    "\n",
    "probDifference = pFemale - pMale\n",
    "\n",
    "print(f\"The difference between the probability that a movie is a comedy and directed by a female director and the probability that a movie is a comedy and directed by a male director is : %.3f.\" %probDifference)\n",
    "\n"
   ]
  },
  {
   "attachments": {},
   "cell_type": "markdown",
   "metadata": {},
   "source": [
    "### Question 3 - Define a function that calculates this difference in probability (10pts)\n",
    "Write a function (e.g., https://www.tutorialspoint.com/python/python_functions.htm) that takes the data frame as an input and returns the difference on conditional probabilities (as calculated in question 2). \n",
    "Test the function by calling it with your data and report the difference in probability \n",
    "This difference is your test statistics for the coming permutation test."
   ]
  },
  {
   "cell_type": "code",
   "execution_count": 8,
   "metadata": {
    "collapsed": true
   },
   "outputs": [
    {
     "data": {
      "text/plain": "0.187"
     },
     "execution_count": 8,
     "metadata": {},
     "output_type": "execute_result"
    }
   ],
   "source": [
    "def prbDif(df):\n",
    "\n",
    "    q1_table = pd.crosstab(df['dirGender'], df['genre'], margins = True)\n",
    "\n",
    "    femaleProb = q1_table['comedy']['female']/q1_table['All']['female']\n",
    "    maleProb = q1_table['comedy']['male']/q1_table['All']['male']\n",
    "\n",
    "    difference = femaleProb - maleProb\n",
    "\n",
    "    return round(difference,3)\n",
    "\n",
    "prbDif(df)"
   ]
  },
  {
   "cell_type": "markdown",
   "metadata": {},
   "source": [
    "## Task 2: Perform a permutation test (60pts)\n",
    "### Question 1 (10pts)\n",
    "Written answer: We want to test the hypothesis that female directors are more likely than male directors to conduct a comedy. Under this hypothesis the p(comedy|female) should be higher than p(comedy|male). What is the Null-hypothesis we need to consider? "
   ]
  },
  {
   "attachments": {},
   "cell_type": "markdown",
   "metadata": {},
   "source": [
    "The Null Hypothesis in this case would be: p(comedy|female) ≤  p(comedy|male).\n",
    " The probability of conducting a comedy given a director is female is equal or less than to the probability\n",
    " of conducting comedy given a director is male."
   ]
  },
  {
   "attachments": {},
   "cell_type": "markdown",
   "metadata": {},
   "source": [
    "### Question 2 (40pts)\n",
    "Perform a permutation test. Under the Null-hypothesis the director gender is exchangeable. \n",
    "\n",
    "First, write a function that takes the data frame as an input and then randomly permutes the a specific columns that data frame (see lab for hints).\n",
    "\n",
    "Then write a function ``permutation_test`` that takes a data frame as an input and the loops ``numIter`` times. Every iteration of the  the loop it should shuffle the dirGender column of the data and then calls the function written for Task1, Q3 to get the test statistic. Each iteration, the test statistic should  be stored in a list.  \n",
    "\n",
    "After building up the numpy array of test statistics, the function should plot a histogram of the test statistics and mark the value of the empirical test statistics by a vertical line (see https://matplotlib.org/api/_as_gen/matplotlib.axes.Axes.axvline.html). Finally, it should report the p-value. \n",
    "\n",
    "For Pseudo code see lecture. Start with 500 iterations to test your code – for the final result, use 5000 iterations."
   ]
  },
  {
   "cell_type": "code",
   "execution_count": 9,
   "metadata": {
    "collapsed": true
   },
   "outputs": [
    {
     "data": {
      "text/plain": "<Figure size 640x480 with 1 Axes>",
      "image/png": "[encoded data removed]"
     },
     "metadata": {},
     "output_type": "display_data"
    },
    {
     "data": {
      "text/plain": "0.008"
     },
     "execution_count": 9,
     "metadata": {},
     "output_type": "execute_result"
    }
   ],
   "source": [
    "def permute_column(df, col):\n",
    "    permuted_col = np.random.permutation(df[col])\n",
    "    df[col] = permuted_col\n",
    "    return df\n",
    "\n",
    "def permutation_test(df, numIter, col):\n",
    "    test_statistics = []\n",
    "    original_statistic = prbDif(df)\n",
    "\n",
    "    for i in range(numIter):\n",
    "        permuted_df = permute_column(df.copy(), col)\n",
    "        test_statistic = prbDif(permuted_df)\n",
    "        test_statistics.append(test_statistic)\n",
    "\n",
    "    p_value = np.mean(test_statistics >= original_statistic)\n",
    "\n",
    "    plt.hist(test_statistics)\n",
    "    plt.axvline(x=original_statistic, color='red')\n",
    "    plt.show()\n",
    "\n",
    "    return p_value\n",
    "\n",
    "permutation_test(df,500,\"dirGender\")\n"
   ]
  },
  {
   "cell_type": "code",
   "execution_count": 10,
   "metadata": {},
   "outputs": [
    {
     "data": {
      "text/plain": "<Figure size 640x480 with 1 Axes>",
      "image/png": "[encoded data removed]"
     },
     "metadata": {},
     "output_type": "display_data"
    },
    {
     "data": {
      "text/plain": "0.0108"
     },
     "execution_count": 10,
     "metadata": {},
     "output_type": "execute_result"
    }
   ],
   "source": [
    "permutation_test(df,5000,\"dirGender\")"
   ]
  },
  {
   "cell_type": "markdown",
   "metadata": {},
   "source": [
    "### Question 3 (10pts)\n",
    "Written response: What do you conclude from this result?"
   ]
  },
  {
   "cell_type": "code",
   "execution_count": null,
   "outputs": [],
   "source": [
    "Solution. The null hypothesis is rejected because p value is really low."
   ],
   "metadata": {
    "collapsed": false
   }
  },
  {
   "attachments": {},
   "cell_type": "markdown",
   "metadata": {},
   "source": []
  }
 ],
 "metadata": {
  "kernelspec": {
   "display_name": "base",
   "language": "python",
   "name": "python3"
  },
  "language_info": {
   "codemirror_mode": {
    "name": "ipython",
    "version": 3
   },
   "file_extension": ".py",
   "mimetype": "text/x-python",
   "name": "python",
   "nbconvert_exporter": "python",
   "pygments_lexer": "ipython3",
   "version": "3.8.5 (default, Sep  4 2020, 02:22:02) \n[Clang 10.0.0 ]"
  },
  "vscode": {
   "interpreter": {
    "hash": "82c9595c6ac3df5bed1366f4aa85323e4ec1b3448185f6be6e163d2b6e222f49"
   }
  }
 },
 "nbformat": 4,
 "nbformat_minor": 2
}
