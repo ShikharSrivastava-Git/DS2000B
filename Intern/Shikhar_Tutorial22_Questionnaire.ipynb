{
 "cells": [
  {
   "cell_type": "markdown",
   "id": "3b9715e6",
   "metadata": {},
   "source": [
    "# Introduction"
   ]
  },
  {
   "cell_type": "markdown",
   "id": "7a482ac9",
   "metadata": {},
   "source": [
    "Important Info:\n",
    "\n",
    "Hi and welcome to the Sportlogiq DA Questionnaire! The goal with this questionnaire is to assess your problem solving, hockey knowledge, and coding/stats abilities and your (hopeful) fit with some of our day-to-day tasks. If you find yourself stuck or unsure on a question, showing your work and explaining your problem solving/decision making is still highly recommended.\n",
    "\n",
    "Libraries:\n",
    "- You'll want to import libraries such as numpy, pandas, a plotting library like plotly/matplotlib, and a stats library of your choosing (sklearn for example)\n",
    "\n",
    "Data Info:\n",
    "- There are two data files. One has a condensed event set from a randomly chosen hockey game and the other contains Expected Goals values (xg) provided only for shots that successfully hit the net. If an xg value doesn't correspond to a shot event, it should not be counted\n",
    "\n",
    "- X and Y Coordinates are in Feet and are adjusted such that both teams shoot in the same direction\n",
    "\n",
    "- Line Carry events are tagged when the puck is carried over either blue line or the centre ice red line\n",
    "\n",
    "- Binary columns that have values of 0 or 1 indicate 0=No, 1=Yes\n",
    "\n",
    "- Successfull passes are completed passes, successful shots are shots on net\n",
    "\n",
    "Please show all work, keep written answers succinct and to the point and most of all, thanks for your time and good luck!"
   ]
  },
  {
   "cell_type": "code",
   "execution_count": 2,
   "id": "2d0b5ce9",
   "metadata": {},
   "outputs": [],
   "source": [
    "import matplotlib\n",
    "import matplotlib.pyplot as plt\n",
    "from sklearn.linear_model import LogisticRegression\n",
    "import pandas as pd\n",
    "import numpy as np\n",
    "import seaborn as sb\n",
    "import scipy.stats as ss"
   ]
  },
  {
   "cell_type": "markdown",
   "id": "76a61952",
   "metadata": {},
   "source": [
    "## Q1) \n",
    "### a) Who won the game & what was the score?\n",
    "### b) Who won the Expected Goals (xg) battle & what was each team's total xg?\n",
    "### c) What do these two answers tell us about how the two teams played?"
   ]
  },
  {
   "cell_type": "markdown",
   "id": "10b879a4",
   "metadata": {},
   "source": [
    "## A1)\n",
    "### a)"
   ]
  },
  {
   "cell_type": "code",
   "execution_count": 3,
   "id": "cd930532",
   "metadata": {
    "scrolled": true
   },
   "outputs": [
    {
     "name": "stdout",
     "output_type": "stream",
     "text": [
      "team 724 has 1 goals\n",
      "team 596 has 4 goals\n"
     ]
    }
   ],
   "source": [
    "# Read in the condensed event set and xg files\n",
    "events_df = pd.read_csv('Tutorial22_df.csv')\n",
    "xg_df = pd.read_csv('Tutorial22_xG_df.csv')\n",
    "merged_df = pd.merge(events_df,xg_df, on=('compiledgametime','playerid','teamid'))\n",
    "merged_df\n",
    "# Merge the two datasets on the common column\n",
    "\n",
    "\n",
    "\n",
    "TEvents724= events_df[events_df.teamid == 724]\n",
    "x=TEvents724.goal.sum()\n",
    "print(\"team 724 has \"+str(x)+\" goals\")\n",
    "TEvents596= events_df[events_df.teamid == 596]\n",
    "y=TEvents596.goal.sum()\n",
    "print(\"team 596 has \"+str(y)+\" goals\")"
   ]
  },
  {
   "cell_type": "markdown",
   "source": [
    "A1)A) Team 596 won with scoreline 4 goals to 1 against team 724."
   ],
   "metadata": {
    "collapsed": false
   }
  },
  {
   "cell_type": "code",
   "execution_count": 4,
   "outputs": [
    {
     "name": "stdout",
     "output_type": "stream",
     "text": [
      "team 724 have a total of 3.221937193 xg score\n",
      "team 596 have a total of 4.7426154039999995 xg score\n"
     ]
    }
   ],
   "source": [
    "Txg724=xg_df[xg_df.teamid == 724]\n",
    "a=Txg724.xg.sum()\n",
    "print(\"team 724 have a total of \"+str(a)+\" xg score\")\n",
    "Txg596=xg_df[xg_df.teamid == 596]\n",
    "b=Txg596.xg.sum()\n",
    "print(\"team 596 have a total of \"+str(b)+\" xg score\")"
   ],
   "metadata": {
    "collapsed": false
   }
  },
  {
   "cell_type": "markdown",
   "source": [
    "A2)B) Team 596 won the xg Score battle by 4.7426 to 3.2219."
   ],
   "metadata": {
    "collapsed": false
   }
  },
  {
   "cell_type": "markdown",
   "source": [
    "A2)C) From the above answers we can say team 596 created more chances than team 724 and also were able to convert those chances more successfully into goals. Team 724 lost the game because they failed to convert the chances they created, whereas team 596 rarely missed an opportunity to convert their chances into goals."
   ],
   "metadata": {
    "collapsed": false
   }
  },
  {
   "cell_type": "markdown",
   "id": "3ceee930",
   "metadata": {},
   "source": [
    "## Q2)\n",
    "### a) Which possessionid had the highest total successful passes? \n",
    "### b) How many successful passes were there and why do you think this specific possession had so many?"
   ]
  },
  {
   "cell_type": "markdown",
   "id": "6c191162",
   "metadata": {},
   "source": [
    "## A2) \n",
    "### a),b)"
   ]
  },
  {
   "cell_type": "code",
   "execution_count": 5,
   "id": "c08bdc85",
   "metadata": {
    "scrolled": true
   },
   "outputs": [
    {
     "data": {
      "text/plain": "      gameid  teamid  opposingteamid  compiledgametime  playerid eventname  \\\n0      70632     596             724        2859.13330    485421      pass   \n1      70632     596             724        1023.53330    485421      pass   \n3      70632     724             596         212.20000    673651      pass   \n7      70632     596             724        1763.13330    403721      pass   \n9      70632     596             724        1894.00000    847481      pass   \n...      ...     ...             ...               ...       ...       ...   \n1639   70632     596             724         874.10000    403721      pass   \n1640   70632     596             724         134.10000    393337      pass   \n1650   70632     596             724        1892.93330    485421      pass   \n1653   70632     596             724        3035.30000    485421      pass   \n1654   70632     596             724         136.73334    424862      pass   \n\n         outcome    type  possessionid zone     xcoord     ycoord  \\\n0     successful   south           442   nz  -2.720505 -24.610668   \n1     successful   north           160   oz  31.990311   9.805882   \n3     successful  outlet            30   dz -73.223618  37.966553   \n7     successful     d2d           267   dz -94.850098 -24.900017   \n9     successful  outlet           285   dz -44.060898 -37.970589   \n...          ...     ...           ...  ...        ...        ...   \n1639  successful     d2d           140   dz -59.551102  35.958824   \n1640  successful     d2d            19   dz -90.735214  29.204041   \n1650  successful  outlet           285   dz -68.705002 -21.373528   \n1653  successful  outlet           462   dz -38.424080  18.355881   \n1654  successful  outlet            19   dz -93.249916 -14.048904   \n\n      teamskatersonicecount  opposingteamskatersonicecount  goal  \\\n0                         5                              5     0   \n1                         5                              4     0   \n3                         5                              5     0   \n7                         4                              5     0   \n9                         5                              5     0   \n...                     ...                            ...   ...   \n1639                      5                              5     0   \n1640                      5                              5     0   \n1650                      5                              5     0   \n1653                      5                              5     0   \n1654                      5                              5     0   \n\n      team_net_empty  opponent_net_empty  scoredifferential  \n0                  0                   0                  3  \n1                  0                   0                  2  \n3                  0                   0                  0  \n7                  0                   0                  2  \n9                  0                   0                  3  \n...              ...                 ...                ...  \n1639               0                   0                  2  \n1640               0                   0                  0  \n1650               0                   0                  3  \n1653               0                   0                  3  \n1654               0                   0                  0  \n\n[552 rows x 18 columns]",
      "text/html": "<div>\n<style scoped>\n    .dataframe tbody tr th:only-of-type {\n        vertical-align: middle;\n    }\n\n    .dataframe tbody tr th {\n        vertical-align: top;\n    }\n\n    .dataframe thead th {\n        text-align: right;\n    }\n</style>\n<table border=\"1\" class=\"dataframe\">\n  <thead>\n    <tr style=\"text-align: right;\">\n      <th></th>\n      <th>gameid</th>\n      <th>teamid</th>\n      <th>opposingteamid</th>\n      <th>compiledgametime</th>\n      <th>playerid</th>\n      <th>eventname</th>\n      <th>outcome</th>\n      <th>type</th>\n      <th>possessionid</th>\n      <th>zone</th>\n      <th>xcoord</th>\n      <th>ycoord</th>\n      <th>teamskatersonicecount</th>\n      <th>opposingteamskatersonicecount</th>\n      <th>goal</th>\n      <th>team_net_empty</th>\n      <th>opponent_net_empty</th>\n      <th>scoredifferential</th>\n    </tr>\n  </thead>\n  <tbody>\n    <tr>\n      <th>0</th>\n      <td>70632</td>\n      <td>596</td>\n      <td>724</td>\n      <td>2859.13330</td>\n      <td>485421</td>\n      <td>pass</td>\n      <td>successful</td>\n      <td>south</td>\n      <td>442</td>\n      <td>nz</td>\n      <td>-2.720505</td>\n      <td>-24.610668</td>\n      <td>5</td>\n      <td>5</td>\n      <td>0</td>\n      <td>0</td>\n      <td>0</td>\n      <td>3</td>\n    </tr>\n    <tr>\n      <th>1</th>\n      <td>70632</td>\n      <td>596</td>\n      <td>724</td>\n      <td>1023.53330</td>\n      <td>485421</td>\n      <td>pass</td>\n      <td>successful</td>\n      <td>north</td>\n      <td>160</td>\n      <td>oz</td>\n      <td>31.990311</td>\n      <td>9.805882</td>\n      <td>5</td>\n      <td>4</td>\n      <td>0</td>\n      <td>0</td>\n      <td>0</td>\n      <td>2</td>\n    </tr>\n    <tr>\n      <th>3</th>\n      <td>70632</td>\n      <td>724</td>\n      <td>596</td>\n      <td>212.20000</td>\n      <td>673651</td>\n      <td>pass</td>\n      <td>successful</td>\n      <td>outlet</td>\n      <td>30</td>\n      <td>dz</td>\n      <td>-73.223618</td>\n      <td>37.966553</td>\n      <td>5</td>\n      <td>5</td>\n      <td>0</td>\n      <td>0</td>\n      <td>0</td>\n      <td>0</td>\n    </tr>\n    <tr>\n      <th>7</th>\n      <td>70632</td>\n      <td>596</td>\n      <td>724</td>\n      <td>1763.13330</td>\n      <td>403721</td>\n      <td>pass</td>\n      <td>successful</td>\n      <td>d2d</td>\n      <td>267</td>\n      <td>dz</td>\n      <td>-94.850098</td>\n      <td>-24.900017</td>\n      <td>4</td>\n      <td>5</td>\n      <td>0</td>\n      <td>0</td>\n      <td>0</td>\n      <td>2</td>\n    </tr>\n    <tr>\n      <th>9</th>\n      <td>70632</td>\n      <td>596</td>\n      <td>724</td>\n      <td>1894.00000</td>\n      <td>847481</td>\n      <td>pass</td>\n      <td>successful</td>\n      <td>outlet</td>\n      <td>285</td>\n      <td>dz</td>\n      <td>-44.060898</td>\n      <td>-37.970589</td>\n      <td>5</td>\n      <td>5</td>\n      <td>0</td>\n      <td>0</td>\n      <td>0</td>\n      <td>3</td>\n    </tr>\n    <tr>\n      <th>...</th>\n      <td>...</td>\n      <td>...</td>\n      <td>...</td>\n      <td>...</td>\n      <td>...</td>\n      <td>...</td>\n      <td>...</td>\n      <td>...</td>\n      <td>...</td>\n      <td>...</td>\n      <td>...</td>\n      <td>...</td>\n      <td>...</td>\n      <td>...</td>\n      <td>...</td>\n      <td>...</td>\n      <td>...</td>\n      <td>...</td>\n    </tr>\n    <tr>\n      <th>1639</th>\n      <td>70632</td>\n      <td>596</td>\n      <td>724</td>\n      <td>874.10000</td>\n      <td>403721</td>\n      <td>pass</td>\n      <td>successful</td>\n      <td>d2d</td>\n      <td>140</td>\n      <td>dz</td>\n      <td>-59.551102</td>\n      <td>35.958824</td>\n      <td>5</td>\n      <td>5</td>\n      <td>0</td>\n      <td>0</td>\n      <td>0</td>\n      <td>2</td>\n    </tr>\n    <tr>\n      <th>1640</th>\n      <td>70632</td>\n      <td>596</td>\n      <td>724</td>\n      <td>134.10000</td>\n      <td>393337</td>\n      <td>pass</td>\n      <td>successful</td>\n      <td>d2d</td>\n      <td>19</td>\n      <td>dz</td>\n      <td>-90.735214</td>\n      <td>29.204041</td>\n      <td>5</td>\n      <td>5</td>\n      <td>0</td>\n      <td>0</td>\n      <td>0</td>\n      <td>0</td>\n    </tr>\n    <tr>\n      <th>1650</th>\n      <td>70632</td>\n      <td>596</td>\n      <td>724</td>\n      <td>1892.93330</td>\n      <td>485421</td>\n      <td>pass</td>\n      <td>successful</td>\n      <td>outlet</td>\n      <td>285</td>\n      <td>dz</td>\n      <td>-68.705002</td>\n      <td>-21.373528</td>\n      <td>5</td>\n      <td>5</td>\n      <td>0</td>\n      <td>0</td>\n      <td>0</td>\n      <td>3</td>\n    </tr>\n    <tr>\n      <th>1653</th>\n      <td>70632</td>\n      <td>596</td>\n      <td>724</td>\n      <td>3035.30000</td>\n      <td>485421</td>\n      <td>pass</td>\n      <td>successful</td>\n      <td>outlet</td>\n      <td>462</td>\n      <td>dz</td>\n      <td>-38.424080</td>\n      <td>18.355881</td>\n      <td>5</td>\n      <td>5</td>\n      <td>0</td>\n      <td>0</td>\n      <td>0</td>\n      <td>3</td>\n    </tr>\n    <tr>\n      <th>1654</th>\n      <td>70632</td>\n      <td>596</td>\n      <td>724</td>\n      <td>136.73334</td>\n      <td>424862</td>\n      <td>pass</td>\n      <td>successful</td>\n      <td>outlet</td>\n      <td>19</td>\n      <td>dz</td>\n      <td>-93.249916</td>\n      <td>-14.048904</td>\n      <td>5</td>\n      <td>5</td>\n      <td>0</td>\n      <td>0</td>\n      <td>0</td>\n      <td>0</td>\n    </tr>\n  </tbody>\n</table>\n<p>552 rows × 18 columns</p>\n</div>"
     },
     "execution_count": 5,
     "metadata": {},
     "output_type": "execute_result"
    }
   ],
   "source": [
    "PASS= events_df.loc[events_df['eventname'] == \"pass\"]\n",
    "PASS\n",
    "SuccPass=PASS.loc[PASS['outcome'] == 'successful']\n",
    "SuccPass\n"
   ]
  },
  {
   "cell_type": "code",
   "execution_count": 6,
   "outputs": [
    {
     "name": "stdout",
     "output_type": "stream",
     "text": [
      "The possessionid with most successfull passes is id number 417 with a total of 8 passes.\n"
     ]
    }
   ],
   "source": [
    "# Count the occurrences of each value in the 'column_name' column\n",
    "value_counts = SuccPass['possessionid'].value_counts()\n",
    "# Print the most common value and its count\n",
    "most_passid = value_counts.idxmax()\n",
    "count_of_most_common_value = value_counts.max()\n",
    "print(\"The possessionid with most successfull passes is id number\", most_passid, \"with a total of\", count_of_most_common_value, \"passes.\")"
   ],
   "metadata": {
    "collapsed": false
   }
  },
  {
   "cell_type": "markdown",
   "source": [
    "b)"
   ],
   "metadata": {
    "collapsed": false
   }
  },
  {
   "cell_type": "code",
   "execution_count": 7,
   "outputs": [
    {
     "data": {
      "text/plain": "      gameid  teamid  opposingteamid  compiledgametime  playerid eventname  \\\n872    70632     724             596         2683.6000    890686      pass   \n925    70632     724             596         2688.7334    154967      pass   \n951    70632     724             596         2692.5000    154967      pass   \n965    70632     724             596         2694.6333    890686      pass   \n981    70632     724             596         2696.0000    154967      pass   \n987    70632     724             596         2690.3667    698619      pass   \n1022   70632     724             596         2698.2666    698619      pass   \n1037   70632     724             596         2699.3000    303683      pass   \n\n         outcome      type  possessionid zone     xcoord     ycoord  \\\n872   successful    outlet           417   dz -63.117645  31.938236   \n925   successful     south           417   oz  37.470589 -38.473526   \n951   successful     north           417   oz  79.214706 -37.970589   \n965   successful     south           417   oz  98.326469  -7.794117   \n981   successful     south           417   oz  82.232353 -36.964706   \n987   successful     north           417   oz  34.955879 -39.479408   \n1022  successful  eastwest           417   oz  30.429413 -31.432350   \n1037  successful  eastwest           417   oz  34.955879   7.797058   \n\n      teamskatersonicecount  opposingteamskatersonicecount  goal  \\\n872                       5                              4     0   \n925                       5                              4     0   \n951                       5                              4     0   \n965                       5                              4     0   \n981                       5                              4     0   \n987                       5                              4     0   \n1022                      5                              4     0   \n1037                      5                              4     0   \n\n      team_net_empty  opponent_net_empty  scoredifferential  \n872                0                   0                 -3  \n925                0                   0                 -3  \n951                0                   0                 -3  \n965                0                   0                 -3  \n981                0                   0                 -3  \n987                0                   0                 -3  \n1022               0                   0                 -3  \n1037               0                   0                 -3  ",
      "text/html": "<div>\n<style scoped>\n    .dataframe tbody tr th:only-of-type {\n        vertical-align: middle;\n    }\n\n    .dataframe tbody tr th {\n        vertical-align: top;\n    }\n\n    .dataframe thead th {\n        text-align: right;\n    }\n</style>\n<table border=\"1\" class=\"dataframe\">\n  <thead>\n    <tr style=\"text-align: right;\">\n      <th></th>\n      <th>gameid</th>\n      <th>teamid</th>\n      <th>opposingteamid</th>\n      <th>compiledgametime</th>\n      <th>playerid</th>\n      <th>eventname</th>\n      <th>outcome</th>\n      <th>type</th>\n      <th>possessionid</th>\n      <th>zone</th>\n      <th>xcoord</th>\n      <th>ycoord</th>\n      <th>teamskatersonicecount</th>\n      <th>opposingteamskatersonicecount</th>\n      <th>goal</th>\n      <th>team_net_empty</th>\n      <th>opponent_net_empty</th>\n      <th>scoredifferential</th>\n    </tr>\n  </thead>\n  <tbody>\n    <tr>\n      <th>872</th>\n      <td>70632</td>\n      <td>724</td>\n      <td>596</td>\n      <td>2683.6000</td>\n      <td>890686</td>\n      <td>pass</td>\n      <td>successful</td>\n      <td>outlet</td>\n      <td>417</td>\n      <td>dz</td>\n      <td>-63.117645</td>\n      <td>31.938236</td>\n      <td>5</td>\n      <td>4</td>\n      <td>0</td>\n      <td>0</td>\n      <td>0</td>\n      <td>-3</td>\n    </tr>\n    <tr>\n      <th>925</th>\n      <td>70632</td>\n      <td>724</td>\n      <td>596</td>\n      <td>2688.7334</td>\n      <td>154967</td>\n      <td>pass</td>\n      <td>successful</td>\n      <td>south</td>\n      <td>417</td>\n      <td>oz</td>\n      <td>37.470589</td>\n      <td>-38.473526</td>\n      <td>5</td>\n      <td>4</td>\n      <td>0</td>\n      <td>0</td>\n      <td>0</td>\n      <td>-3</td>\n    </tr>\n    <tr>\n      <th>951</th>\n      <td>70632</td>\n      <td>724</td>\n      <td>596</td>\n      <td>2692.5000</td>\n      <td>154967</td>\n      <td>pass</td>\n      <td>successful</td>\n      <td>north</td>\n      <td>417</td>\n      <td>oz</td>\n      <td>79.214706</td>\n      <td>-37.970589</td>\n      <td>5</td>\n      <td>4</td>\n      <td>0</td>\n      <td>0</td>\n      <td>0</td>\n      <td>-3</td>\n    </tr>\n    <tr>\n      <th>965</th>\n      <td>70632</td>\n      <td>724</td>\n      <td>596</td>\n      <td>2694.6333</td>\n      <td>890686</td>\n      <td>pass</td>\n      <td>successful</td>\n      <td>south</td>\n      <td>417</td>\n      <td>oz</td>\n      <td>98.326469</td>\n      <td>-7.794117</td>\n      <td>5</td>\n      <td>4</td>\n      <td>0</td>\n      <td>0</td>\n      <td>0</td>\n      <td>-3</td>\n    </tr>\n    <tr>\n      <th>981</th>\n      <td>70632</td>\n      <td>724</td>\n      <td>596</td>\n      <td>2696.0000</td>\n      <td>154967</td>\n      <td>pass</td>\n      <td>successful</td>\n      <td>south</td>\n      <td>417</td>\n      <td>oz</td>\n      <td>82.232353</td>\n      <td>-36.964706</td>\n      <td>5</td>\n      <td>4</td>\n      <td>0</td>\n      <td>0</td>\n      <td>0</td>\n      <td>-3</td>\n    </tr>\n    <tr>\n      <th>987</th>\n      <td>70632</td>\n      <td>724</td>\n      <td>596</td>\n      <td>2690.3667</td>\n      <td>698619</td>\n      <td>pass</td>\n      <td>successful</td>\n      <td>north</td>\n      <td>417</td>\n      <td>oz</td>\n      <td>34.955879</td>\n      <td>-39.479408</td>\n      <td>5</td>\n      <td>4</td>\n      <td>0</td>\n      <td>0</td>\n      <td>0</td>\n      <td>-3</td>\n    </tr>\n    <tr>\n      <th>1022</th>\n      <td>70632</td>\n      <td>724</td>\n      <td>596</td>\n      <td>2698.2666</td>\n      <td>698619</td>\n      <td>pass</td>\n      <td>successful</td>\n      <td>eastwest</td>\n      <td>417</td>\n      <td>oz</td>\n      <td>30.429413</td>\n      <td>-31.432350</td>\n      <td>5</td>\n      <td>4</td>\n      <td>0</td>\n      <td>0</td>\n      <td>0</td>\n      <td>-3</td>\n    </tr>\n    <tr>\n      <th>1037</th>\n      <td>70632</td>\n      <td>724</td>\n      <td>596</td>\n      <td>2699.3000</td>\n      <td>303683</td>\n      <td>pass</td>\n      <td>successful</td>\n      <td>eastwest</td>\n      <td>417</td>\n      <td>oz</td>\n      <td>34.955879</td>\n      <td>7.797058</td>\n      <td>5</td>\n      <td>4</td>\n      <td>0</td>\n      <td>0</td>\n      <td>0</td>\n      <td>-3</td>\n    </tr>\n  </tbody>\n</table>\n</div>"
     },
     "execution_count": 7,
     "metadata": {},
     "output_type": "execute_result"
    }
   ],
   "source": [
    "z=SuccPass.loc[SuccPass['possessionid']==417]\n",
    "z"
   ],
   "metadata": {
    "collapsed": false
   }
  },
  {
   "cell_type": "markdown",
   "source": [
    "This possessionid had 8 successful passes because more skaters of the team 724 were on ice at that moment than the opposing team 596. THey had a man advantage of 5 to 4 during that period of play."
   ],
   "metadata": {
    "collapsed": false
   }
  },
  {
   "cell_type": "markdown",
   "id": "bd50c34d",
   "metadata": {},
   "source": [
    "## Q3)\n",
    "### a) Using the event data provided along with x/y coordinate columns, can you identify the likely xCoord of each blueline?"
   ]
  },
  {
   "cell_type": "markdown",
   "id": "20941a95",
   "metadata": {},
   "source": [
    "## A3)\n",
    "### a)"
   ]
  },
  {
   "cell_type": "code",
   "execution_count": 8,
   "id": "154e09ed",
   "metadata": {},
   "outputs": [
    {
     "name": "stdout",
     "output_type": "stream",
     "text": [
      "The X co-ordinate for the blue line would be approx 25.754456576179056\n"
     ]
    }
   ],
   "source": [
    "lc=events_df.loc[events_df['eventname']==\"linecarry\"]\n",
    "blueoz=lc.loc[lc[\"zone\"]=='oz']\n",
    "xCord1=blueoz.xcoord.mean()\n",
    "print(\"The X co-ordinate for the blue line would be approx \" + str(xCord1))"
   ]
  },
  {
   "cell_type": "code",
   "execution_count": 9,
   "outputs": [
    {
     "name": "stdout",
     "output_type": "stream",
     "text": [
      "The X co-ordinate for the blue line would be approx -25.638547706604005\n"
     ]
    }
   ],
   "source": [
    "bluedz=lc.loc[lc[\"zone\"]=='dz']\n",
    "xCord2=bluedz.xcoord.mean()\n",
    "print(\"The X co-ordinate for the blue line would be approx \" + str(xCord2))"
   ],
   "metadata": {
    "collapsed": false
   }
  },
  {
   "cell_type": "markdown",
   "id": "15e4e1f4",
   "metadata": {},
   "source": [
    "## Q4)\n",
    "### a) Create a subset of all shot attempts in the game and then with the plotting library of your choice, produce one scatter plot per team to illustrate where their shots were located and highlight any goals that were scored.\n",
    "### b) Describe in 2-4 sentences your findings for each team."
   ]
  },
  {
   "cell_type": "markdown",
   "id": "0ad99b06",
   "metadata": {},
   "source": [
    "## A4)\n",
    "### a)"
   ]
  },
  {
   "cell_type": "code",
   "execution_count": 10,
   "id": "639a3519",
   "metadata": {},
   "outputs": [],
   "source": [
    "goals = events_df[events_df[\"goal\"] == 1]"
   ]
  },
  {
   "cell_type": "code",
   "execution_count": 11,
   "outputs": [],
   "source": [
    "goals724 = goals[goals['teamid'] == 724]"
   ],
   "metadata": {
    "collapsed": false
   }
  },
  {
   "cell_type": "code",
   "execution_count": 12,
   "outputs": [],
   "source": [
    "goals596 = goals[goals['teamid'] == 596]"
   ],
   "metadata": {
    "collapsed": false
   }
  },
  {
   "cell_type": "code",
   "execution_count": 13,
   "outputs": [
    {
     "data": {
      "text/plain": "<Figure size 640x480 with 1 Axes>",
      "image/png": "[encoded data removed]"
     },
     "metadata": {},
     "output_type": "display_data"
    },
    {
     "name": "stdout",
     "output_type": "stream",
     "text": [
      "Blue color dots represent goals scored\n"
     ]
    }
   ],
   "source": [
    "shots724=TEvents724[TEvents724['eventname']=='shot']\n",
    "\n",
    "\n",
    "# Create the scatter plots\n",
    "plt.scatter(shots724['xcoord'], shots724['ycoord'], alpha=0.5,color='yellow')\n",
    "plt.scatter(goals724['xcoord'], goals724['ycoord'], alpha=0.5,color='blue')\n",
    "\n",
    "# add axis labels and title\n",
    "plt.xlabel('X-axis Label')\n",
    "plt.ylabel('Y-axis Label')\n",
    "plt.title('Shot Co-ordinates Team 724')\n",
    "\n",
    "plt.xlim([-60, 100])\n",
    "plt.ylim([-50, 50])\n",
    "# show plot\n",
    "plt.show()\n",
    "print(\"Blue color dots represent goals scored\")"
   ],
   "metadata": {
    "collapsed": false
   }
  },
  {
   "cell_type": "code",
   "execution_count": 14,
   "outputs": [
    {
     "data": {
      "text/plain": "<Figure size 640x480 with 1 Axes>",
      "image/png": "[encoded data removed]"
     },
     "metadata": {},
     "output_type": "display_data"
    },
    {
     "name": "stdout",
     "output_type": "stream",
     "text": [
      "Red color dots represent goals scored\n"
     ]
    }
   ],
   "source": [
    "shots596=TEvents596[TEvents596['eventname']=='shot']\n",
    "\n",
    "plt.scatter(shots596['xcoord'], shots596['ycoord'],alpha=0.5, color='green')\n",
    "plt.scatter(goals596['xcoord'], goals596['ycoord'], alpha=0.5,color='red')\n",
    "# add axis labels and title\n",
    "plt.xlabel('X-axis Label')\n",
    "plt.ylabel('Y-axis Label')\n",
    "plt.title('Shot Co-ordinates Team 596')\n",
    "\n",
    "plt.xlim([-60, 100])\n",
    "plt.ylim([-50, 50])\n",
    "# show plot\n",
    "plt.show()\n",
    "print(\"Red color dots represent goals scored\")"
   ],
   "metadata": {
    "collapsed": false
   }
  },
  {
   "cell_type": "markdown",
   "source": [
    "\n",
    "b)\n",
    "\n",
    "Findings for team 596- Team 596 had less shots than team 724, but they made sure that they were not taking unnecessary long-range shots and played sensibly and in an attackive manner. They took several very close-range shots against the opponent's goal which helped them build a lot of pressure inside their opponent's mind.\n",
    "\n",
    "\n",
    "\n",
    "Findings for team 724- Team 724 had a lot more shots attempted which shows how much attackive they were trying to play, but they wasted several chances by attempting long-range shots and because of this they were never able to create too much pressure around opponent's goal.\n",
    "\n"
   ],
   "metadata": {
    "collapsed": false
   }
  },
  {
   "cell_type": "markdown",
   "id": "c42be5fc",
   "metadata": {},
   "source": [
    "## Q5)\n",
    "### a) If the centre of the net that teams shoot at is located at xCoord=89, yCoord=0, create a column for the distance from each shot to this point. What is the distance of the furthest goal scored in the game?\n",
    "### b) What is the expected goals (xg) value of this furthest goal and what do you think contributed to this xg value?"
   ]
  },
  {
   "cell_type": "markdown",
   "id": "230ee416",
   "metadata": {},
   "source": [
    "## A5)\n",
    "### a)"
   ]
  },
  {
   "cell_type": "code",
   "execution_count": 15,
   "id": "7b9c6e2d",
   "metadata": {},
   "outputs": [],
   "source": [
    "# create a sample DataFrame with x and y coordinates\n",
    "shots=events_df[events_df['eventname']=='shot']"
   ]
  },
  {
   "cell_type": "code",
   "execution_count": 16,
   "outputs": [
    {
     "name": "stderr",
     "output_type": "stream",
     "text": [
      "C:\\Users\\shikh\\AppData\\Local\\Temp\\ipykernel_27700\\990079650.py:2: SettingWithCopyWarning: \n",
      "A value is trying to be set on a copy of a slice from a DataFrame.\n",
      "Try using .loc[row_indexer,col_indexer] = value instead\n",
      "\n",
      "See the caveats in the documentation: https://pandas.pydata.org/pandas-docs/stable/user_guide/indexing.html#returning-a-view-versus-a-copy\n",
      "  shots['distance'] = np.sqrt((shots['xcoord'] - 89)**2 + shots['ycoord']**2)\n"
     ]
    }
   ],
   "source": [
    "# calculate the distance using the formula\n",
    "shots['distance'] = np.sqrt((shots['xcoord'] - 89)**2 + shots['ycoord']**2)\n",
    "\n",
    "x=shots[shots['goal']==1]"
   ],
   "metadata": {
    "collapsed": false
   }
  },
  {
   "cell_type": "code",
   "execution_count": 17,
   "outputs": [
    {
     "name": "stdout",
     "output_type": "stream",
     "text": [
      "143.4863266591984 feet is the distance of furthest goal scored in the game\n"
     ]
    }
   ],
   "source": [
    "print(str(x['distance'].max())+\" feet is the distance of furthest goal scored in the game\")"
   ],
   "metadata": {
    "collapsed": false
   }
  },
  {
   "cell_type": "markdown",
   "source": [
    "b)"
   ],
   "metadata": {
    "collapsed": false
   }
  },
  {
   "cell_type": "code",
   "execution_count": 18,
   "outputs": [
    {
     "data": {
      "text/plain": "     gameid  teamid  opposingteamid  compiledgametime  playerid eventname  \\\n954   70632     596             724            1808.0    797810      shot   \n\n        outcome     type  possessionid zone     xcoord     ycoord  \\\n954  successful  outside           273   dz -49.090302  38.979412   \n\n     teamskatersonicecount  opposingteamskatersonicecount  goal  \\\n954                      4                              5     1   \n\n     team_net_empty  opponent_net_empty  scoredifferential    distance  \n954               0                   0                  2  143.486327  ",
      "text/html": "<div>\n<style scoped>\n    .dataframe tbody tr th:only-of-type {\n        vertical-align: middle;\n    }\n\n    .dataframe tbody tr th {\n        vertical-align: top;\n    }\n\n    .dataframe thead th {\n        text-align: right;\n    }\n</style>\n<table border=\"1\" class=\"dataframe\">\n  <thead>\n    <tr style=\"text-align: right;\">\n      <th></th>\n      <th>gameid</th>\n      <th>teamid</th>\n      <th>opposingteamid</th>\n      <th>compiledgametime</th>\n      <th>playerid</th>\n      <th>eventname</th>\n      <th>outcome</th>\n      <th>type</th>\n      <th>possessionid</th>\n      <th>zone</th>\n      <th>xcoord</th>\n      <th>ycoord</th>\n      <th>teamskatersonicecount</th>\n      <th>opposingteamskatersonicecount</th>\n      <th>goal</th>\n      <th>team_net_empty</th>\n      <th>opponent_net_empty</th>\n      <th>scoredifferential</th>\n      <th>distance</th>\n    </tr>\n  </thead>\n  <tbody>\n    <tr>\n      <th>954</th>\n      <td>70632</td>\n      <td>596</td>\n      <td>724</td>\n      <td>1808.0</td>\n      <td>797810</td>\n      <td>shot</td>\n      <td>successful</td>\n      <td>outside</td>\n      <td>273</td>\n      <td>dz</td>\n      <td>-49.090302</td>\n      <td>38.979412</td>\n      <td>4</td>\n      <td>5</td>\n      <td>1</td>\n      <td>0</td>\n      <td>0</td>\n      <td>2</td>\n      <td>143.486327</td>\n    </tr>\n  </tbody>\n</table>\n</div>"
     },
     "execution_count": 18,
     "metadata": {},
     "output_type": "execute_result"
    }
   ],
   "source": [
    "f=x[x['distance']==x['distance'].max()]\n",
    "f"
   ],
   "metadata": {
    "collapsed": false
   }
  },
  {
   "cell_type": "code",
   "execution_count": 19,
   "outputs": [
    {
     "data": {
      "text/plain": "    teamid  compiledgametime  playerid        xg\n34     596            1808.0    797810  0.004219",
      "text/html": "<div>\n<style scoped>\n    .dataframe tbody tr th:only-of-type {\n        vertical-align: middle;\n    }\n\n    .dataframe tbody tr th {\n        vertical-align: top;\n    }\n\n    .dataframe thead th {\n        text-align: right;\n    }\n</style>\n<table border=\"1\" class=\"dataframe\">\n  <thead>\n    <tr style=\"text-align: right;\">\n      <th></th>\n      <th>teamid</th>\n      <th>compiledgametime</th>\n      <th>playerid</th>\n      <th>xg</th>\n    </tr>\n  </thead>\n  <tbody>\n    <tr>\n      <th>34</th>\n      <td>596</td>\n      <td>1808.0</td>\n      <td>797810</td>\n      <td>0.004219</td>\n    </tr>\n  </tbody>\n</table>\n</div>"
     },
     "execution_count": 19,
     "metadata": {},
     "output_type": "execute_result"
    }
   ],
   "source": [
    "g=xg_df[xg_df['compiledgametime']==float(f.compiledgametime)]\n",
    "g"
   ],
   "metadata": {
    "collapsed": false
   }
  },
  {
   "cell_type": "code",
   "execution_count": 20,
   "outputs": [
    {
     "data": {
      "text/plain": "34    0.004219\nName: xg, dtype: float64"
     },
     "execution_count": 20,
     "metadata": {},
     "output_type": "execute_result"
    }
   ],
   "source": [
    "xg_furthest=g.xg\n",
    "xg_furthest"
   ],
   "metadata": {
    "collapsed": false
   }
  },
  {
   "cell_type": "markdown",
   "source": [
    "The value of xg for the furthest goal in the game is .004219.\n",
    "The distance to the goal, the fact that the opponent's net was not empty at that moment and they were playing with the disadvantage of one less player on ice were all of the factors that contributed to a very low expected goal score."
   ],
   "metadata": {
    "collapsed": false
   }
  },
  {
   "cell_type": "markdown",
   "id": "7fd43684",
   "metadata": {},
   "source": [
    "## Q6)\n",
    "### a) If a \"Shot Assist\" is defined as a sequence of events with the same possessionid where there is: 1) a successful pass followed by 2) a successful reception by a teammate and then without giving up the puck 3) the receiving player has a shot attempt, create a column flagging shots that have a Shot Assist. Which player(s) had the most assisted shots in the game and how many assisted shots did they have?\n",
    "\n",
    "### Hint: This can be done using iterrows() or using shift() logic. Consider if you should include ALL event rows and beware of sorting!"
   ]
  },
  {
   "cell_type": "markdown",
   "id": "c60cf07b",
   "metadata": {},
   "source": [
    "## A6)\n",
    "### a)"
   ]
  },
  {
   "cell_type": "code",
   "execution_count": 21,
   "id": "652b0c8f",
   "metadata": {},
   "outputs": [],
   "source": [
    "# create a new column 'Shot Assist' with all values as 0\n",
    "events_df['Shot Assist'] = 0\n",
    "dataf=events_df.sort_values('compiledgametime', ascending=True)"
   ]
  },
  {
   "cell_type": "code",
   "execution_count": 22,
   "outputs": [
    {
     "name": "stdout",
     "output_type": "stream",
     "text": [
      "Player(s) with the most assisted shots: [485421]\n",
      "Assisted shots: 3\n"
     ]
    }
   ],
   "source": [
    "\n",
    "# Create a new column to flag shots with a Shot Assist\n",
    "dataf['Shot Assist'] = False\n",
    "\n",
    "# Group events by possession id and iterate over each group\n",
    "for i, row in dataf.iterrows():\n",
    "        # Check if the current event is a successful pass\n",
    "        if row['eventname'] == 'pass' and row['outcome'] == 'successful':\n",
    "            # Check if the next event is a successful reception by a teammate\n",
    "            next_row = dataf.iloc[i+1] if i+1 < len(dataf) else None\n",
    "            if next_row is not None and next_row['eventname'] == 'reception' and next_row['outcome'] == 'successful':\n",
    "                # Check if the next event is a shot attempt by the receiving player\n",
    "                next_next_row = dataf.iloc[i+2] if i+2 < len(dataf) else None\n",
    "                if next_next_row is not None and next_next_row['eventname'] == 'shot'  and next_next_row['playerid'] == next_row['playerid']:\n",
    "                    # Flag the shot with a Shot Assist\n",
    "                    dataf.loc[next_next_row.name, 'Shot Assist'] = True\n",
    "\n",
    "# Find the player(s) with the most assisted shots\n",
    "top_players = dataf.loc[dataf['Shot Assist'] == True, 'playerid'].value_counts()\n",
    "max_assisted_shots = top_players.max()\n",
    "top_players = top_players[top_players == max_assisted_shots].index.tolist()\n",
    "\n",
    "# Print the results\n",
    "print('Player(s) with the most assisted shots:', top_players)\n",
    "print('Assisted shots:', max_assisted_shots)\n"
   ],
   "metadata": {
    "collapsed": false
   }
  },
  {
   "cell_type": "code",
   "execution_count": 23,
   "outputs": [],
   "source": [
    "#dataf[dataf['playerid']==485421] #for cross-checking the output"
   ],
   "metadata": {
    "collapsed": false
   }
  },
  {
   "cell_type": "markdown",
   "id": "c6779d7f",
   "metadata": {},
   "source": [
    "## Q7)\n",
    "### a) What is highest xg among the goals that were scored and why do you think it was this high? \n",
    "### b) Did this goal have a shot assist?"
   ]
  },
  {
   "cell_type": "markdown",
   "id": "b13b8f8b",
   "metadata": {},
   "source": [
    "## A7)\n",
    "### a)"
   ]
  },
  {
   "cell_type": "code",
   "execution_count": 24,
   "id": "00833bad",
   "metadata": {},
   "outputs": [
    {
     "data": {
      "text/plain": "    gameid  teamid  opposingteamid  compiledgametime  playerid eventname  \\\n9    70632     724             596        3424.83330    698619      shot   \n30   70632     596             724        1808.00000    797810      shot   \n32   70632     596             724         793.26666    797810      shot   \n41   70632     596             724         675.66670    424862      shot   \n46   70632     596             724        3553.50000    290779      shot   \n\n       outcome     type  possessionid zone     xcoord     ycoord  \\\n9   successful     slot           529   oz  73.132271  17.066551   \n30  successful  outside           273   dz -49.090302  38.979412   \n32  successful     slot           126   oz  80.266541   2.261765   \n41  successful     slot           110   oz  76.243011  -7.797058   \n46  successful  outside           555   oz  46.072662   6.285294   \n\n    teamskatersonicecount  opposingteamskatersonicecount  goal  \\\n9                       6                              5     1   \n30                      4                              5     1   \n32                      5                              5     1   \n41                      5                              5     1   \n46                      4                              6     1   \n\n    team_net_empty  opponent_net_empty  scoredifferential        xg  \n9                1                   0                 -3  0.087426  \n30               0                   0                  2  0.004219  \n32               0                   0                  1  0.484870  \n41               0                   0                  0  0.125413  \n46               0                   1                  2  0.999535  ",
      "text/html": "<div>\n<style scoped>\n    .dataframe tbody tr th:only-of-type {\n        vertical-align: middle;\n    }\n\n    .dataframe tbody tr th {\n        vertical-align: top;\n    }\n\n    .dataframe thead th {\n        text-align: right;\n    }\n</style>\n<table border=\"1\" class=\"dataframe\">\n  <thead>\n    <tr style=\"text-align: right;\">\n      <th></th>\n      <th>gameid</th>\n      <th>teamid</th>\n      <th>opposingteamid</th>\n      <th>compiledgametime</th>\n      <th>playerid</th>\n      <th>eventname</th>\n      <th>outcome</th>\n      <th>type</th>\n      <th>possessionid</th>\n      <th>zone</th>\n      <th>xcoord</th>\n      <th>ycoord</th>\n      <th>teamskatersonicecount</th>\n      <th>opposingteamskatersonicecount</th>\n      <th>goal</th>\n      <th>team_net_empty</th>\n      <th>opponent_net_empty</th>\n      <th>scoredifferential</th>\n      <th>xg</th>\n    </tr>\n  </thead>\n  <tbody>\n    <tr>\n      <th>9</th>\n      <td>70632</td>\n      <td>724</td>\n      <td>596</td>\n      <td>3424.83330</td>\n      <td>698619</td>\n      <td>shot</td>\n      <td>successful</td>\n      <td>slot</td>\n      <td>529</td>\n      <td>oz</td>\n      <td>73.132271</td>\n      <td>17.066551</td>\n      <td>6</td>\n      <td>5</td>\n      <td>1</td>\n      <td>1</td>\n      <td>0</td>\n      <td>-3</td>\n      <td>0.087426</td>\n    </tr>\n    <tr>\n      <th>30</th>\n      <td>70632</td>\n      <td>596</td>\n      <td>724</td>\n      <td>1808.00000</td>\n      <td>797810</td>\n      <td>shot</td>\n      <td>successful</td>\n      <td>outside</td>\n      <td>273</td>\n      <td>dz</td>\n      <td>-49.090302</td>\n      <td>38.979412</td>\n      <td>4</td>\n      <td>5</td>\n      <td>1</td>\n      <td>0</td>\n      <td>0</td>\n      <td>2</td>\n      <td>0.004219</td>\n    </tr>\n    <tr>\n      <th>32</th>\n      <td>70632</td>\n      <td>596</td>\n      <td>724</td>\n      <td>793.26666</td>\n      <td>797810</td>\n      <td>shot</td>\n      <td>successful</td>\n      <td>slot</td>\n      <td>126</td>\n      <td>oz</td>\n      <td>80.266541</td>\n      <td>2.261765</td>\n      <td>5</td>\n      <td>5</td>\n      <td>1</td>\n      <td>0</td>\n      <td>0</td>\n      <td>1</td>\n      <td>0.484870</td>\n    </tr>\n    <tr>\n      <th>41</th>\n      <td>70632</td>\n      <td>596</td>\n      <td>724</td>\n      <td>675.66670</td>\n      <td>424862</td>\n      <td>shot</td>\n      <td>successful</td>\n      <td>slot</td>\n      <td>110</td>\n      <td>oz</td>\n      <td>76.243011</td>\n      <td>-7.797058</td>\n      <td>5</td>\n      <td>5</td>\n      <td>1</td>\n      <td>0</td>\n      <td>0</td>\n      <td>0</td>\n      <td>0.125413</td>\n    </tr>\n    <tr>\n      <th>46</th>\n      <td>70632</td>\n      <td>596</td>\n      <td>724</td>\n      <td>3553.50000</td>\n      <td>290779</td>\n      <td>shot</td>\n      <td>successful</td>\n      <td>outside</td>\n      <td>555</td>\n      <td>oz</td>\n      <td>46.072662</td>\n      <td>6.285294</td>\n      <td>4</td>\n      <td>6</td>\n      <td>1</td>\n      <td>0</td>\n      <td>1</td>\n      <td>2</td>\n      <td>0.999535</td>\n    </tr>\n  </tbody>\n</table>\n</div>"
     },
     "execution_count": 24,
     "metadata": {},
     "output_type": "execute_result"
    }
   ],
   "source": [
    "goal_xg=merged_df[merged_df['goal']==1]\n",
    "goal_xg"
   ]
  },
  {
   "cell_type": "code",
   "execution_count": 25,
   "outputs": [
    {
     "data": {
      "text/plain": "0.999534607"
     },
     "execution_count": 25,
     "metadata": {},
     "output_type": "execute_result"
    }
   ],
   "source": [
    "maxi=goal_xg.xg.max()\n",
    "maxi"
   ],
   "metadata": {
    "collapsed": false
   }
  },
  {
   "cell_type": "code",
   "execution_count": 26,
   "outputs": [
    {
     "data": {
      "text/plain": "    gameid  teamid  opposingteamid  compiledgametime  playerid eventname  \\\n46   70632     596             724            3553.5    290779      shot   \n\n       outcome     type  possessionid zone     xcoord    ycoord  \\\n46  successful  outside           555   oz  46.072662  6.285294   \n\n    teamskatersonicecount  opposingteamskatersonicecount  goal  \\\n46                      4                              6     1   \n\n    team_net_empty  opponent_net_empty  scoredifferential        xg  \n46               0                   1                  2  0.999535  ",
      "text/html": "<div>\n<style scoped>\n    .dataframe tbody tr th:only-of-type {\n        vertical-align: middle;\n    }\n\n    .dataframe tbody tr th {\n        vertical-align: top;\n    }\n\n    .dataframe thead th {\n        text-align: right;\n    }\n</style>\n<table border=\"1\" class=\"dataframe\">\n  <thead>\n    <tr style=\"text-align: right;\">\n      <th></th>\n      <th>gameid</th>\n      <th>teamid</th>\n      <th>opposingteamid</th>\n      <th>compiledgametime</th>\n      <th>playerid</th>\n      <th>eventname</th>\n      <th>outcome</th>\n      <th>type</th>\n      <th>possessionid</th>\n      <th>zone</th>\n      <th>xcoord</th>\n      <th>ycoord</th>\n      <th>teamskatersonicecount</th>\n      <th>opposingteamskatersonicecount</th>\n      <th>goal</th>\n      <th>team_net_empty</th>\n      <th>opponent_net_empty</th>\n      <th>scoredifferential</th>\n      <th>xg</th>\n    </tr>\n  </thead>\n  <tbody>\n    <tr>\n      <th>46</th>\n      <td>70632</td>\n      <td>596</td>\n      <td>724</td>\n      <td>3553.5</td>\n      <td>290779</td>\n      <td>shot</td>\n      <td>successful</td>\n      <td>outside</td>\n      <td>555</td>\n      <td>oz</td>\n      <td>46.072662</td>\n      <td>6.285294</td>\n      <td>4</td>\n      <td>6</td>\n      <td>1</td>\n      <td>0</td>\n      <td>1</td>\n      <td>2</td>\n      <td>0.999535</td>\n    </tr>\n  </tbody>\n</table>\n</div>"
     },
     "execution_count": 26,
     "metadata": {},
     "output_type": "execute_result"
    }
   ],
   "source": [
    "max_xgRow=merged_df[merged_df['xg']==maxi]\n",
    "max_xgRow"
   ],
   "metadata": {
    "collapsed": false
   }
  },
  {
   "cell_type": "markdown",
   "source": [
    "The xg was so high because looking at the data we can see that after a successful pass and reception, opponents lost the puck in their defensive zone. This gave chance to team 596 to gain the possession directly in their offensive zone and make a quick play towards their opponent's net."
   ],
   "metadata": {
    "collapsed": false
   }
  },
  {
   "cell_type": "markdown",
   "source": [
    "b)"
   ],
   "metadata": {
    "collapsed": false
   }
  },
  {
   "cell_type": "code",
   "execution_count": 27,
   "outputs": [
    {
     "data": {
      "text/plain": "      gameid  teamid  opposingteamid  compiledgametime  playerid eventname  \\\n1323   70632     596             724            3553.5    290779      shot   \n\n         outcome     type  possessionid zone     xcoord    ycoord  \\\n1323  successful  outside           555   oz  46.072662  6.285294   \n\n      teamskatersonicecount  opposingteamskatersonicecount  goal  \\\n1323                      4                              6     1   \n\n      team_net_empty  opponent_net_empty  scoredifferential  Shot Assist  \n1323               0                   1                  2        False  ",
      "text/html": "<div>\n<style scoped>\n    .dataframe tbody tr th:only-of-type {\n        vertical-align: middle;\n    }\n\n    .dataframe tbody tr th {\n        vertical-align: top;\n    }\n\n    .dataframe thead th {\n        text-align: right;\n    }\n</style>\n<table border=\"1\" class=\"dataframe\">\n  <thead>\n    <tr style=\"text-align: right;\">\n      <th></th>\n      <th>gameid</th>\n      <th>teamid</th>\n      <th>opposingteamid</th>\n      <th>compiledgametime</th>\n      <th>playerid</th>\n      <th>eventname</th>\n      <th>outcome</th>\n      <th>type</th>\n      <th>possessionid</th>\n      <th>zone</th>\n      <th>xcoord</th>\n      <th>ycoord</th>\n      <th>teamskatersonicecount</th>\n      <th>opposingteamskatersonicecount</th>\n      <th>goal</th>\n      <th>team_net_empty</th>\n      <th>opponent_net_empty</th>\n      <th>scoredifferential</th>\n      <th>Shot Assist</th>\n    </tr>\n  </thead>\n  <tbody>\n    <tr>\n      <th>1323</th>\n      <td>70632</td>\n      <td>596</td>\n      <td>724</td>\n      <td>3553.5</td>\n      <td>290779</td>\n      <td>shot</td>\n      <td>successful</td>\n      <td>outside</td>\n      <td>555</td>\n      <td>oz</td>\n      <td>46.072662</td>\n      <td>6.285294</td>\n      <td>4</td>\n      <td>6</td>\n      <td>1</td>\n      <td>0</td>\n      <td>1</td>\n      <td>2</td>\n      <td>False</td>\n    </tr>\n  </tbody>\n</table>\n</div>"
     },
     "execution_count": 27,
     "metadata": {},
     "output_type": "execute_result"
    }
   ],
   "source": [
    "k=dataf[dataf['compiledgametime']==float(3553.5)]\n",
    "k"
   ],
   "metadata": {
    "collapsed": false
   }
  },
  {
   "cell_type": "markdown",
   "source": [
    "No, this goal wasn't an assisted shot.(looking at the sorted data(dataf) at the complied time 3553.5. The Shot Assist value is false in k."
   ],
   "metadata": {
    "collapsed": false
   }
  },
  {
   "cell_type": "markdown",
   "id": "78a1e7c5",
   "metadata": {},
   "source": [
    "## Q8) \n",
    "### a) Consider other shots with high xg values, without engineering any additional features (aside from the columns you've already been asked to create in the questions above), use a statistical technique of your choice to show the highest predictors of a goal within this dataset.\n",
    "### b) Please explain your reasoning for choosing this technique and explain your findings\n",
    "\n",
    "### Hint: look back at the columns you were asked to create, along with the columns already provided in the event dataset, what would lead to dangerous shot attempts?"
   ]
  },
  {
   "cell_type": "markdown",
   "id": "16fba9ea",
   "metadata": {},
   "source": [
    "## A8)\n",
    "### a)"
   ]
  },
  {
   "cell_type": "code",
   "execution_count": 28,
   "outputs": [
    {
     "data": {
      "text/plain": "   gameid  teamid  opposingteamid  compiledgametime  playerid eventname  \\\n0   70632     724             596         406.13333    698619      shot   \n1   70632     596             724        2077.86670    812630      shot   \n2   70632     596             724        1026.56670    828703      shot   \n3   70632     596             724        2468.10000    797810      shot   \n4   70632     724             596        1403.63330    183489      shot   \n\n      outcome     type  possessionid zone     xcoord     ycoord  \\\n0  successful  outside            66   oz  43.188061  16.619492   \n1  successful     slot           312   oz  71.615578  11.820587   \n2  successful  outside           160   oz  50.096191  19.864708   \n3  successful     slot           375   oz  84.241180   4.776470   \n4  successful     slot           218   oz  69.710892  -0.252941   \n\n   teamskatersonicecount  opposingteamskatersonicecount  goal  team_net_empty  \\\n0                      5                              5     0               0   \n1                      5                              5     0               0   \n2                      5                              4     0               0   \n3                      5                              5     0               0   \n4                      5                              5     0               0   \n\n   opponent_net_empty  scoredifferential   distance        xg  \n0                   0                  0  48.733369  0.033468  \n1                   0                  3  21.022474  0.119066  \n2                   0                  2  43.681952  0.114808  \n3                   0                  3   6.742480  0.041450  \n4                   0                 -2  19.290767  0.138980  ",
      "text/html": "<div>\n<style scoped>\n    .dataframe tbody tr th:only-of-type {\n        vertical-align: middle;\n    }\n\n    .dataframe tbody tr th {\n        vertical-align: top;\n    }\n\n    .dataframe thead th {\n        text-align: right;\n    }\n</style>\n<table border=\"1\" class=\"dataframe\">\n  <thead>\n    <tr style=\"text-align: right;\">\n      <th></th>\n      <th>gameid</th>\n      <th>teamid</th>\n      <th>opposingteamid</th>\n      <th>compiledgametime</th>\n      <th>playerid</th>\n      <th>eventname</th>\n      <th>outcome</th>\n      <th>type</th>\n      <th>possessionid</th>\n      <th>zone</th>\n      <th>xcoord</th>\n      <th>ycoord</th>\n      <th>teamskatersonicecount</th>\n      <th>opposingteamskatersonicecount</th>\n      <th>goal</th>\n      <th>team_net_empty</th>\n      <th>opponent_net_empty</th>\n      <th>scoredifferential</th>\n      <th>distance</th>\n      <th>xg</th>\n    </tr>\n  </thead>\n  <tbody>\n    <tr>\n      <th>0</th>\n      <td>70632</td>\n      <td>724</td>\n      <td>596</td>\n      <td>406.13333</td>\n      <td>698619</td>\n      <td>shot</td>\n      <td>successful</td>\n      <td>outside</td>\n      <td>66</td>\n      <td>oz</td>\n      <td>43.188061</td>\n      <td>16.619492</td>\n      <td>5</td>\n      <td>5</td>\n      <td>0</td>\n      <td>0</td>\n      <td>0</td>\n      <td>0</td>\n      <td>48.733369</td>\n      <td>0.033468</td>\n    </tr>\n    <tr>\n      <th>1</th>\n      <td>70632</td>\n      <td>596</td>\n      <td>724</td>\n      <td>2077.86670</td>\n      <td>812630</td>\n      <td>shot</td>\n      <td>successful</td>\n      <td>slot</td>\n      <td>312</td>\n      <td>oz</td>\n      <td>71.615578</td>\n      <td>11.820587</td>\n      <td>5</td>\n      <td>5</td>\n      <td>0</td>\n      <td>0</td>\n      <td>0</td>\n      <td>3</td>\n      <td>21.022474</td>\n      <td>0.119066</td>\n    </tr>\n    <tr>\n      <th>2</th>\n      <td>70632</td>\n      <td>596</td>\n      <td>724</td>\n      <td>1026.56670</td>\n      <td>828703</td>\n      <td>shot</td>\n      <td>successful</td>\n      <td>outside</td>\n      <td>160</td>\n      <td>oz</td>\n      <td>50.096191</td>\n      <td>19.864708</td>\n      <td>5</td>\n      <td>4</td>\n      <td>0</td>\n      <td>0</td>\n      <td>0</td>\n      <td>2</td>\n      <td>43.681952</td>\n      <td>0.114808</td>\n    </tr>\n    <tr>\n      <th>3</th>\n      <td>70632</td>\n      <td>596</td>\n      <td>724</td>\n      <td>2468.10000</td>\n      <td>797810</td>\n      <td>shot</td>\n      <td>successful</td>\n      <td>slot</td>\n      <td>375</td>\n      <td>oz</td>\n      <td>84.241180</td>\n      <td>4.776470</td>\n      <td>5</td>\n      <td>5</td>\n      <td>0</td>\n      <td>0</td>\n      <td>0</td>\n      <td>3</td>\n      <td>6.742480</td>\n      <td>0.041450</td>\n    </tr>\n    <tr>\n      <th>4</th>\n      <td>70632</td>\n      <td>724</td>\n      <td>596</td>\n      <td>1403.63330</td>\n      <td>183489</td>\n      <td>shot</td>\n      <td>successful</td>\n      <td>slot</td>\n      <td>218</td>\n      <td>oz</td>\n      <td>69.710892</td>\n      <td>-0.252941</td>\n      <td>5</td>\n      <td>5</td>\n      <td>0</td>\n      <td>0</td>\n      <td>0</td>\n      <td>-2</td>\n      <td>19.290767</td>\n      <td>0.138980</td>\n    </tr>\n  </tbody>\n</table>\n</div>"
     },
     "execution_count": 28,
     "metadata": {},
     "output_type": "execute_result"
    }
   ],
   "source": [
    "mod_df = pd.merge(shots, xg_df, on=('compiledgametime','teamid','playerid'))\n",
    "mod_df.head()"
   ],
   "metadata": {
    "collapsed": false
   }
  },
  {
   "cell_type": "code",
   "execution_count": 29,
   "outputs": [
    {
     "data": {
      "text/plain": "    gameid  teamid  opposingteamid  compiledgametime  playerid eventname  \\\n11   70632     724             596         235.26666    838211      shot   \n20   70632     596             724        3129.66670    815413      shot   \n26   70632     724             596         298.43332    677394      shot   \n31   70632     596             724        3170.56670    511560      shot   \n32   70632     596             724         793.26666    797810      shot   \n\n       outcome  type  possessionid zone  ...     ycoord  \\\n11  successful  slot            33   oz  ...   1.754787   \n20  successful  slot           473   oz  ...   0.250000   \n26  successful  slot            46   oz  ... -17.356979   \n31  successful  slot           481   oz  ...  -9.305882   \n32  successful  slot           126   oz  ...   2.261765   \n\n    teamskatersonicecount  opposingteamskatersonicecount  goal  \\\n11                      5                              5     0   \n20                      5                              5     0   \n26                      5                              5     0   \n31                      5                              5     0   \n32                      5                              5     1   \n\n    team_net_empty  opponent_net_empty  scoredifferential   distance  \\\n11               0                   0                  0   9.493086   \n20               0                   0                  3  25.831166   \n26               0                   0                  0  29.958138   \n31               0                   0                  3  20.070647   \n32               0                   0                  1   9.021579   \n\n          xg  is_goal  \n11  0.406377        0  \n20  0.214988        0  \n26  0.204156        0  \n31  0.226710        0  \n32  0.484870        1  \n\n[5 rows x 21 columns]",
      "text/html": "<div>\n<style scoped>\n    .dataframe tbody tr th:only-of-type {\n        vertical-align: middle;\n    }\n\n    .dataframe tbody tr th {\n        vertical-align: top;\n    }\n\n    .dataframe thead th {\n        text-align: right;\n    }\n</style>\n<table border=\"1\" class=\"dataframe\">\n  <thead>\n    <tr style=\"text-align: right;\">\n      <th></th>\n      <th>gameid</th>\n      <th>teamid</th>\n      <th>opposingteamid</th>\n      <th>compiledgametime</th>\n      <th>playerid</th>\n      <th>eventname</th>\n      <th>outcome</th>\n      <th>type</th>\n      <th>possessionid</th>\n      <th>zone</th>\n      <th>...</th>\n      <th>ycoord</th>\n      <th>teamskatersonicecount</th>\n      <th>opposingteamskatersonicecount</th>\n      <th>goal</th>\n      <th>team_net_empty</th>\n      <th>opponent_net_empty</th>\n      <th>scoredifferential</th>\n      <th>distance</th>\n      <th>xg</th>\n      <th>is_goal</th>\n    </tr>\n  </thead>\n  <tbody>\n    <tr>\n      <th>11</th>\n      <td>70632</td>\n      <td>724</td>\n      <td>596</td>\n      <td>235.26666</td>\n      <td>838211</td>\n      <td>shot</td>\n      <td>successful</td>\n      <td>slot</td>\n      <td>33</td>\n      <td>oz</td>\n      <td>...</td>\n      <td>1.754787</td>\n      <td>5</td>\n      <td>5</td>\n      <td>0</td>\n      <td>0</td>\n      <td>0</td>\n      <td>0</td>\n      <td>9.493086</td>\n      <td>0.406377</td>\n      <td>0</td>\n    </tr>\n    <tr>\n      <th>20</th>\n      <td>70632</td>\n      <td>596</td>\n      <td>724</td>\n      <td>3129.66670</td>\n      <td>815413</td>\n      <td>shot</td>\n      <td>successful</td>\n      <td>slot</td>\n      <td>473</td>\n      <td>oz</td>\n      <td>...</td>\n      <td>0.250000</td>\n      <td>5</td>\n      <td>5</td>\n      <td>0</td>\n      <td>0</td>\n      <td>0</td>\n      <td>3</td>\n      <td>25.831166</td>\n      <td>0.214988</td>\n      <td>0</td>\n    </tr>\n    <tr>\n      <th>26</th>\n      <td>70632</td>\n      <td>724</td>\n      <td>596</td>\n      <td>298.43332</td>\n      <td>677394</td>\n      <td>shot</td>\n      <td>successful</td>\n      <td>slot</td>\n      <td>46</td>\n      <td>oz</td>\n      <td>...</td>\n      <td>-17.356979</td>\n      <td>5</td>\n      <td>5</td>\n      <td>0</td>\n      <td>0</td>\n      <td>0</td>\n      <td>0</td>\n      <td>29.958138</td>\n      <td>0.204156</td>\n      <td>0</td>\n    </tr>\n    <tr>\n      <th>31</th>\n      <td>70632</td>\n      <td>596</td>\n      <td>724</td>\n      <td>3170.56670</td>\n      <td>511560</td>\n      <td>shot</td>\n      <td>successful</td>\n      <td>slot</td>\n      <td>481</td>\n      <td>oz</td>\n      <td>...</td>\n      <td>-9.305882</td>\n      <td>5</td>\n      <td>5</td>\n      <td>0</td>\n      <td>0</td>\n      <td>0</td>\n      <td>3</td>\n      <td>20.070647</td>\n      <td>0.226710</td>\n      <td>0</td>\n    </tr>\n    <tr>\n      <th>32</th>\n      <td>70632</td>\n      <td>596</td>\n      <td>724</td>\n      <td>793.26666</td>\n      <td>797810</td>\n      <td>shot</td>\n      <td>successful</td>\n      <td>slot</td>\n      <td>126</td>\n      <td>oz</td>\n      <td>...</td>\n      <td>2.261765</td>\n      <td>5</td>\n      <td>5</td>\n      <td>1</td>\n      <td>0</td>\n      <td>0</td>\n      <td>1</td>\n      <td>9.021579</td>\n      <td>0.484870</td>\n      <td>1</td>\n    </tr>\n  </tbody>\n</table>\n<p>5 rows × 21 columns</p>\n</div>"
     },
     "execution_count": 29,
     "metadata": {},
     "output_type": "execute_result"
    }
   ],
   "source": [
    "# Filter the dataset to only include shots with xG values greater than or equal to 0.2\n",
    "mod_df['is_goal'] = np.where(mod_df['goal'] == 1, 1, 0)\n",
    "high_xg_shots = mod_df[mod_df['xg'] >= 0.2]\n",
    "high_xg_shots.head()"
   ],
   "metadata": {
    "collapsed": false
   }
  },
  {
   "cell_type": "code",
   "execution_count": 31,
   "outputs": [
    {
     "name": "stdout",
     "output_type": "stream",
     "text": [
      "[[0.07704571]]\n"
     ]
    }
   ],
   "source": [
    "# Fit a logistic regression model to the filtered dataset\n",
    "model = LogisticRegression().fit(high_xg_shots[['distance']], high_xg_shots['is_goal'])\n",
    "\n",
    "# Print the coefficients of the logistic regression model\n",
    "print(model.coef_)\n"
   ],
   "metadata": {
    "collapsed": false
   }
  },
  {
   "cell_type": "markdown",
   "source": [
    "b)\n",
    "\n",
    "To determine the highest predictors of a goal within the dataset, I used logistic regression, a statistical technique commonly used to model binary outcomes such as whether or not a shot resulted in a goal.\n",
    "\n",
    "The output of this code is be a single coefficient representing the weight of 'distance' variable in the logistic regression model. If the coefficient is positive, it indicates that as shot distance increases, the likelihood of scoring a goal also increases for shots with high xg values. If the coefficient is negative, it indicates the opposite.\n",
    "\n",
    "Based on my understanding of hockey and the factors that lead to dangerous shot attempts, I believe that shot distance is likely to be the best predictor of a goal. This is because shots taken from closer to the goal are generally easier to score than shots taken from further away. Additionally, players are more likely to take shots from closer to the goal, so there may be a correlation between shot distance and the likelihood of scoring a goal.\n",
    "\n",
    "The logistic regression model confirms this hypothesis, as the coefficient for shot distance is likely to be positive, indicating that as shot distance increases for high xg value shots, the likelihood of scoring a goal also increases.\n",
    "\n",
    "However, it's important to note that this is only one statistical technique and that other techniques or additional features could yield different results."
   ],
   "metadata": {
    "collapsed": false
   }
  },
  {
   "cell_type": "markdown",
   "id": "720c25a5",
   "metadata": {},
   "source": [
    "# Before you submit:"
   ]
  },
  {
   "cell_type": "markdown",
   "id": "5ef70791",
   "metadata": {},
   "source": [
    "Please check that you have answered all questions (and sub-questions) to the best of your ability and that every answer can be clearly traced back to work that is shown. If you were unable to produce an answer, please describe and show the work you tried.\n",
    "\n",
    "Thanks for your time, effort and interest!"
   ]
  }
 ],
 "metadata": {
  "kernelspec": {
   "display_name": "Python 3",
   "language": "python",
   "name": "python3"
  },
  "language_info": {
   "codemirror_mode": {
    "name": "ipython",
    "version": 3
   },
   "file_extension": ".py",
   "mimetype": "text/x-python",
   "name": "python",
   "nbconvert_exporter": "python",
   "pygments_lexer": "ipython3",
   "version": "3.6.9"
  }
 },
 "nbformat": 4,
 "nbformat_minor": 5
}
